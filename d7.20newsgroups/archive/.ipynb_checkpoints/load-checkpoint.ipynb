{
 "cells": [
  {
   "cell_type": "code",
   "execution_count": null,
   "id": "c2d69aac-200d-42e0-b55e-37c1474199a6",
   "metadata": {},
   "outputs": [],
   "source": [
    "import pandas as pd\n",
    "import numpy as np\n",
    "from neo4j import GraphDatabase"
   ]
  },
  {
   "cell_type": "code",
   "execution_count": null,
   "id": "cce2e5b4-622e-42e9-bb17-d14280217d84",
   "metadata": {},
   "outputs": [],
   "source": [
    "# Reading back the saved file\n",
    "csv_file_path = \"data/20newsgroups_full.csv\"\n",
    "data = pd.read_csv(csv_file_path)\n",
    "\n",
    "# Displaying the first few rows of the combined data\n",
    "print(data)"
   ]
  },
  {
   "cell_type": "code",
   "execution_count": null,
   "id": "6d9ad67c-ede7-4022-843b-60ed52c930af",
   "metadata": {},
   "outputs": [],
   "source": [
    "# Separate the data by class (target labels)\n",
    "classes = data['target'].unique()\n",
    "class_data = {label: data[data['target'] == label] for label in classes}\n",
    "\n",
    "# Check the number of samples in each class\n",
    "for label in classes:\n",
    "    print(f\"Class {label} has {class_data[label].shape[0]} samples.\")\n",
    "\n",
    "# Determine the number of classes\n",
    "num_classes = len(classes)\n",
    "\n",
    "# Create the subdataset with 8000 samples\n",
    "samples_per_class_8000 = 8000 // num_classes  # Number of samples per class\n",
    "subdataset_8000 = pd.concat([class_data[label].sample(samples_per_class_8000, random_state=42) for label in classes])\n",
    "\n",
    "# Create the subdataset with 14000 samples\n",
    "samples_per_class_14000 = 14000 // num_classes  # Number of samples per class\n",
    "subdataset_14000 = pd.concat([class_data[label].sample(samples_per_class_14000, random_state=42) for label in classes])\n",
    "\n",
    "# The full dataset is the entire dataset read from the CSV\n",
    "subdataset_full = data\n",
    "\n",
    "# Display the class distributions for each subdataset\n",
    "print(\"Subdataset 8000 samples class distribution:\\n\", subdataset_8000['target'].value_counts())\n",
    "print(\"Subdataset 14000 samples class distribution:\\n\", subdataset_14000['target'].value_counts())\n",
    "print(\"Full dataset class distribution:\\n\", subdataset_full['target'].value_counts())"
   ]
  },
  {
   "cell_type": "code",
   "execution_count": null,
   "id": "1d756050-18c8-43da-abc0-bf03093812d8",
   "metadata": {},
   "outputs": [],
   "source": [
    "# \"First Create an empty database, within a project\"\n",
    "\n",
    "uri = \"bolt://localhost:7687\"\n",
    "username = \"neo4j\" # username for Neo4j, most probably is Neo4j, if you did not change while installing Neo4j Desktop\n",
    "password = \"eigen1234\" # Password for database.\n",
    "database_name = \"d7.newsgroups\"  # Database name\n",
    "\n",
    "driver = GraphDatabase.driver(uri, auth=(username, password))"
   ]
  },
  {
   "cell_type": "code",
   "execution_count": null,
   "id": "5b5982c1-51d2-47d3-b4e5-391d4a6cecce",
   "metadata": {},
   "outputs": [],
   "source": [
    "def check_connection():\n",
    "    try:\n",
    "        # Establish a session with the specified database\n",
    "        with driver.session(database=database_name) as session:\n",
    "            # Run a simple query to check the connection\n",
    "            result = session.run(\"RETURN 'Connection to database successful' AS message\")\n",
    "            for record in result:\n",
    "                print(record[\"message\"])\n",
    "    except Exception as e:\n",
    "        print(\"Error connecting to the database:\", e)\n",
    "\n",
    "# Call the check_connection function\n",
    "check_connection()"
   ]
  },
  {
   "cell_type": "code",
   "execution_count": null,
   "id": "674cc2ef-ddbe-42ed-9b31-891a58a7627f",
   "metadata": {},
   "outputs": [],
   "source": [
    "# Function to create nodes in the specified database with a dynamic label\n",
    "def create_nodes(data, driver, label):\n",
    "    try:\n",
    "        # Establish a session with the specified database\n",
    "        with driver.session(database=database_name) as session:\n",
    "            for _, row in data.iterrows():\n",
    "                # Create a dynamic dictionary for properties\n",
    "                properties = row.to_dict()\n",
    "                # Prepare the Cypher query with a dynamic label\n",
    "                query = f\"CREATE (n:{label} {{\"\n",
    "                query += ', '.join([f\"{key}: ${key}\" for key in properties.keys()])\n",
    "                query += \"})\"\n",
    "                \n",
    "                # Run the query with properties\n",
    "                session.run(query, **properties)\n",
    "\n",
    "    except Exception as e:\n",
    "        print(\"Error during node creation:\", e)\n",
    "    finally:\n",
    "        # Close the driver\n",
    "        driver.close()"
   ]
  },
  {
   "cell_type": "code",
   "execution_count": null,
   "id": "256c26b1-cd80-43ee-8def-2b9e4f36674d",
   "metadata": {},
   "outputs": [],
   "source": [
    "# For subdataset_800\n",
    "create_nodes(subdataset_8000, driver, 'Dataset7_8000_madelon')\n",
    "\n",
    "# For subdataset_1600\n",
    "create_nodes(subdataset_14000, driver, 'Dataset7_14000_madelon')\n",
    "\n",
    "# For the full dataset (2600 samples)\n",
    "create_nodes(subdataset_full, driver, 'Dataset3_full_madelon')\n"
   ]
  },
  {
   "cell_type": "code",
   "execution_count": null,
   "id": "e8ccdf88-a9f3-48b6-b3e1-068f2f974cdd",
   "metadata": {},
   "outputs": [],
   "source": []
  }
 ],
 "metadata": {
  "kernelspec": {
   "display_name": "Python 3 (ipykernel)",
   "language": "python",
   "name": "python3"
  },
  "language_info": {
   "codemirror_mode": {
    "name": "ipython",
    "version": 3
   },
   "file_extension": ".py",
   "mimetype": "text/x-python",
   "name": "python",
   "nbconvert_exporter": "python",
   "pygments_lexer": "ipython3",
   "version": "3.12.3"
  }
 },
 "nbformat": 4,
 "nbformat_minor": 5
}
