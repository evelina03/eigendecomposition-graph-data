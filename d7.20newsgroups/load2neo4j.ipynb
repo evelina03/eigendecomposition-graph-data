{
 "cells": [
  {
   "cell_type": "code",
   "execution_count": 2,
   "id": "bcdf5d7e-a444-4b5a-9658-b7ac34597c13",
   "metadata": {},
   "outputs": [],
   "source": [
    "import pandas as pd\n",
    "from neo4j import GraphDatabase"
   ]
  },
  {
   "cell_type": "code",
   "execution_count": 3,
   "id": "72ef39df-b681-4994-acca-d30f4fabda24",
   "metadata": {
    "scrolled": true
   },
   "outputs": [
    {
     "name": "stdout",
     "output_type": "stream",
     "text": [
      "      index         0         1         2         3         4         5  \\\n",
      "0         0  0.560976  0.429185  0.588028  0.393939  0.280488  0.260870   \n",
      "1         1  0.512195  0.347639  0.316901  0.515152  0.692073  0.347826   \n",
      "2         2  0.609756  0.708155  0.454225  0.227273  0.268293  0.260870   \n",
      "3         3  0.439024  0.489270  0.492958  0.484848  0.411585  0.282609   \n",
      "4         4  0.536585  0.536481  0.556338  0.545455  0.323171  0.478261   \n",
      "...     ...       ...       ...       ...       ...       ...       ...   \n",
      "2595   2595  0.756098  0.347639  0.468310  0.378788  0.478659  0.434783   \n",
      "2596   2596  0.463415  0.459227  0.390845  0.560606  0.271341  0.478261   \n",
      "2597   2597  0.560976  0.463519  0.563380  0.409091  0.256098  0.608696   \n",
      "2598   2598  0.365854  0.394850  0.556338  0.484848  0.375000  0.217391   \n",
      "2599   2599  0.487805  0.326180  0.510563  0.424242  0.426829  0.739130   \n",
      "\n",
      "             6         7         8  ...       491       492       493  \\\n",
      "0     0.566787  0.454545  0.384615  ...  0.529412  0.477778  0.467564   \n",
      "1     0.693141  0.727273  0.470085  ...  0.441176  0.533333  0.287638   \n",
      "2     0.389892  0.636364  0.427350  ...  0.529412  0.561111  0.669523   \n",
      "3     0.299639  0.272727  0.615385  ...  0.500000  0.461111  0.574051   \n",
      "4     0.245487  0.636364  0.487179  ...  0.470588  0.338889  0.406365   \n",
      "...        ...       ...       ...  ...       ...       ...       ...   \n",
      "2595  0.498195  0.636364  0.119658  ...  0.352941  0.522222  0.416157   \n",
      "2596  0.480144  0.636364  0.333333  ...  0.647059  0.650000  0.607099   \n",
      "2597  0.462094  0.363636  0.675214  ...  0.323529  0.616667  0.324357   \n",
      "2598  0.534296  0.545455  0.547009  ...  0.382353  0.344444  0.654835   \n",
      "2599  0.610108  0.545455  0.606838  ...  0.441176  0.533333  0.723378   \n",
      "\n",
      "           494       495       496   497       498       499  target  \n",
      "0     0.578947  0.428571  0.558140  0.44  0.398577  0.489474      -1  \n",
      "1     0.587045  0.431818  0.604651  0.57  0.523132  0.600000      -1  \n",
      "2     0.558704  0.480519  0.534884  0.54  0.483986  0.500000      -1  \n",
      "3     0.348178  0.376623  0.418605  0.47  0.466192  0.305263       1  \n",
      "4     0.477733  0.503247  0.558140  0.69  0.469751  0.568421       1  \n",
      "...        ...       ...       ...   ...       ...       ...     ...  \n",
      "2595  0.603239  0.431818  0.395349  0.54  0.508897  0.542105       1  \n",
      "2596  0.526316  0.564935  0.558140  0.55  0.327402  0.252632       1  \n",
      "2597  0.344130  0.418831  0.488372  0.46  0.430605  0.600000       1  \n",
      "2598  0.417004  0.600649  0.302326  0.55  0.889680  0.468421       1  \n",
      "2599  0.506073  0.474026  0.395349  0.59  0.615658  0.647368      -1  \n",
      "\n",
      "[2600 rows x 502 columns]\n"
     ]
    }
   ],
   "source": [
    "# Define paths to your CSV files\n",
    "path_20newsgroups_33 = \"20newsgroups_33/20newsgroups_33.csv\"\n",
    "path_20newsgroups_66 = \"20newsgroups_66/20newsgroups_66.csv\"\n",
    "path_20newsgroups_full = \"20newsgroups_full/20newsgroups_full.csv\"\n",
    "\n",
    "# Read the CSV files into pandas DataFrames\n",
    "newsgroups_33 = pd.read_csv(path_20newsgroups_33)\n",
    "newsgroups_66 = pd.read_csv(path_20newsgroups_66)\n",
    "newsgroups_full = pd.read_csv(path_20newsgroups_full)"
   ]
  },
  {
   "cell_type": "code",
   "execution_count": 5,
   "id": "ae281056-c07f-4e93-bd59-9eb87cc5bc17",
   "metadata": {},
   "outputs": [],
   "source": [
    "# \"First Create an empty database, within a project\"\n",
    "\n",
    "uri = \"bolt://localhost:7687\"\n",
    "username = \"neo4j\" # username for Neo4j, most probably is Neo4j, if you did not change while installing Neo4j Desktop\n",
    "password = \"eigen1234\" # Password for database.\n",
    "database_name = \"d6.20newsgroups\"  # Database name\n",
    "\n",
    "driver = GraphDatabase.driver(uri, auth=(username, password))"
   ]
  },
  {
   "cell_type": "code",
   "execution_count": 6,
   "id": "e8c03ba6-f003-4561-adb2-7a8e8f083a2f",
   "metadata": {},
   "outputs": [
    {
     "name": "stdout",
     "output_type": "stream",
     "text": [
      "Connection to database successful\n"
     ]
    }
   ],
   "source": [
    "def check_connection():\n",
    "    try:\n",
    "        # Establish a session with the specified database\n",
    "        with driver.session(database=database_name) as session:\n",
    "            # Run a simple query to check the connection\n",
    "            result = session.run(\"RETURN 'Connection to database successful' AS message\")\n",
    "            for record in result:\n",
    "                print(record[\"message\"])\n",
    "    except Exception as e:\n",
    "        print(\"Error connecting to the database:\", e)\n",
    "\n",
    "# Call the check_connection function\n",
    "check_connection()"
   ]
  },
  {
   "cell_type": "code",
   "execution_count": 7,
   "id": "5ec927a5-b260-400e-ae1c-adddb43ecd12",
   "metadata": {},
   "outputs": [],
   "source": [
    "# Function to create nodes in the specified database with a dynamic label\n",
    "def create_nodes(data, driver, label):\n",
    "    try:\n",
    "        # Establish a session with the specified database\n",
    "        with driver.session(database=database_name) as session:\n",
    "            for _, row in data.iterrows():\n",
    "                # Create a dynamic dictionary for properties\n",
    "                properties = row.to_dict()\n",
    "                # Prepare the Cypher query with a dynamic label\n",
    "                query = f\"CREATE (n:{label} {{\"\n",
    "                query += ', '.join([f\"{key}: ${key}\" for key in properties.keys()])\n",
    "                query += \"})\"\n",
    "                \n",
    "                # Run the query with properties\n",
    "                session.run(query, **properties)\n",
    "\n",
    "    except Exception as e:\n",
    "        print(\"Error during node creation:\", e)\n",
    "    finally:\n",
    "        # Close the driver\n",
    "        driver.close()"
   ]
  },
  {
   "cell_type": "code",
   "execution_count": 8,
   "id": "7b269d96-bf39-4f83-9ef9-0496c438334c",
   "metadata": {},
   "outputs": [
    {
     "name": "stderr",
     "output_type": "stream",
     "text": [
      "/var/folders/5m/3t1ykjr55_555tllby0d28j00000gn/T/ipykernel_88653/1283446084.py:5: DeprecationWarning: Using a driver after it has been closed is deprecated. Future versions of the driver will raise an error.\n",
      "  with driver.session() as session:\n"
     ]
    }
   ],
   "source": [
    "# For subdataset_800\n",
    "create_nodes(newsgroups_33, driver, 'newsgroups_33')\n",
    "\n",
    "# For subdataset_1600\n",
    "create_nodes(newsgroups_66, driver, 'newsgroups_66')\n",
    "\n",
    "# For the full dataset (2600 samples)\n",
    "create_nodes(newsgroups_full, driver, 'newsgroups_full')\n"
   ]
  },
  {
   "cell_type": "code",
   "execution_count": null,
   "id": "81234ecf-0e82-41dc-9865-23ba21014c66",
   "metadata": {},
   "outputs": [],
   "source": []
  }
 ],
 "metadata": {
  "kernelspec": {
   "display_name": "Python 3 (ipykernel)",
   "language": "python",
   "name": "python3"
  },
  "language_info": {
   "codemirror_mode": {
    "name": "ipython",
    "version": 3
   },
   "file_extension": ".py",
   "mimetype": "text/x-python",
   "name": "python",
   "nbconvert_exporter": "python",
   "pygments_lexer": "ipython3",
   "version": "3.8.14"
  }
 },
 "nbformat": 4,
 "nbformat_minor": 5
}
