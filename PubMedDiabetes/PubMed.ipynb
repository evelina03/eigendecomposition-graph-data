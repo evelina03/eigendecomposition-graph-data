{
 "cells": [
  {
   "cell_type": "code",
   "execution_count": 1,
   "id": "c8dca38c-219d-473e-960e-367dcfea040d",
   "metadata": {},
   "outputs": [],
   "source": [
    "import os.path as osp\n",
    "import numpy as np\n",
    "from torch_geometric.datasets import CitationFull\n",
    "import torch\n",
    "from torch_geometric.utils import to_dense_adj\n",
    "from scipy import linalg\n",
    "\n",
    "from stellargraph import datasets\n",
    "from stellargraph import StellarGraph\n",
    "from IPython.display import display, HTML\n",
    "\n",
    "import pandas as pd\n",
    "import networkx as nx\n",
    "import numpy as np\n",
    "import os.path as osp\n",
    "import matplotlib.pyplot as plt\n",
    "\n",
    "from sklearn.cluster import KMeans\n",
    "from sklearn.metrics import silhouette_score\n",
    "from sklearn.metrics import adjusted_rand_score\n",
    "from sklearn.cluster import SpectralClustering"
   ]
  },
  {
   "cell_type": "code",
   "execution_count": null,
   "id": "d0aca992-b3a4-4e2e-8bc8-29255ec404d0",
   "metadata": {},
   "outputs": [],
   "source": [
    "dataset = 'PubMed'\n",
    "path = osp.join('.', 'data', dataset)\n",
    "dataset = CitationFull(path, dataset)  # dowload or load the Cora dataset\n",
    "data = dataset[0]"
   ]
  },
  {
   "cell_type": "code",
   "execution_count": null,
   "id": "7f40532b-909f-494a-8998-d246b5cbb2d6",
   "metadata": {},
   "outputs": [],
   "source": [
    "# Save the dataset to a .pth file \n",
    "torch.save(dataset, 'd3_pubmed.pth')"
   ]
  },
  {
   "cell_type": "code",
   "execution_count": null,
   "id": "797f4345-7d80-4db7-936f-5628e2e3e13c",
   "metadata": {},
   "outputs": [],
   "source": [
    "data.node_attrs"
   ]
  },
  {
   "cell_type": "code",
   "execution_count": null,
   "id": "3e08f17d-90e5-45bf-8431-afa4a2208e6d",
   "metadata": {},
   "outputs": [],
   "source": [
    "labels = data.y.tolist()"
   ]
  },
  {
   "cell_type": "code",
   "execution_count": null,
   "id": "6923e50c-e749-4560-9cd1-486f161e5f40",
   "metadata": {},
   "outputs": [],
   "source": [
    "set(labels)"
   ]
  },
  {
   "cell_type": "code",
   "execution_count": null,
   "id": "9ac15e31-fc6a-462a-9474-f98ab3a67ff1",
   "metadata": {},
   "outputs": [],
   "source": [
    "# def spectral_clustering_on_graph(torch_data, labels, laplacian, number_of_clusters):\n",
    "\n",
    "#     adjacency_matrix = to_dense_adj(torch_data.edge_index).squeeze()\n",
    "#     # Convert the PyTorch tensor to a NumPy array\n",
    "#     adjacency_matrix = adjacency_matrix.numpy()\n",
    "\n",
    "#     dimension = len(adjacency_matrix)\n",
    "\n",
    "#     # Calculate degree matrix\n",
    "#     degree_matrix = np.sum(adjacency_matrix, axis=0) * np.eye(dimension)\n",
    "    \n",
    "\n",
    "#     if laplacian == \"sym\":\n",
    "\n",
    "#         # Normalized Symmetric laplacian matrix\n",
    "#         d_half = linalg.fractional_matrix_power(degree_matrix, -0.5)\n",
    "#         laplacian_matrix_normalized = np.matmul(np.matmul(d_half, adjacency_matrix), d_half)\n",
    "\n",
    "#     if laplacian == \"rw\":\n",
    "\n",
    "#         # Normalized Random Walk laplacian matrix\n",
    "#         d_inverse = linalg.fractional_matrix_power(degree_matrix, -1)\n",
    "#         laplacian_matrix_normalized = np.matmul(d_inverse, adjacency_matrix)\n",
    "\n",
    "\n",
    "#     # Calculating eigenvalues and eigenvectors\n",
    "#     e, v = np.linalg.eigh(laplacian_matrix_normalized)\n",
    "\n",
    "#     # Eigen features for k\n",
    "#     k = number_of_clusters\n",
    "#     X = v[:, -1*k:]\n",
    "\n",
    "#     # Kmeans\n",
    "#     clustering = KMeans(n_clusters = number_of_clusters)\n",
    "#     clustering.fit(X)\n",
    "#     c_labels = clustering.fit_predict(X)\n",
    "\n",
    "#     # Create a copy of the data object by initializing a new Data instance\n",
    "#     # final_data = Data(\n",
    "#     #     edge_index=torch_data.edge_index,  # edge indices\n",
    "#     # )\n",
    "\n",
    "#     # final_df = torch_data.copy()\n",
    "#     # final_df['c_labels'] = c_labels\n",
    "#     # final_df['labels'] = labels\n",
    "    \n",
    "#     cluster_labels = clustering.labels_\n",
    "    \n",
    "#     return silhouette_score(adjacency_matrix, cluster_labels, \"precomputed\"), adjusted_rand_score(labels, cluster_labels)\n",
    "\n"
   ]
  },
  {
   "cell_type": "code",
   "execution_count": 2,
   "id": "ee0bc7e7-a34e-4d16-9ba4-320f248250ad",
   "metadata": {},
   "outputs": [],
   "source": [
    "def spectral_clustering_on_graph(torch_data, labels, laplacian, number_of_clusters):\n",
    "\n",
    "    # adjacency_matrix = to_dense_adj(torch_data.edge_index).squeeze()\n",
    "    # # Convert the PyTorch tensor to a NumPy array\n",
    "    # adjacency_matrix = adjacency_matrix.numpy()\n",
    "    # adj_matrix_citeseer_dense = torch_data.todense()\n",
    "    # adjacency_matrix = torch_data.numpy()\n",
    "\n",
    "    adjacency_matrix = np.array(torch_data.todense())\n",
    "\n",
    "    np.fill_diagonal(adjacency_matrix, 0)\n",
    "\n",
    "    dimension = len(adjacency_matrix)\n",
    "\n",
    "    # Calculate degree matrix\n",
    "    degree_matrix = np.sum(adjacency_matrix, axis=0) * np.eye(dimension)\n",
    "\n",
    "    isolated_nodes = np.where(np.diag(degree_matrix) == 0)[0]\n",
    "    if len(isolated_nodes) > 0:\n",
    "        adjacency_matrix = np.delete(adjacency_matrix, isolated_nodes, axis=0)\n",
    "        adjacency_matrix = np.delete(adjacency_matrix, isolated_nodes, axis=1)\n",
    "        labels = np.delete(labels, isolated_nodes)\n",
    "        \n",
    "    dimension = len(adjacency_matrix)\n",
    "\n",
    "    # Calculate degree matrix\n",
    "    degree_matrix = np.sum(adjacency_matrix, axis=0) * np.eye(dimension)\n",
    "    \n",
    "\n",
    "    if laplacian == \"sym\":\n",
    "\n",
    "        # Normalized Symmetric laplacian matrix\n",
    "        d_half = linalg.fractional_matrix_power(degree_matrix, -0.5)\n",
    "        laplacian_matrix_normalized = np.matmul(np.matmul(d_half, adjacency_matrix), d_half)\n",
    "\n",
    "    if laplacian == \"rw\":\n",
    "\n",
    "        # Normalized Random Walk laplacian matrix\n",
    "        d_inverse = linalg.fractional_matrix_power(degree_matrix, -1)\n",
    "        laplacian_matrix_normalized = np.matmul(d_inverse, adjacency_matrix)\n",
    "\n",
    "    if laplacian == \"ad\":\n",
    "\n",
    "        # Adaptive laplacian matrix\n",
    "        degree_vector = np.diag(degree_matrix)  \n",
    "        D_local = np.zeros_like(degree_vector)  \n",
    "        \n",
    "        for i in range(len(degree_vector)):\n",
    "            neighbors = np.where(adjacency_matrix[i] > 0)[0]\n",
    "            if len(neighbors) > 0:\n",
    "                D_local[i] = np.sum(degree_vector[neighbors]) / degree_vector[i]\n",
    "            else:\n",
    "                D_local[i] = 0\n",
    "        \n",
    "        D_local_matrix = np.diag(D_local)\n",
    "        D_local_inv = np.linalg.inv(D_local_matrix)\n",
    "        laplacian_matrix_normalized = np.matmul(np.matmul(D_local_inv, adjacency_matrix), D_local_inv)\n",
    "\n",
    "\n",
    "    # Calculating eigenvalues and eigenvectors\n",
    "    e, v = np.linalg.eigh(laplacian_matrix_normalized)\n",
    "\n",
    "    # index_largest_gap = np.argmax(np.diff(e))\n",
    "    # nb_clusters = index_largest_gap + 2\n",
    "\n",
    "    if number_of_clusters == 0:\n",
    "        eigengaps = np.diff(e)  # Calculate differences between consecutive eigenvalues\n",
    "        index_largest_gap = np.argmax(eigengaps)  # Find the index of the largest gap\n",
    "        number_of_clusters = index_largest_gap + 1  # k is the index of the largest gap + 1\n",
    "\n",
    "    # Eigen features for k\n",
    "    k = number_of_clusters\n",
    "    X = v[:, -1*k:]\n",
    "\n",
    "    # Kmeans\n",
    "    clustering = KMeans(n_clusters = number_of_clusters)\n",
    "    clustering.fit(X)\n",
    "    c_labels = clustering.fit_predict(X)\n",
    "\n",
    "    # Create a copy of the data object by initializing a new Data instance\n",
    "    # final_data = Data(\n",
    "    #     edge_index=torch_data.edge_index,  # edge indices\n",
    "    # )\n",
    "\n",
    "    # final_df = torch_data.copy()\n",
    "    # final_df['c_labels'] = c_labels\n",
    "    # final_df['labels'] = labels\n",
    "    \n",
    "    cluster_labels = clustering.labels_\n",
    "    \n",
    "    return silhouette_score(adjacency_matrix, cluster_labels,metric=\"precomputed\"), adjusted_rand_score(labels, cluster_labels)"
   ]
  },
  {
   "cell_type": "code",
   "execution_count": 2,
   "id": "9cdd5530-d77a-4b79-a52e-b8790d84e097",
   "metadata": {},
   "outputs": [],
   "source": [
    "# Load the PubMed dataset\n",
    "dataset_citeseer = datasets.PubMedDiabetes()\n",
    "graph, node_subjects = dataset_citeseer.load()\n",
    "data = graph.to_adjacency_matrix(weighted=True)\n",
    "labels = node_subjects.values"
   ]
  },
  {
   "cell_type": "code",
   "execution_count": 3,
   "id": "731e8cf4-9b3a-497e-a729-90d6457512ff",
   "metadata": {},
   "outputs": [
    {
     "data": {
      "text/plain": [
       "{1, 2, 3}"
      ]
     },
     "execution_count": 3,
     "metadata": {},
     "output_type": "execute_result"
    }
   ],
   "source": [
    "set(labels)"
   ]
  },
  {
   "cell_type": "code",
   "execution_count": null,
   "id": "73db2ed8-8ffb-4e41-a84a-f152253e3b44",
   "metadata": {},
   "outputs": [
    {
     "name": "stderr",
     "output_type": "stream",
     "text": [
      "C:\\Users\\eveli\\.pyenv\\pyenv-win\\versions\\3.8.10\\lib\\site-packages\\sklearn\\cluster\\_kmeans.py:1416: FutureWarning: The default value of `n_init` will change from 10 to 'auto' in 1.4. Set the value of `n_init` explicitly to suppress the warning\n",
      "  super()._check_params_vs_input(X, default_n_init=10)\n"
     ]
    }
   ],
   "source": [
    "laplacian_methods = [\"sym\", \"rw\",\"ad\"]\n",
    "\n",
    "silhouette_scores = []\n",
    "adjusted_rand_scores = []\n",
    "laplacian = []\n",
    "\n",
    "\n",
    "for laplace in laplacian_methods:\n",
    "\n",
    "    laplacian.append(laplace)\n",
    "\n",
    "    si, ar = spectral_clustering_on_graph(data, labels, laplace, 0)\n",
    "\n",
    "    silhouette_scores.append(si)\n",
    "    adjusted_rand_scores.append(ar)"
   ]
  },
  {
   "cell_type": "code",
   "execution_count": null,
   "id": "724dd158-bf8f-4c2c-93fd-9d288c2b1e90",
   "metadata": {},
   "outputs": [],
   "source": [
    "experiment_cora = pd.DataFrame(list(zip(laplacian,silhouette_scores,adjusted_rand_scores)), \n",
    "             columns= [\"laplacian\", \"silhouette\", \"adjusted_rand\"])\n",
    "\n",
    "experiment_cora"
   ]
  },
  {
   "cell_type": "code",
   "execution_count": null,
   "id": "4cbaa0ea-9213-4cfc-8cd4-da845f3ab151",
   "metadata": {},
   "outputs": [],
   "source": [
    "# Create a figure and axis\n",
    "fig, ax = plt.subplots(figsize=(8, 4))\n",
    "\n",
    "# Plot time on the first y-axis\n",
    "ax.plot(experiment_cora['laplacian'], experiment_cora['silhouette'], marker='o', color='b', label='Time (seconds)')\n",
    "\n",
    "# Create a second y-axis\n",
    "ax2 = ax.twinx()\n",
    "\n",
    "# Plot memory on the second y-axis\n",
    "ax2.plot(experiment_cora['laplacian'], experiment_cora['adjusted_rand'], marker='x', color='r', label='Memory (KB)')\n",
    "\n",
    "# Set labels and legends\n",
    "ax.set_xlabel('laplacian')\n",
    "ax.set_ylabel('silhouette', color='b')\n",
    "ax2.set_ylabel('adjusted_rand', color='r')\n",
    "\n",
    "ax.set_ylim(-1.1, 1)\n",
    "ax2.set_ylim(-1.1, 1)  # Adjust the multiplier as needed\n",
    "\n",
    "\n",
    "# Add legends\n",
    "# ax.legend(loc='upper left')\n",
    "# ax2.legend(loc='upper right')\n",
    "\n",
    "# Show the plot\n",
    "plt.title('experiment_cora')\n",
    "plt.show()"
   ]
  },
  {
   "cell_type": "code",
   "execution_count": null,
   "id": "3087aa44-7aff-4db0-b916-b8bc6d4ca211",
   "metadata": {},
   "outputs": [],
   "source": []
  }
 ],
 "metadata": {
  "kernelspec": {
   "display_name": "Python3.8.10",
   "language": "python",
   "name": "python3.8.10"
  },
  "language_info": {
   "codemirror_mode": {
    "name": "ipython",
    "version": 3
   },
   "file_extension": ".py",
   "mimetype": "text/x-python",
   "name": "python",
   "nbconvert_exporter": "python",
   "pygments_lexer": "ipython3",
   "version": "3.8.10"
  }
 },
 "nbformat": 4,
 "nbformat_minor": 5
}
