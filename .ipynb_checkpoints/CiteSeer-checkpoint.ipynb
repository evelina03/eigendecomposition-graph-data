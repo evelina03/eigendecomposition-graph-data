{
 "cells": [
  {
   "cell_type": "code",
   "execution_count": 7,
   "id": "b9d4ca48-f06c-43e5-95ae-e759424a0e03",
   "metadata": {},
   "outputs": [
    {
     "name": "stdout",
     "output_type": "stream",
     "text": [
      "Collecting chardet\n",
      "  Downloading chardet-5.2.0-py3-none-any.whl.metadata (3.4 kB)\n",
      "Downloading chardet-5.2.0-py3-none-any.whl (199 kB)\n",
      "   ---------------------------------------- 0.0/199.4 kB ? eta -:--:--\n",
      "   ------------------ --------------------- 92.2/199.4 kB 2.6 MB/s eta 0:00:01\n",
      "   ---------------------------------- ----- 174.1/199.4 kB 2.1 MB/s eta 0:00:01\n",
      "   ---------------------------------- ----- 174.1/199.4 kB 2.1 MB/s eta 0:00:01\n",
      "   ---------------------------------- ----- 174.1/199.4 kB 2.1 MB/s eta 0:00:01\n",
      "   ---------------------------------- ----- 174.1/199.4 kB 2.1 MB/s eta 0:00:01\n",
      "   ---------------------------------- ----- 174.1/199.4 kB 2.1 MB/s eta 0:00:01\n",
      "   -------------------------------------- 199.4/199.4 kB 636.9 kB/s eta 0:00:00\n",
      "Installing collected packages: chardet\n",
      "Successfully installed chardet-5.2.0\n",
      "Note: you may need to restart the kernel to use updated packages.\n"
     ]
    },
    {
     "name": "stderr",
     "output_type": "stream",
     "text": [
      "  WARNING: The script chardetect.exe is installed in 'C:\\Users\\eveli\\.pyenv\\pyenv-win\\versions\\3.8.10\\Scripts' which is not on PATH.\n",
      "  Consider adding this directory to PATH or, if you prefer to suppress this warning, use --no-warn-script-location.\n",
      "\n",
      "[notice] A new release of pip is available: 23.3.1 -> 24.2\n",
      "[notice] To update, run: C:\\Users\\eveli\\.pyenv\\pyenv-win\\versions\\3.8.10\\python.exe -m pip install --upgrade pip\n"
     ]
    }
   ],
   "source": [
    "pip install chardet"
   ]
  },
  {
   "cell_type": "code",
   "execution_count": 8,
   "id": "c8dca38c-219d-473e-960e-367dcfea040d",
   "metadata": {},
   "outputs": [],
   "source": [
    "import os\n",
    "import numpy as np\n",
    "from torch_geometric.datasets import CitationFull\n",
    "from torch_geometric.data import Data\n",
    "import torch\n",
    "from torch_geometric.utils import to_dense_adj\n",
    "from scipy import linalg\n",
    "import sys\n",
    "\n",
    "import pandas as pd\n",
    "import networkx as nx\n",
    "import numpy as np\n",
    "import os.path as osp\n",
    "import matplotlib.pyplot as plt\n",
    "\n",
    "from stellargraph import datasets\n",
    "from stellargraph import StellarGraph\n",
    "from IPython.display import display, HTML\n",
    "\n",
    "from sklearn.cluster import KMeans\n",
    "from sklearn.metrics import silhouette_score\n",
    "from sklearn.metrics import adjusted_rand_score\n",
    "from sklearn.cluster import SpectralClustering"
   ]
  },
  {
   "cell_type": "code",
   "execution_count": null,
   "id": "d0aca992-b3a4-4e2e-8bc8-29255ec404d0",
   "metadata": {},
   "outputs": [],
   "source": [
    "dataset = 'CiteSeer'\n",
    "path = osp.join('.', 'data', dataset)\n",
    "dataset = CitationFull(path, dataset)  # dowload or load the Cora dataset\n",
    "data = dataset[0]\n",
    "\n",
    "type(data)"
   ]
  },
  {
   "cell_type": "code",
   "execution_count": null,
   "id": "7f40532b-909f-494a-8998-d246b5cbb2d6",
   "metadata": {},
   "outputs": [],
   "source": [
    "# Save the dataset to a .pth file \n",
    "torch.save(dataset, 'd3_citeseer.pth')"
   ]
  },
  {
   "cell_type": "code",
   "execution_count": null,
   "id": "797f4345-7d80-4db7-936f-5628e2e3e13c",
   "metadata": {},
   "outputs": [],
   "source": [
    "data.node_attrs"
   ]
  },
  {
   "cell_type": "code",
   "execution_count": null,
   "id": "3e08f17d-90e5-45bf-8431-afa4a2208e6d",
   "metadata": {},
   "outputs": [],
   "source": [
    "labels = data.y.tolist()"
   ]
  },
  {
   "cell_type": "code",
   "execution_count": null,
   "id": "6923e50c-e749-4560-9cd1-486f161e5f40",
   "metadata": {
    "scrolled": true
   },
   "outputs": [],
   "source": [
    "set(labels)"
   ]
  },
  {
   "cell_type": "code",
   "execution_count": null,
   "id": "b988a8b2-3b21-4c91-853e-569066f2a93a",
   "metadata": {
    "scrolled": true
   },
   "outputs": [],
   "source": [
    "adjacency_matrix = to_dense_adj(data.edge_index).squeeze()\n",
    "adjacency_matrix\n",
    "\n",
    "df = pd.DataFrame(adjacency_matrix)\n",
    "\n",
    "# Export the DataFrame to a CSV file\n",
    "# df.to_csv(\"adjacency_matrix_mknn.csv\", index=False)\n",
    "\n",
    "adjacency_matrix\n",
    "df.head(10)"
   ]
  },
  {
   "cell_type": "code",
   "execution_count": null,
   "id": "b252020c-5582-424e-8e24-4911f2cadcd7",
   "metadata": {},
   "outputs": [],
   "source": [
    "# Flatten the 2D array into 1D and create a set to get distinct values \n",
    "distinct_values = set(value for row in adjacency_matrix for value in row) \n",
    "# Count the number of distinct values \n",
    "distinct_count = len(distinct_values)"
   ]
  },
  {
   "cell_type": "code",
   "execution_count": null,
   "id": "533e76c6-1bbc-4ceb-b120-5ba7c35053d1",
   "metadata": {},
   "outputs": [],
   "source": [
    "adjacency_matrix = adjacency_matrix.numpy()"
   ]
  },
  {
   "cell_type": "code",
   "execution_count": null,
   "id": "a5ac2a8a-5065-445a-9cdb-220c4b056a9f",
   "metadata": {},
   "outputs": [],
   "source": [
    "type(adjacency_matrix)"
   ]
  },
  {
   "cell_type": "code",
   "execution_count": null,
   "id": "19ec48d1-6847-471b-a313-70997dd51042",
   "metadata": {},
   "outputs": [],
   "source": [
    "# Count rows where all elements are 0 \n",
    "empty_rows = np.all(adjacency_matrix == 0, axis=1) \n",
    "# Sum of empty rows \n",
    "num_empty_rows = np.sum(empty_rows) \n",
    "print(\"Number of completely empty rows:\", num_empty_rows)"
   ]
  },
  {
   "cell_type": "code",
   "execution_count": null,
   "id": "82404953-47e4-434f-acd1-d9b404a46e08",
   "metadata": {
    "scrolled": true
   },
   "outputs": [],
   "source": [
    "# Flatten the 2D array into 1D \n",
    "flattened_array = adjacency_matrix.flatten() \n",
    "# Convert to set to get distinct values \n",
    "distinct_values = set(flattened_array) \n",
    "# Count the number of distinct values \n",
    "distinct_count = len(distinct_values) \n",
    "print(\"Distinct values:\", distinct_values) \n",
    "print(\"Number of distinct values:\", distinct_count)"
   ]
  },
  {
   "cell_type": "code",
   "execution_count": null,
   "id": "e19e2b51-fd2f-4771-9e6d-d2cf3d023201",
   "metadata": {},
   "outputs": [],
   "source": [
    "np.set_printoptions(threshold=sys.maxsize)"
   ]
  },
  {
   "cell_type": "code",
   "execution_count": 46,
   "id": "21f5a50f-8482-42d2-9e45-e65731bc1db4",
   "metadata": {},
   "outputs": [],
   "source": [
    "def spectral_clustering_on_graph(torch_data, labels, laplacian, number_of_clusters):\n",
    "\n",
    "    # adjacency_matrix = to_dense_adj(torch_data.edge_index).squeeze()\n",
    "    # # Convert the PyTorch tensor to a NumPy array\n",
    "    # adjacency_matrix = adjacency_matrix.numpy()\n",
    "    # adj_matrix_citeseer_dense = torch_data.todense()\n",
    "    # adjacency_matrix = torch_data.numpy()\n",
    "\n",
    "    adjacency_matrix = np.array(torch_data.todense())\n",
    "\n",
    "    np.fill_diagonal(adjacency_matrix, 0)\n",
    "\n",
    "    dimension = len(adjacency_matrix)\n",
    "\n",
    "    # Calculate degree matrix\n",
    "    degree_matrix = np.sum(adjacency_matrix, axis=0) * np.eye(dimension)\n",
    "\n",
    "    isolated_nodes = np.where(np.diag(degree_matrix) == 0)[0]\n",
    "    if len(isolated_nodes) > 0:\n",
    "        adjacency_matrix = np.delete(adjacency_matrix, isolated_nodes, axis=0)\n",
    "        adjacency_matrix = np.delete(adjacency_matrix, isolated_nodes, axis=1)\n",
    "        labels = np.delete(labels, isolated_nodes)\n",
    "        \n",
    "    dimension = len(adjacency_matrix)\n",
    "\n",
    "    # Calculate degree matrix\n",
    "    degree_matrix = np.sum(adjacency_matrix, axis=0) * np.eye(dimension)\n",
    "    \n",
    "\n",
    "    if laplacian == \"sym\":\n",
    "\n",
    "        # Normalized Symmetric laplacian matrix\n",
    "        d_half = linalg.fractional_matrix_power(degree_matrix, -0.5)\n",
    "        laplacian_matrix_normalized = np.matmul(np.matmul(d_half, adjacency_matrix), d_half)\n",
    "\n",
    "    if laplacian == \"rw\":\n",
    "\n",
    "        # Normalized Random Walk laplacian matrix\n",
    "        d_inverse = linalg.fractional_matrix_power(degree_matrix, -1)\n",
    "        laplacian_matrix_normalized = np.matmul(d_inverse, adjacency_matrix)\n",
    "\n",
    "    if laplacian == \"ad\":\n",
    "\n",
    "        # Adaptive laplacian matrix\n",
    "        degree_vector = np.diag(degree_matrix)  \n",
    "        D_local = np.zeros_like(degree_vector)  \n",
    "        \n",
    "        for i in range(len(degree_vector)):\n",
    "            neighbors = np.where(adjacency_matrix[i] > 0)[0]\n",
    "            if len(neighbors) > 0:\n",
    "                D_local[i] = np.sum(degree_vector[neighbors]) / degree_vector[i]\n",
    "            else:\n",
    "                D_local[i] = 0\n",
    "        \n",
    "        D_local_matrix = np.diag(D_local)\n",
    "        D_local_inv = np.linalg.inv(D_local_matrix)\n",
    "        laplacian_matrix_normalized = np.matmul(np.matmul(D_local_inv, adjacency_matrix), D_local_inv)\n",
    "\n",
    "\n",
    "    # Calculating eigenvalues and eigenvectors\n",
    "    e, v = np.linalg.eigh(laplacian_matrix_normalized)\n",
    "\n",
    "    # index_largest_gap = np.argmax(np.diff(e))\n",
    "    # nb_clusters = index_largest_gap + 2\n",
    "\n",
    "    if number_of_clusters == 0:\n",
    "        eigengaps = np.diff(e)  # Calculate differences between consecutive eigenvalues\n",
    "        index_largest_gap = np.argmax(eigengaps)  # Find the index of the largest gap\n",
    "        number_of_clusters = index_largest_gap + 1  # k is the index of the largest gap + 1\n",
    "\n",
    "    # Eigen features for k\n",
    "    k = number_of_clusters\n",
    "    X = v[:, -1*k:]\n",
    "\n",
    "    # Kmeans\n",
    "    clustering = KMeans(n_clusters = number_of_clusters)\n",
    "    clustering.fit(X)\n",
    "    c_labels = clustering.fit_predict(X)\n",
    "\n",
    "    # Create a copy of the data object by initializing a new Data instance\n",
    "    # final_data = Data(\n",
    "    #     edge_index=torch_data.edge_index,  # edge indices\n",
    "    # )\n",
    "\n",
    "    # final_df = torch_data.copy()\n",
    "    # final_df['c_labels'] = c_labels\n",
    "    # final_df['labels'] = labels\n",
    "    \n",
    "    cluster_labels = clustering.labels_\n",
    "    \n",
    "    return silhouette_score(adjacency_matrix, cluster_labels,metric=\"precomputed\"), adjusted_rand_score(labels, cluster_labels)\n"
   ]
  },
  {
   "cell_type": "code",
   "execution_count": 51,
   "id": "d6f12ef1-1e2d-4f78-82fb-8653a11a23f6",
   "metadata": {},
   "outputs": [],
   "source": [
    "# Load the CiteSeer dataset\n",
    "dataset_citeseer = datasets.CiteSeer()\n",
    "graph, node_subjects = dataset_citeseer.load()\n",
    "data = graph.to_adjacency_matrix(weighted=False)\n",
    "labels = node_subjects.values"
   ]
  },
  {
   "cell_type": "code",
   "execution_count": 47,
   "id": "854779bc-2be0-4cfa-9c61-ef7c2ae44fb0",
   "metadata": {},
   "outputs": [
    {
     "name": "stderr",
     "output_type": "stream",
     "text": [
      "C:\\Users\\eveli\\.pyenv\\pyenv-win\\versions\\3.8.10\\lib\\site-packages\\sklearn\\cluster\\_kmeans.py:1416: FutureWarning: The default value of `n_init` will change from 10 to 'auto' in 1.4. Set the value of `n_init` explicitly to suppress the warning\n",
      "  super()._check_params_vs_input(X, default_n_init=10)\n",
      "C:\\Users\\eveli\\.pyenv\\pyenv-win\\versions\\3.8.10\\lib\\site-packages\\sklearn\\cluster\\_kmeans.py:1416: FutureWarning: The default value of `n_init` will change from 10 to 'auto' in 1.4. Set the value of `n_init` explicitly to suppress the warning\n",
      "  super()._check_params_vs_input(X, default_n_init=10)\n",
      "C:\\Users\\eveli\\.pyenv\\pyenv-win\\versions\\3.8.10\\lib\\site-packages\\sklearn\\cluster\\_kmeans.py:1416: FutureWarning: The default value of `n_init` will change from 10 to 'auto' in 1.4. Set the value of `n_init` explicitly to suppress the warning\n",
      "  super()._check_params_vs_input(X, default_n_init=10)\n",
      "C:\\Users\\eveli\\.pyenv\\pyenv-win\\versions\\3.8.10\\lib\\site-packages\\sklearn\\cluster\\_kmeans.py:1416: FutureWarning: The default value of `n_init` will change from 10 to 'auto' in 1.4. Set the value of `n_init` explicitly to suppress the warning\n",
      "  super()._check_params_vs_input(X, default_n_init=10)\n",
      "C:\\Users\\eveli\\.pyenv\\pyenv-win\\versions\\3.8.10\\lib\\site-packages\\sklearn\\cluster\\_kmeans.py:1416: FutureWarning: The default value of `n_init` will change from 10 to 'auto' in 1.4. Set the value of `n_init` explicitly to suppress the warning\n",
      "  super()._check_params_vs_input(X, default_n_init=10)\n",
      "C:\\Users\\eveli\\.pyenv\\pyenv-win\\versions\\3.8.10\\lib\\site-packages\\sklearn\\cluster\\_kmeans.py:1416: FutureWarning: The default value of `n_init` will change from 10 to 'auto' in 1.4. Set the value of `n_init` explicitly to suppress the warning\n",
      "  super()._check_params_vs_input(X, default_n_init=10)\n"
     ]
    }
   ],
   "source": [
    "laplacian_methods = [\"sym\", \"rw\",\"ad\"]\n",
    "\n",
    "silhouette_scores = []\n",
    "adjusted_rand_scores = []\n",
    "laplacian = []\n",
    "\n",
    "\n",
    "for laplace in laplacian_methods:\n",
    "\n",
    "    laplacian.append(laplace)\n",
    "\n",
    "    si, ar = spectral_clustering_on_graph(data, labels, laplace, 0)\n",
    "\n",
    "    silhouette_scores.append(si)\n",
    "    adjusted_rand_scores.append(ar)"
   ]
  },
  {
   "cell_type": "code",
   "execution_count": 48,
   "id": "d527970e-82dc-4d2e-b12a-875c4d48138d",
   "metadata": {},
   "outputs": [
    {
     "data": {
      "text/html": [
       "<div>\n",
       "<style scoped>\n",
       "    .dataframe tbody tr th:only-of-type {\n",
       "        vertical-align: middle;\n",
       "    }\n",
       "\n",
       "    .dataframe tbody tr th {\n",
       "        vertical-align: top;\n",
       "    }\n",
       "\n",
       "    .dataframe thead th {\n",
       "        text-align: right;\n",
       "    }\n",
       "</style>\n",
       "<table border=\"1\" class=\"dataframe\">\n",
       "  <thead>\n",
       "    <tr style=\"text-align: right;\">\n",
       "      <th></th>\n",
       "      <th>laplacian</th>\n",
       "      <th>silhouette</th>\n",
       "      <th>adjusted_rand</th>\n",
       "    </tr>\n",
       "  </thead>\n",
       "  <tbody>\n",
       "    <tr>\n",
       "      <th>0</th>\n",
       "      <td>sym</td>\n",
       "      <td>-0.998775</td>\n",
       "      <td>0.020558</td>\n",
       "    </tr>\n",
       "    <tr>\n",
       "      <th>1</th>\n",
       "      <td>rw</td>\n",
       "      <td>-0.001225</td>\n",
       "      <td>0.000004</td>\n",
       "    </tr>\n",
       "    <tr>\n",
       "      <th>2</th>\n",
       "      <td>ad</td>\n",
       "      <td>-0.004902</td>\n",
       "      <td>0.000014</td>\n",
       "    </tr>\n",
       "  </tbody>\n",
       "</table>\n",
       "</div>"
      ],
      "text/plain": [
       "  laplacian  silhouette  adjusted_rand\n",
       "0       sym   -0.998775       0.020558\n",
       "1        rw   -0.001225       0.000004\n",
       "2        ad   -0.004902       0.000014"
      ]
     },
     "execution_count": 48,
     "metadata": {},
     "output_type": "execute_result"
    }
   ],
   "source": [
    "experiment_cora = pd.DataFrame(list(zip(laplacian,silhouette_scores,adjusted_rand_scores)), \n",
    "             columns= [\"laplacian\", \"silhouette\", \"adjusted_rand\"])\n",
    "\n",
    "experiment_cora"
   ]
  },
  {
   "cell_type": "code",
   "execution_count": 49,
   "id": "118a2960-589d-4e5e-a920-24d872a94e70",
   "metadata": {
    "scrolled": true
   },
   "outputs": [
    {
     "data": {
      "image/png": "[encoded data removed]",
      "text/plain": [
       "<Figure size 800x400 with 2 Axes>"
      ]
     },
     "metadata": {},
     "output_type": "display_data"
    }
   ],
   "source": [
    "# Create a figure and axis\n",
    "fig, ax = plt.subplots(figsize=(8, 4))\n",
    "\n",
    "# Plot time on the first y-axis\n",
    "ax.plot(experiment_cora['laplacian'], experiment_cora['silhouette'], marker='o', color='b', label='Time (seconds)')\n",
    "\n",
    "# Create a second y-axis\n",
    "ax2 = ax.twinx()\n",
    "\n",
    "# Plot memory on the second y-axis\n",
    "ax2.plot(experiment_cora['laplacian'], experiment_cora['adjusted_rand'], marker='x', color='r', label='Memory (KB)')\n",
    "\n",
    "# Set labels and legends\n",
    "ax.set_xlabel('laplacian')\n",
    "ax.set_ylabel('silhouette', color='b')\n",
    "ax2.set_ylabel('adjusted_rand', color='r')\n",
    "\n",
    "ax.set_ylim(-1.1, 1)\n",
    "ax2.set_ylim(-1.1, 1)  # Adjust the multiplier as needed\n",
    "\n",
    "\n",
    "# Add legends\n",
    "# ax.legend(loc='upper left')\n",
    "# ax2.legend(loc='upper right')\n",
    "\n",
    "# Show the plot\n",
    "plt.title('experiment_citeseer')\n",
    "plt.show()"
   ]
  },
  {
   "cell_type": "code",
   "execution_count": 52,
   "id": "3ca785d5-b2d8-49c0-8f7b-543a9e590871",
   "metadata": {},
   "outputs": [
    {
     "name": "stderr",
     "output_type": "stream",
     "text": [
      "C:\\Users\\eveli\\.pyenv\\pyenv-win\\versions\\3.8.10\\lib\\site-packages\\sklearn\\cluster\\_kmeans.py:1416: FutureWarning: The default value of `n_init` will change from 10 to 'auto' in 1.4. Set the value of `n_init` explicitly to suppress the warning\n",
      "  super()._check_params_vs_input(X, default_n_init=10)\n",
      "C:\\Users\\eveli\\.pyenv\\pyenv-win\\versions\\3.8.10\\lib\\site-packages\\sklearn\\cluster\\_kmeans.py:1416: FutureWarning: The default value of `n_init` will change from 10 to 'auto' in 1.4. Set the value of `n_init` explicitly to suppress the warning\n",
      "  super()._check_params_vs_input(X, default_n_init=10)\n",
      "C:\\Users\\eveli\\.pyenv\\pyenv-win\\versions\\3.8.10\\lib\\site-packages\\sklearn\\cluster\\_kmeans.py:1416: FutureWarning: The default value of `n_init` will change from 10 to 'auto' in 1.4. Set the value of `n_init` explicitly to suppress the warning\n",
      "  super()._check_params_vs_input(X, default_n_init=10)\n",
      "C:\\Users\\eveli\\.pyenv\\pyenv-win\\versions\\3.8.10\\lib\\site-packages\\sklearn\\cluster\\_kmeans.py:1416: FutureWarning: The default value of `n_init` will change from 10 to 'auto' in 1.4. Set the value of `n_init` explicitly to suppress the warning\n",
      "  super()._check_params_vs_input(X, default_n_init=10)\n",
      "C:\\Users\\eveli\\.pyenv\\pyenv-win\\versions\\3.8.10\\lib\\site-packages\\sklearn\\cluster\\_kmeans.py:1416: FutureWarning: The default value of `n_init` will change from 10 to 'auto' in 1.4. Set the value of `n_init` explicitly to suppress the warning\n",
      "  super()._check_params_vs_input(X, default_n_init=10)\n",
      "C:\\Users\\eveli\\.pyenv\\pyenv-win\\versions\\3.8.10\\lib\\site-packages\\sklearn\\cluster\\_kmeans.py:1416: FutureWarning: The default value of `n_init` will change from 10 to 'auto' in 1.4. Set the value of `n_init` explicitly to suppress the warning\n",
      "  super()._check_params_vs_input(X, default_n_init=10)\n"
     ]
    }
   ],
   "source": [
    "laplacian_methods = [\"sym\", \"rw\",\"ad\"]\n",
    "\n",
    "silhouette_scores = []\n",
    "adjusted_rand_scores = []\n",
    "laplacian = []\n",
    "\n",
    "\n",
    "for laplace in laplacian_methods:\n",
    "\n",
    "    laplacian.append(laplace)\n",
    "\n",
    "    si, ar = spectral_clustering_on_graph(data, labels, laplace, 6)\n",
    "\n",
    "    silhouette_scores.append(si)\n",
    "    adjusted_rand_scores.append(ar)"
   ]
  },
  {
   "cell_type": "code",
   "execution_count": 53,
   "id": "e36d18b6-d01f-48de-9c69-e5cdc53d4d66",
   "metadata": {},
   "outputs": [
    {
     "data": {
      "text/html": [
       "<div>\n",
       "<style scoped>\n",
       "    .dataframe tbody tr th:only-of-type {\n",
       "        vertical-align: middle;\n",
       "    }\n",
       "\n",
       "    .dataframe tbody tr th {\n",
       "        vertical-align: top;\n",
       "    }\n",
       "\n",
       "    .dataframe thead th {\n",
       "        text-align: right;\n",
       "    }\n",
       "</style>\n",
       "<table border=\"1\" class=\"dataframe\">\n",
       "  <thead>\n",
       "    <tr style=\"text-align: right;\">\n",
       "      <th></th>\n",
       "      <th>laplacian</th>\n",
       "      <th>silhouette</th>\n",
       "      <th>adjusted_rand</th>\n",
       "    </tr>\n",
       "  </thead>\n",
       "  <tbody>\n",
       "    <tr>\n",
       "      <th>0</th>\n",
       "      <td>sym</td>\n",
       "      <td>-0.978554</td>\n",
       "      <td>0.003105</td>\n",
       "    </tr>\n",
       "    <tr>\n",
       "      <th>1</th>\n",
       "      <td>rw</td>\n",
       "      <td>-0.998162</td>\n",
       "      <td>0.000167</td>\n",
       "    </tr>\n",
       "    <tr>\n",
       "      <th>2</th>\n",
       "      <td>ad</td>\n",
       "      <td>-1.000000</td>\n",
       "      <td>0.000381</td>\n",
       "    </tr>\n",
       "  </tbody>\n",
       "</table>\n",
       "</div>"
      ],
      "text/plain": [
       "  laplacian  silhouette  adjusted_rand\n",
       "0       sym   -0.978554       0.003105\n",
       "1        rw   -0.998162       0.000167\n",
       "2        ad   -1.000000       0.000381"
      ]
     },
     "execution_count": 53,
     "metadata": {},
     "output_type": "execute_result"
    }
   ],
   "source": [
    "experiment_cora = pd.DataFrame(list(zip(laplacian,silhouette_scores,adjusted_rand_scores)), \n",
    "             columns= [\"laplacian\", \"silhouette\", \"adjusted_rand\"])\n",
    "\n",
    "experiment_cora"
   ]
  },
  {
   "cell_type": "code",
   "execution_count": 54,
   "id": "2463fb01-42b0-442d-802e-80ae632d922d",
   "metadata": {},
   "outputs": [
    {
     "data": {
      "image/png": "[encoded data removed]",
      "text/plain": [
       "<Figure size 800x400 with 2 Axes>"
      ]
     },
     "metadata": {},
     "output_type": "display_data"
    }
   ],
   "source": [
    "# Create a figure and axis\n",
    "fig, ax = plt.subplots(figsize=(8, 4))\n",
    "\n",
    "# Plot time on the first y-axis\n",
    "ax.plot(experiment_cora['laplacian'], experiment_cora['silhouette'], marker='o', color='b', label='Time (seconds)')\n",
    "\n",
    "# Create a second y-axis\n",
    "ax2 = ax.twinx()\n",
    "\n",
    "# Plot memory on the second y-axis\n",
    "ax2.plot(experiment_cora['laplacian'], experiment_cora['adjusted_rand'], marker='x', color='r', label='Memory (KB)')\n",
    "\n",
    "# Set labels and legends\n",
    "ax.set_xlabel('laplacian')\n",
    "ax.set_ylabel('silhouette', color='b')\n",
    "ax2.set_ylabel('adjusted_rand', color='r')\n",
    "\n",
    "ax.set_ylim(-1.1, 1)\n",
    "ax2.set_ylim(-1.1, 1)  # Adjust the multiplier as needed\n",
    "\n",
    "\n",
    "# Add legends\n",
    "# ax.legend(loc='upper left')\n",
    "# ax2.legend(loc='upper right')\n",
    "\n",
    "# Show the plot\n",
    "plt.title('experiment_citeseer')\n",
    "plt.show()"
   ]
  },
  {
   "cell_type": "code",
   "execution_count": null,
   "id": "0072feff-b001-417e-b97d-1a614663c328",
   "metadata": {},
   "outputs": [],
   "source": [
    "dataset_citeseer = datasets.CiteSeer()\n",
    "display(HTML(dataset_citeseer.description))\n",
    "dataset_citeseer.download()\n",
    "\n",
    "edge_list_citeseer = pd.read_csv(\n",
    "    os.path.join(dataset_citeseer.data_directory, \"citeseer.cites\"),\n",
    "    sep=\"\\t\",\n",
    "    header=None,\n",
    "    names=[\"target\", \"source\"],\n",
    ")\n",
    "edge_list_citeseer[\"label\"] = \"cites\"\n",
    "edge_list_citeseer[\"edge_index\"] = edge_list_citeseer.index\n",
    "\n",
    "feature_names_citeseer = [\"w_{}\".format(ii) for ii in range(3703)]\n",
    "column_names_citeseer = feature_names_citeseer + [\"subject\"]\n",
    "node_list_citeseer = pd.read_csv(\n",
    "    os.path.join(dataset_citeseer.data_directory, \"citeseer.content\"),\n",
    "    sep=\"\\t\",\n",
    "    header=None,\n",
    "    names=column_names_citeseer,\n",
    "    low_memory=False,\n",
    ")\n",
    "\n",
    "node_list_citeseer[\"features\"] = node_list_citeseer[feature_names_citeseer].values.tolist()\n",
    "\n",
    "node_list_citeseer = node_list_citeseer.drop(columns=feature_names_citeseer)\n",
    "node_list_citeseer[\"id\"] = node_list_citeseer.index\n",
    "\n",
    "\n",
    "labels = node_list_citeseer[\"subject\"].tolist()\n",
    "\n",
    "# Convert node features to a DataFrame\n",
    "edge_list_citeseer = pd.DataFrame(edge_list_citeseer)\n",
    "node_list_citeseer = pd.DataFrame(node_list_citeseer)\n",
    "\n",
    "# Display the updated DataFrame\n",
    "display(set(labels))\n",
    "display(edge_list_citeseer)\n",
    "display(node_list_citeseer)"
   ]
  },
  {
   "cell_type": "code",
   "execution_count": null,
   "id": "6d7b7cce-8862-4d8e-9f3c-c1d27a6ee563",
   "metadata": {},
   "outputs": [],
   "source": [
    "num_nodes=len(node_list_citeseer)\n",
    "adjacency_matrix=np.zeros((num_nodes,num_nodes))\n",
    "\n",
    "for _,row in edge_list_citeseer.iterrows():\n",
    "    source = row['source']\n",
    "    target = row['target']\n",
    "    adjacency_matrix[source,target]=1\n",
    "print(adjacency_matrix)"
   ]
  },
  {
   "cell_type": "code",
   "execution_count": null,
   "id": "19338166-9c65-4ebe-b46e-977d4f9da9f4",
   "metadata": {},
   "outputs": [],
   "source": [
    "laplacian_methods = [\"sym\", \"rw\",\"ad\"]\n",
    "\n",
    "silhouette_scores = []\n",
    "adjusted_rand_scores = []\n",
    "laplacian = []\n",
    "\n",
    "\n",
    "for laplace in laplacian_methods:\n",
    "\n",
    "    laplacian.append(laplace)\n",
    "\n",
    "    si, ar = spectral_clustering_on_graph(edge_list_citeseer, labels, laplace, 6)\n",
    "\n",
    "    silhouette_scores.append(si)\n",
    "    adjusted_rand_scores.append(ar)\n",
    "\n",
    "experiment_cora = pd.DataFrame(list(zip(laplacian,silhouette_scores,adjusted_rand_scores)), \n",
    "             columns= [\"laplacian\", \"silhouette\", \"adjusted_rand\"])\n",
    "\n",
    "experiment_cora"
   ]
  },
  {
   "cell_type": "code",
   "execution_count": null,
   "id": "53e5a2af-3ad2-40c7-bb97-cb77d025f2a5",
   "metadata": {},
   "outputs": [],
   "source": []
  }
 ],
 "metadata": {
  "kernelspec": {
   "display_name": "Python3.8.10",
   "language": "python",
   "name": "python3.8.10"
  },
  "language_info": {
   "codemirror_mode": {
    "name": "ipython",
    "version": 3
   },
   "file_extension": ".py",
   "mimetype": "text/x-python",
   "name": "python",
   "nbconvert_exporter": "python",
   "pygments_lexer": "ipython3",
   "version": "3.8.10"
  }
 },
 "nbformat": 4,
 "nbformat_minor": 5
}
