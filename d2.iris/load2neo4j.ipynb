{
 "cells": [
  {
   "cell_type": "code",
   "execution_count": 1,
   "id": "08903a35-4fd2-4c1c-937a-4d40409d5394",
   "metadata": {},
   "outputs": [],
   "source": [
    "import pandas as pd\n",
    "from sklearn.datasets import load_iris\n",
    "from neo4j import GraphDatabase"
   ]
  },
  {
   "cell_type": "code",
   "execution_count": 2,
   "id": "20d993d1-3e8e-4bad-a854-560ca1a6008a",
   "metadata": {},
   "outputs": [],
   "source": [
    "# Define paths to your CSV files\n",
    "path_iris_33 = \"iris_33/iris_33.csv\"\n",
    "path_iris_66 = \"iris_66/iris_66.csv\"\n",
    "path_iris_full = \"iris_full/iris_full.csv\"\n",
    "\n",
    "# Read the CSV files into pandas DataFrames\n",
    "iris_33 = pd.read_csv(path_iris_33)\n",
    "iris_66 = pd.read_csv(path_iris_66)\n",
    "iris_full = pd.read_csv(path_iris_full)"
   ]
  },
  {
   "cell_type": "code",
   "execution_count": 4,
   "id": "341f81fd-9dfb-49bf-8517-676fb19bcc5f",
   "metadata": {},
   "outputs": [],
   "source": [
    "# \"First Create an empty database, within a project\"\n",
    "\n",
    "uri = \"bolt://localhost:7687\"\n",
    "username = \"neo4j\" # username for Neo4j, most probably is Neo4j, if you did not change while installing Neo4j Desktop\n",
    "password = \"eigen1234\" # Password for database.\n",
    "database_name = \"d1.iris\"  # Database name\n",
    "\n",
    "driver = GraphDatabase.driver(uri, auth=(username, password))"
   ]
  },
  {
   "cell_type": "code",
   "execution_count": 5,
   "id": "9d004059-2efb-415e-bdb2-153c09f0a326",
   "metadata": {},
   "outputs": [
    {
     "name": "stdout",
     "output_type": "stream",
     "text": [
      "Connection to database successful\n"
     ]
    }
   ],
   "source": [
    "def check_connection():\n",
    "    try:\n",
    "        # Establish a session with the specified database\n",
    "        # with driver.session(database=database_name) as session:\n",
    "        with driver.session(database=database_name) as session:\n",
    "            # Run a simple query to check the connection\n",
    "            result = session.run(\"RETURN 'Connection to database successful' AS message\")\n",
    "            for record in result:\n",
    "                print(record[\"message\"])\n",
    "    except Exception as e:\n",
    "        print(\"Error connecting to the database:\", e)\n",
    "\n",
    "# Call the check_connection function\n",
    "check_connection()"
   ]
  },
  {
   "cell_type": "code",
   "execution_count": 6,
   "id": "2d186d59-efe9-4a4c-9956-65beed8fc9a1",
   "metadata": {},
   "outputs": [],
   "source": [
    "# Function to create nodes in the specified database with a dynamic label\n",
    "def create_nodes(data, driver, label):\n",
    "    try:\n",
    "        # Establish a session with the specified database\n",
    "        with driver.session(database=database_name) as session:\n",
    "\n",
    "            for _, row in data.iterrows():\n",
    "                # Create a dynamic dictionary for properties\n",
    "                properties = row.to_dict()\n",
    "                # Prepare the Cypher query with a dynamic label\n",
    "                query = f\"CREATE (n:{label} {{\"\n",
    "                query += ', '.join([f\"{key}: ${key}\" for key in properties.keys()])\n",
    "                query += \"})\"\n",
    "                \n",
    "                # Run the query with properties\n",
    "                session.run(query, **properties)\n",
    "\n",
    "    except Exception as e:\n",
    "        print(\"Error during node creation:\", e)\n",
    "    finally:\n",
    "        # Close the driver\n",
    "        driver.close()"
   ]
  },
  {
   "cell_type": "code",
   "execution_count": 7,
   "id": "68fa6c65-233b-4629-8971-ffdffa7a59ee",
   "metadata": {},
   "outputs": [
    {
     "name": "stderr",
     "output_type": "stream",
     "text": [
      "/var/folders/5m/3t1ykjr55_555tllby0d28j00000gn/T/ipykernel_31582/1896214563.py:6: DeprecationWarning: Using a driver after it has been closed is deprecated. Future versions of the driver will raise an error.\n",
      "  with driver.session() as session:\n"
     ]
    }
   ],
   "source": [
    "# For subdataset_50\n",
    "create_nodes(iris_33, driver, 'iris_33')\n",
    "\n",
    "# For subdataset_100\n",
    "create_nodes(iris_66, driver, 'iris_66')\n",
    "\n",
    "# For the full dataset (150 samples)\n",
    "create_nodes(iris_full, driver, 'iris_full')\n"
   ]
  },
  {
   "cell_type": "code",
   "execution_count": null,
   "id": "9aae4083-0e61-4ee3-823b-998174a4e7d8",
   "metadata": {},
   "outputs": [],
   "source": []
  }
 ],
 "metadata": {
  "kernelspec": {
   "display_name": "Python 3 (ipykernel)",
   "language": "python",
   "name": "python3"
  },
  "language_info": {
   "codemirror_mode": {
    "name": "ipython",
    "version": 3
   },
   "file_extension": ".py",
   "mimetype": "text/x-python",
   "name": "python",
   "nbconvert_exporter": "python",
   "pygments_lexer": "ipython3",
   "version": "3.8.14"
  }
 },
 "nbformat": 4,
 "nbformat_minor": 5
}
