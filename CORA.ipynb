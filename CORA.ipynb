{
 "cells": [
  {
   "cell_type": "code",
   "execution_count": 1,
   "id": "4d17316d-49c0-4132-a162-5357128fe418",
   "metadata": {},
   "outputs": [],
   "source": [
    "import os.path as osp\n",
    "from torch_geometric.datasets import Planetoid\n",
    "import torch"
   ]
  },
  {
   "cell_type": "code",
   "execution_count": 2,
   "id": "6f159125-4fd8-40c0-a58d-7eaf6bd46fbf",
   "metadata": {},
   "outputs": [],
   "source": [
    "dataset = 'Cora'\n",
    "path = osp.join('.', 'data', dataset)\n",
    "dataset = Planetoid(path, dataset)  # dowload or load the Cora dataset\n",
    "data = dataset[0]"
   ]
  },
  {
   "cell_type": "code",
   "execution_count": 3,
   "id": "e959e936-de0b-445a-9626-704f77c78ced",
   "metadata": {},
   "outputs": [],
   "source": [
    "# Save the dataset to a .pth file \n",
    "torch.save(dataset, 'd3_cora.pth')"
   ]
  },
  {
   "cell_type": "code",
   "execution_count": 4,
   "id": "553e3392-4af4-4f83-ac8f-4eb27a0c38ca",
   "metadata": {},
   "outputs": [
    {
     "data": {
      "text/plain": [
       "<bound method BaseData.node_attrs of Data(x=[2708, 1433], edge_index=[2, 10556], y=[2708], train_mask=[2708], val_mask=[2708], test_mask=[2708])>"
      ]
     },
     "execution_count": 4,
     "metadata": {},
     "output_type": "execute_result"
    }
   ],
   "source": [
    "data.node_attrs"
   ]
  },
  {
   "cell_type": "code",
   "execution_count": 5,
   "id": "86ec7440-e2bb-48cf-8424-b70d94a43836",
   "metadata": {},
   "outputs": [],
   "source": [
    "labels = data.y.tolist()"
   ]
  },
  {
   "cell_type": "code",
   "execution_count": 6,
   "id": "2f41149e-7694-4f71-a4c0-7cde121ff96e",
   "metadata": {},
   "outputs": [
    {
     "data": {
      "text/plain": [
       "{0, 1, 2, 3, 4, 5, 6}"
      ]
     },
     "execution_count": 6,
     "metadata": {},
     "output_type": "execute_result"
    }
   ],
   "source": [
    "set(labels)"
   ]
  },
  {
   "cell_type": "code",
   "execution_count": null,
   "id": "19185a94-bf40-45d9-9dcf-9fc90648b6d5",
   "metadata": {},
   "outputs": [],
   "source": []
  }
 ],
 "metadata": {
  "kernelspec": {
   "display_name": "Python 3 (ipykernel)",
   "language": "python",
   "name": "python3"
  },
  "language_info": {
   "codemirror_mode": {
    "name": "ipython",
    "version": 3
   },
   "file_extension": ".py",
   "mimetype": "text/x-python",
   "name": "python",
   "nbconvert_exporter": "python",
   "pygments_lexer": "ipython3",
   "version": "3.11.5"
  }
 },
 "nbformat": 4,
 "nbformat_minor": 5
}
