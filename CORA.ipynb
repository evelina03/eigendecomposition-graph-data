{
 "cells": [
  {
   "cell_type": "code",
   "execution_count": 18,
   "id": "4d17316d-49c0-4132-a162-5357128fe418",
   "metadata": {},
   "outputs": [],
   "source": [
    "import os as os\n",
    "import numpy as np\n",
    "from torch_geometric.datasets import CitationFull\n",
    "import torch\n",
    "from torch_geometric.utils import to_dense_adj\n",
    "from scipy import linalg\n",
    "\n",
    "from stellargraph import datasets\n",
    "import stellargraph as sg\n",
    "from IPython.display import display, HTML\n",
    "\n",
    "import pandas as pd\n",
    "import networkx as nx\n",
    "import numpy as np\n",
    "import os.path as osp\n",
    "import matplotlib.pyplot as plt\n",
    "\n",
    "from sklearn.cluster import KMeans\n",
    "from sklearn.metrics import silhouette_score\n",
    "from sklearn.metrics import adjusted_rand_score\n",
    "from sklearn.cluster import SpectralClustering\n",
    "\n",
    "from neo4j import GraphDatabase"
   ]
  },
  {
   "cell_type": "code",
   "execution_count": 28,
   "id": "6f159125-4fd8-40c0-a58d-7eaf6bd46fbf",
   "metadata": {},
   "outputs": [
    {
     "data": {
      "text/plain": [
       "torch_geometric.data.data.Data"
      ]
     },
     "execution_count": 28,
     "metadata": {},
     "output_type": "execute_result"
    }
   ],
   "source": [
    "dataset = 'Cora'\n",
    "path = osp.join('.', 'data', dataset)\n",
    "dataset = CitationFull(path, dataset)  # dowload or load the Cora dataset\n",
    "data = dataset[0]"
   ]
  },
  {
   "cell_type": "code",
   "execution_count": null,
   "id": "e959e936-de0b-445a-9626-704f77c78ced",
   "metadata": {},
   "outputs": [],
   "source": [
    "# Save the dataset to a .pth file \n",
    "torch.save(dataset, 'd3_cora.pth')"
   ]
  },
  {
   "cell_type": "code",
   "execution_count": null,
   "id": "553e3392-4af4-4f83-ac8f-4eb27a0c38ca",
   "metadata": {},
   "outputs": [],
   "source": [
    "data.node_attrs"
   ]
  },
  {
   "cell_type": "code",
   "execution_count": null,
   "id": "86ec7440-e2bb-48cf-8424-b70d94a43836",
   "metadata": {},
   "outputs": [],
   "source": [
    "labels = data.y.tolist()"
   ]
  },
  {
   "cell_type": "code",
   "execution_count": null,
   "id": "2f41149e-7694-4f71-a4c0-7cde121ff96e",
   "metadata": {},
   "outputs": [],
   "source": [
    "set(labels)"
   ]
  },
  {
   "cell_type": "code",
   "execution_count": 19,
   "id": "19185a94-bf40-45d9-9dcf-9fc90648b6d5",
   "metadata": {},
   "outputs": [],
   "source": [
    "def spectral_clustering_on_graph(torch_data, labels, laplacian, number_of_clusters):\n",
    "\n",
    "    # adjacency_matrix = to_dense_adj(torch_data.edge_index).squeeze()\n",
    "    # # Convert the PyTorch tensor to a NumPy array\n",
    "    # adjacency_matrix = adjacency_matrix.numpy()\n",
    "\n",
    "    dimension = len(adjacency_matrix)\n",
    "\n",
    "    # Calculate degree matrix\n",
    "    degree_matrix = np.sum(adjacency_matrix, axis=0) * np.eye(dimension)\n",
    "    \n",
    "\n",
    "    if laplacian == \"sym\":\n",
    "\n",
    "        # Normalized Symmetric laplacian matrix\n",
    "        d_half = linalg.fractional_matrix_power(degree_matrix, -0.5)\n",
    "        laplacian_matrix_normalized = np.matmul(np.matmul(d_half, adjacency_matrix), d_half)\n",
    "\n",
    "    if laplacian == \"rw\":\n",
    "\n",
    "        # Normalized Random Walk laplacian matrix\n",
    "        d_inverse = linalg.fractional_matrix_power(degree_matrix, -1)\n",
    "        laplacian_matrix_normalized = np.matmul(d_inverse, adjacency_matrix)\n",
    "\n",
    "\n",
    "    # Calculating eigenvalues and eigenvectors\n",
    "    e, v = np.linalg.eigh(laplacian_matrix_normalized)\n",
    "\n",
    "    index_largest_gap = np.argmax(np.diff(e))\n",
    "    nb_clusters = index_largest_gap + 1\n",
    "    \n",
    "    # Eigen features for k\n",
    "    k = nb_clusters\n",
    "    X = v[:, -1*k:]\n",
    "\n",
    "    # Kmeans\n",
    "    clustering = KMeans(n_clusters = nb_clusters)\n",
    "    clustering.fit(X)\n",
    "    c_labels = clustering.fit_predict(X)\n",
    "\n",
    "    # Create a copy of the data object by initializing a new Data instance\n",
    "    # final_data = Data(\n",
    "    #     edge_index=torch_data.edge_index,  # edge indices\n",
    "    # )\n",
    "\n",
    "    # final_df = torch_data.copy()\n",
    "    # final_df['c_labels'] = c_labels\n",
    "    # final_df['labels'] = labels\n",
    "    \n",
    "    cluster_labels = clustering.labels_\n",
    "    \n",
    "    return silhouette_score(X, cluster_labels), adjusted_rand_score(labels, cluster_labels), nb_clusters\n",
    "\n"
   ]
  },
  {
   "cell_type": "code",
   "execution_count": null,
   "id": "f5d11009-efb9-4e25-ac0c-f03d31855d9a",
   "metadata": {},
   "outputs": [],
   "source": [
    "laplacian_methods = [\"sym\", \"rw\"]\n",
    "\n",
    "silhouette_scores = []\n",
    "adjusted_rand_scores = []\n",
    "clusters = []\n",
    "laplacian = []\n",
    "\n",
    "\n",
    "for laplace in laplacian_methods:\n",
    "\n",
    "    laplacian.append(laplace)\n",
    "\n",
    "    si, ar,cl = spectral_clustering_on_graph(data, labels, laplace, 70)\n",
    "\n",
    "    silhouette_scores.append(si)\n",
    "    adjusted_rand_scores.append(ar)\n",
    "    clusters.append(cl)"
   ]
  },
  {
   "cell_type": "code",
   "execution_count": null,
   "id": "b966cb12-d207-420c-bce2-c48afd2c6590",
   "metadata": {},
   "outputs": [],
   "source": [
    "experiment_cora = pd.DataFrame(list(zip(laplacian,silhouette_scores,adjusted_rand_scores,clusters)), \n",
    "             columns= [\"laplacian\", \"silhouette\", \"adjusted_rand\",\"#_cluster\"])\n",
    "\n",
    "experiment_cora"
   ]
  },
  {
   "cell_type": "code",
   "execution_count": null,
   "id": "75716c8f-0c9c-4d8c-8d6d-0d02b186fe22",
   "metadata": {},
   "outputs": [],
   "source": [
    "# Create a figure and axis\n",
    "fig, ax = plt.subplots(figsize=(8, 4))\n",
    "\n",
    "# Plot time on the first y-axis\n",
    "ax.plot(experiment_cora['laplacian'], experiment_cora['silhouette'], marker='o', color='b', label='Time (seconds)')\n",
    "\n",
    "# Create a second y-axis\n",
    "ax2 = ax.twinx()\n",
    "\n",
    "# Plot memory on the second y-axis\n",
    "ax2.plot(experiment_cora['laplacian'], experiment_cora['adjusted_rand'], marker='x', color='r', label='Memory (KB)')\n",
    "\n",
    "# Set labels and legends\n",
    "ax.set_xlabel('laplacian')\n",
    "ax.set_ylabel('silhouette', color='b')\n",
    "ax2.set_ylabel('adjusted_rand', color='r')\n",
    "\n",
    "ax.set_ylim(-1.1, 1)\n",
    "ax2.set_ylim(-1.1, 1)  # Adjust the multiplier as needed\n",
    "\n",
    "\n",
    "# Add legends\n",
    "# ax.legend(loc='upper left')\n",
    "# ax2.legend(loc='upper right')\n",
    "\n",
    "# Show the plot\n",
    "plt.title('experiment_cora')\n",
    "plt.show()"
   ]
  },
  {
   "cell_type": "code",
   "execution_count": 39,
   "id": "1d5cf9f7-cd6f-4577-af2b-f251e7921e07",
   "metadata": {},
   "outputs": [
    {
     "data": {
      "text/html": [
       "The Cora dataset consists of 2708 scientific publications classified into one of seven classes. The citation network consists of 5429 links. Each publication in the dataset is described by a 0/1-valued word vector indicating the absence/presence of the corresponding word from the dictionary. The dictionary consists of 1433 unique words."
      ],
      "text/plain": [
       "<IPython.core.display.HTML object>"
      ]
     },
     "metadata": {},
     "output_type": "display_data"
    },
    {
     "ename": "IndexError",
     "evalue": "list index out of range",
     "output_type": "error",
     "traceback": [
      "\u001b[0;31m---------------------------------------------------------------------------\u001b[0m",
      "\u001b[0;31mIndexError\u001b[0m                                Traceback (most recent call last)",
      "Cell \u001b[0;32mIn[39], line 52\u001b[0m\n\u001b[1;32m     50\u001b[0m     row \u001b[38;5;241m=\u001b[39m edge[\u001b[38;5;241m0\u001b[39m]\n\u001b[1;32m     51\u001b[0m     col \u001b[38;5;241m=\u001b[39m edge[\u001b[38;5;241m1\u001b[39m]\n\u001b[0;32m---> 52\u001b[0m     \u001b[43madjacency_matrix\u001b[49m\u001b[43m[\u001b[49m\u001b[43mrow\u001b[49m\u001b[43m \u001b[49m\u001b[38;5;241;43m-\u001b[39;49m\u001b[43m \u001b[49m\u001b[38;5;241;43m1\u001b[39;49m\u001b[43m]\u001b[49m[col \u001b[38;5;241m-\u001b[39m \u001b[38;5;241m1\u001b[39m] \u001b[38;5;241m=\u001b[39m \u001b[38;5;241m1\u001b[39m\n\u001b[1;32m     53\u001b[0m     adjacency_matrix[col \u001b[38;5;241m-\u001b[39m \u001b[38;5;241m1\u001b[39m][row \u001b[38;5;241m-\u001b[39m \u001b[38;5;241m1\u001b[39m] \u001b[38;5;241m=\u001b[39m \u001b[38;5;241m1\u001b[39m\n\u001b[1;32m     56\u001b[0m \u001b[38;5;66;03m# Display the updated DataFrame\u001b[39;00m\n",
      "\u001b[0;31mIndexError\u001b[0m: list index out of range"
     ]
    }
   ],
   "source": [
    "dataset_cora = datasets.Cora()\n",
    "display(HTML(dataset_cora.description))\n",
    "dataset_cora.download()\n",
    "\n",
    "edge_list_cora = pd.read_csv(\n",
    "    os.path.join(dataset_cora.data_directory, \"cora.cites\"),\n",
    "    sep=\"\\t\",\n",
    "    header=None,\n",
    "    names=[\"target\", \"source\"],\n",
    ")\n",
    "edge_list_cora[\"label\"] = \"cites\"\n",
    "edge_list_cora[\"edge_index\"] = edge_list_cora.index\n",
    "\n",
    "feature_names_cora = [\"w_{}\".format(ii) for ii in range(1433)]\n",
    "column_names_cora = feature_names_cora + [\"subject\"]\n",
    "node_list_cora = pd.read_csv(\n",
    "    os.path.join(dataset_cora.data_directory, \"cora.content\"),\n",
    "    sep=\"\\t\",\n",
    "    header=None,\n",
    "    names=column_names_cora,\n",
    "    low_memory=False,\n",
    ")\n",
    "\n",
    "node_list_cora[\"features\"] = node_list_cora[feature_names_cora].values.tolist()\n",
    "\n",
    "node_list_cora = node_list_cora.drop(columns=feature_names_cora)\n",
    "node_list_cora[\"id\"] = node_list_cora.index\n",
    "\n",
    "\n",
    "labels = node_list_cora[\"subject\"].tolist()\n",
    "\n",
    "# Convert node features to a DataFrame\n",
    "# edge_list_cora = pd.DataFrame(edge_list_cora)\n",
    "# node_list_cora = pd.DataFrame(node_list_cora)\n",
    "\n",
    "node_list_cora = node_list_cora.sort_index()\n",
    "\n",
    "arr = edge_list_cora[['source', 'target']].to_numpy()\n",
    "arr\n",
    "\n",
    "num_nodes=len(node_list_cora)\n",
    "adjacency_matrix = []\n",
    "for i in range(num_nodes):\n",
    "    row = []\n",
    "    for j in range(num_nodes):\n",
    "        row.append(0)\n",
    "    adjacency_matrix.append(row)\n",
    "\n",
    "for edge in arr:\n",
    "    row = edge[0]\n",
    "    col = edge[1]\n",
    "    adjacency_matrix[row - 1][col - 1] = 1\n",
    "    adjacency_matrix[col - 1][row - 1] = 1\n",
    "\n",
    "\n",
    "# Display the updated DataFrame\n",
    "display(adjacency_matrix)\n",
    "display(set(labels))\n",
    "display(edge_list_cora)\n",
    "display(node_list_cora)"
   ]
  },
  {
   "cell_type": "code",
   "execution_count": 26,
   "id": "6adfaba0-30e2-43ee-b62d-815d58861fc6",
   "metadata": {},
   "outputs": [
    {
     "ename": "TypeError",
     "evalue": "string indices must be integers",
     "output_type": "error",
     "traceback": [
      "\u001b[0;31m---------------------------------------------------------------------------\u001b[0m",
      "\u001b[0;31mTypeError\u001b[0m                                 Traceback (most recent call last)",
      "Cell \u001b[0;32mIn[26], line 8\u001b[0m\n\u001b[1;32m      6\u001b[0m \u001b[38;5;66;03m# Populate the matrix based on the edges\u001b[39;00m\n\u001b[1;32m      7\u001b[0m \u001b[38;5;28;01mfor\u001b[39;00m _ \u001b[38;5;129;01min\u001b[39;00m edge_list_cora:\n\u001b[0;32m----> 8\u001b[0m     u \u001b[38;5;241m=\u001b[39m \u001b[43mrow\u001b[49m\u001b[43m[\u001b[49m\u001b[38;5;124;43m'\u001b[39;49m\u001b[38;5;124;43msource\u001b[39;49m\u001b[38;5;124;43m'\u001b[39;49m\u001b[43m]\u001b[49m\n\u001b[1;32m      9\u001b[0m     v \u001b[38;5;241m=\u001b[39m row[\u001b[38;5;124m'\u001b[39m\u001b[38;5;124mtarget\u001b[39m\u001b[38;5;124m'\u001b[39m]\n\u001b[1;32m     10\u001b[0m     adjacency_matrix[u][v] \u001b[38;5;241m=\u001b[39m \u001b[38;5;241m1\u001b[39m\n",
      "\u001b[0;31mTypeError\u001b[0m: string indices must be integers"
     ]
    }
   ],
   "source": [
    "num_nodes=len(node_list_cora)\n",
    "# adjacency_matrix=np.zeros((num_nodes,num_nodes))\n",
    "adjacency_matrix = [[0] * num_nodes for _ in range(num_nodes)]\n",
    "\n",
    "\n",
    "# Populate the matrix based on the edges\n",
    "for _ in edge_list_cora:\n",
    "    u = row['source']\n",
    "    v = row['target']\n",
    "    adjacency_matrix[u][v] = 1\n",
    "    adjacency_matrix[v][u] = 1  # Undirected graph\n",
    "\n",
    "return adjacency_matrix\n",
    "\n",
    "# Fill the adjacency matrix based on the edges in the graph\n",
    "# for i in range(num_nodes):\n",
    "#     for j in range(num_nodes):\n",
    "#         if edge_list_cora['edge_index'] == \"cites\":\n",
    "#             adjacency_matrix[i][j] = 1\n",
    "#             # For undirected graph, set symmetric entries\n",
    "#             adjacency_matrix[j][i] = 1\n",
    "#         else: \n",
    "#             adjacency_matrix[i][j] = 0\n",
    "#             # For undirected graph, set symmetric entries\n",
    "#             adjacency_matrix[j][i] = 0\n",
    "\n",
    "# return adjacency_matrix\n",
    "\n",
    "\n",
    "# for _,row in edge_list_cora.iterrows():\n",
    "#     source = row['source']\n",
    "#     target = row['target']\n",
    "#     adjacency_matrix[source,target]=1\n",
    "# print(adjacency_matrix)"
   ]
  },
  {
   "cell_type": "code",
   "execution_count": 21,
   "id": "ee2fe634-5744-47e6-87d1-f288cec37f99",
   "metadata": {},
   "outputs": [
    {
     "ename": "AttributeError",
     "evalue": "'Series' object has no attribute 'numel'",
     "output_type": "error",
     "traceback": [
      "\u001b[0;31m---------------------------------------------------------------------------\u001b[0m",
      "\u001b[0;31mAttributeError\u001b[0m                            Traceback (most recent call last)",
      "\u001b[0;32m/var/folders/5m/3t1ykjr55_555tllby0d28j00000gn/T/ipykernel_6575/3593500227.py\u001b[0m in \u001b[0;36m?\u001b[0;34m()\u001b[0m\n\u001b[1;32m      8\u001b[0m \u001b[0mlaplacian_methods\u001b[0m \u001b[0;34m=\u001b[0m \u001b[0;34m[\u001b[0m\u001b[0;34m\"sym\"\u001b[0m\u001b[0;34m,\u001b[0m \u001b[0;34m\"rw\"\u001b[0m\u001b[0;34m,\u001b[0m\u001b[0;34m\"ad\"\u001b[0m\u001b[0;34m]\u001b[0m\u001b[0;34m\u001b[0m\u001b[0;34m\u001b[0m\u001b[0m\n\u001b[1;32m      9\u001b[0m \u001b[0;34m\u001b[0m\u001b[0m\n\u001b[1;32m     10\u001b[0m \u001b[0msilhouette_scores\u001b[0m \u001b[0;34m=\u001b[0m \u001b[0;34m[\u001b[0m\u001b[0;34m]\u001b[0m\u001b[0;34m\u001b[0m\u001b[0;34m\u001b[0m\u001b[0m\n\u001b[1;32m     11\u001b[0m \u001b[0madjusted_rand_scores\u001b[0m \u001b[0;34m=\u001b[0m \u001b[0;34m[\u001b[0m\u001b[0;34m]\u001b[0m\u001b[0;34m\u001b[0m\u001b[0;34m\u001b[0m\u001b[0m\n\u001b[0;32m---> 12\u001b[0;31m \u001b[0mlaplacian\u001b[0m \u001b[0;34m=\u001b[0m \u001b[0;34m[\u001b[0m\u001b[0;34m]\u001b[0m\u001b[0;34m\u001b[0m\u001b[0;34m\u001b[0m\u001b[0m\n\u001b[0m\u001b[1;32m     13\u001b[0m \u001b[0;34m\u001b[0m\u001b[0m\n\u001b[1;32m     14\u001b[0m \u001b[0;34m\u001b[0m\u001b[0m\n\u001b[1;32m     15\u001b[0m \u001b[0;32mfor\u001b[0m \u001b[0mlaplace\u001b[0m \u001b[0;32min\u001b[0m \u001b[0mlaplacian_methods\u001b[0m\u001b[0;34m:\u001b[0m\u001b[0;34m\u001b[0m\u001b[0;34m\u001b[0m\u001b[0m\n",
      "\u001b[0;32m/var/folders/5m/3t1ykjr55_555tllby0d28j00000gn/T/ipykernel_6575/1183496533.py\u001b[0m in \u001b[0;36m?\u001b[0;34m(torch_data, labels, laplacian, number_of_clusters)\u001b[0m\n\u001b[1;32m      1\u001b[0m \u001b[0;32mdef\u001b[0m \u001b[0mspectral_clustering_on_graph\u001b[0m\u001b[0;34m(\u001b[0m\u001b[0mtorch_data\u001b[0m\u001b[0;34m,\u001b[0m \u001b[0mlabels\u001b[0m\u001b[0;34m,\u001b[0m \u001b[0mlaplacian\u001b[0m\u001b[0;34m,\u001b[0m \u001b[0mnumber_of_clusters\u001b[0m\u001b[0;34m)\u001b[0m\u001b[0;34m:\u001b[0m\u001b[0;34m\u001b[0m\u001b[0;34m\u001b[0m\u001b[0m\n\u001b[1;32m      2\u001b[0m \u001b[0;34m\u001b[0m\u001b[0m\n\u001b[0;32m----> 3\u001b[0;31m     \u001b[0madjacency_matrix\u001b[0m \u001b[0;34m=\u001b[0m \u001b[0mto_dense_adj\u001b[0m\u001b[0;34m(\u001b[0m\u001b[0mtorch_data\u001b[0m\u001b[0;34m.\u001b[0m\u001b[0medge_index\u001b[0m\u001b[0;34m)\u001b[0m\u001b[0;34m.\u001b[0m\u001b[0msqueeze\u001b[0m\u001b[0;34m(\u001b[0m\u001b[0;34m)\u001b[0m\u001b[0;34m\u001b[0m\u001b[0;34m\u001b[0m\u001b[0m\n\u001b[0m\u001b[1;32m      4\u001b[0m     \u001b[0;31m# Convert the PyTorch tensor to a NumPy array\u001b[0m\u001b[0;34m\u001b[0m\u001b[0;34m\u001b[0m\u001b[0;34m\u001b[0m\u001b[0m\n\u001b[1;32m      5\u001b[0m     \u001b[0madjacency_matrix\u001b[0m \u001b[0;34m=\u001b[0m \u001b[0madjacency_matrix\u001b[0m\u001b[0;34m.\u001b[0m\u001b[0mnumpy\u001b[0m\u001b[0;34m(\u001b[0m\u001b[0;34m)\u001b[0m\u001b[0;34m\u001b[0m\u001b[0;34m\u001b[0m\u001b[0m\n\u001b[1;32m      6\u001b[0m \u001b[0;34m\u001b[0m\u001b[0m\n",
      "\u001b[0;32m~/.pyenv/versions/3.8.14/lib/python3.8/site-packages/torch_geometric/utils/_to_dense_adj.py\u001b[0m in \u001b[0;36m?\u001b[0;34m(edge_index, batch, edge_attr, max_num_nodes, batch_size)\u001b[0m\n\u001b[1;32m     60\u001b[0m                 [[0., 4.],\n\u001b[1;32m     61\u001b[0m                 [5., 0.]]])\n\u001b[1;32m     62\u001b[0m     \"\"\"\n\u001b[1;32m     63\u001b[0m     \u001b[0;32mif\u001b[0m \u001b[0mbatch\u001b[0m \u001b[0;32mis\u001b[0m \u001b[0;32mNone\u001b[0m\u001b[0;34m:\u001b[0m\u001b[0;34m\u001b[0m\u001b[0;34m\u001b[0m\u001b[0m\n\u001b[0;32m---> 64\u001b[0;31m         \u001b[0mmax_index\u001b[0m \u001b[0;34m=\u001b[0m \u001b[0mint\u001b[0m\u001b[0;34m(\u001b[0m\u001b[0medge_index\u001b[0m\u001b[0;34m.\u001b[0m\u001b[0mmax\u001b[0m\u001b[0;34m(\u001b[0m\u001b[0;34m)\u001b[0m\u001b[0;34m)\u001b[0m \u001b[0;34m+\u001b[0m \u001b[0;36m1\u001b[0m \u001b[0;32mif\u001b[0m \u001b[0medge_index\u001b[0m\u001b[0;34m.\u001b[0m\u001b[0mnumel\u001b[0m\u001b[0;34m(\u001b[0m\u001b[0;34m)\u001b[0m \u001b[0;34m>\u001b[0m \u001b[0;36m0\u001b[0m \u001b[0;32melse\u001b[0m \u001b[0;36m0\u001b[0m\u001b[0;34m\u001b[0m\u001b[0;34m\u001b[0m\u001b[0m\n\u001b[0m\u001b[1;32m     65\u001b[0m         \u001b[0mbatch\u001b[0m \u001b[0;34m=\u001b[0m \u001b[0medge_index\u001b[0m\u001b[0;34m.\u001b[0m\u001b[0mnew_zeros\u001b[0m\u001b[0;34m(\u001b[0m\u001b[0mmax_index\u001b[0m\u001b[0;34m)\u001b[0m\u001b[0;34m\u001b[0m\u001b[0;34m\u001b[0m\u001b[0m\n\u001b[1;32m     66\u001b[0m \u001b[0;34m\u001b[0m\u001b[0m\n\u001b[1;32m     67\u001b[0m     \u001b[0;32mif\u001b[0m \u001b[0mbatch_size\u001b[0m \u001b[0;32mis\u001b[0m \u001b[0;32mNone\u001b[0m\u001b[0;34m:\u001b[0m\u001b[0;34m\u001b[0m\u001b[0;34m\u001b[0m\u001b[0m\n",
      "\u001b[0;32m~/.pyenv/versions/3.8.14/lib/python3.8/site-packages/pandas/core/generic.py\u001b[0m in \u001b[0;36m?\u001b[0;34m(self, name)\u001b[0m\n\u001b[1;32m   5985\u001b[0m             \u001b[0;32mand\u001b[0m \u001b[0mname\u001b[0m \u001b[0;32mnot\u001b[0m \u001b[0;32min\u001b[0m \u001b[0mself\u001b[0m\u001b[0;34m.\u001b[0m\u001b[0m_accessors\u001b[0m\u001b[0;34m\u001b[0m\u001b[0;34m\u001b[0m\u001b[0m\n\u001b[1;32m   5986\u001b[0m             \u001b[0;32mand\u001b[0m \u001b[0mself\u001b[0m\u001b[0;34m.\u001b[0m\u001b[0m_info_axis\u001b[0m\u001b[0;34m.\u001b[0m\u001b[0m_can_hold_identifiers_and_holds_name\u001b[0m\u001b[0;34m(\u001b[0m\u001b[0mname\u001b[0m\u001b[0;34m)\u001b[0m\u001b[0;34m\u001b[0m\u001b[0;34m\u001b[0m\u001b[0m\n\u001b[1;32m   5987\u001b[0m         ):\n\u001b[1;32m   5988\u001b[0m             \u001b[0;32mreturn\u001b[0m \u001b[0mself\u001b[0m\u001b[0;34m[\u001b[0m\u001b[0mname\u001b[0m\u001b[0;34m]\u001b[0m\u001b[0;34m\u001b[0m\u001b[0;34m\u001b[0m\u001b[0m\n\u001b[0;32m-> 5989\u001b[0;31m         \u001b[0;32mreturn\u001b[0m \u001b[0mobject\u001b[0m\u001b[0;34m.\u001b[0m\u001b[0m__getattribute__\u001b[0m\u001b[0;34m(\u001b[0m\u001b[0mself\u001b[0m\u001b[0;34m,\u001b[0m \u001b[0mname\u001b[0m\u001b[0;34m)\u001b[0m\u001b[0;34m\u001b[0m\u001b[0;34m\u001b[0m\u001b[0m\n\u001b[0m",
      "\u001b[0;31mAttributeError\u001b[0m: 'Series' object has no attribute 'numel'"
     ]
    }
   ],
   "source": [
    "laplacian_methods = [\"sym\", \"rw\",\"ad\"]\n",
    "\n",
    "silhouette_scores = []\n",
    "adjusted_rand_scores = []\n",
    "laplacian = []\n",
    "\n",
    "\n",
    "for laplace in laplacian_methods:\n",
    "\n",
    "    laplacian.append(laplace)\n",
    "\n",
    "    si, ar = spectral_clustering_on_graph(edge_list_cora, labels, laplace, 6)\n",
    "\n",
    "    silhouette_scores.append(si)\n",
    "    adjusted_rand_scores.append(ar)\n",
    "\n",
    "experiment_cora = pd.DataFrame(list(zip(laplacian,silhouette_scores,adjusted_rand_scores)), \n",
    "             columns= [\"laplacian\", \"silhouette\", \"adjusted_rand\"])\n",
    "\n",
    "experiment_cora"
   ]
  },
  {
   "cell_type": "code",
   "execution_count": null,
   "id": "ed39914f-337f-4404-9684-39cfc39620b0",
   "metadata": {},
   "outputs": [],
   "source": []
  }
 ],
 "metadata": {
  "kernelspec": {
   "display_name": "Python3.8.14",
   "language": "python",
   "name": "python3.8.14"
  },
  "language_info": {
   "codemirror_mode": {
    "name": "ipython",
    "version": 3
   },
   "file_extension": ".py",
   "mimetype": "text/x-python",
   "name": "python",
   "nbconvert_exporter": "python",
   "pygments_lexer": "ipython3",
   "version": "3.8.14"
  }
 },
 "nbformat": 4,
 "nbformat_minor": 5
}
