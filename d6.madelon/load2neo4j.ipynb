{
 "cells": [
  {
   "cell_type": "code",
   "execution_count": 1,
   "id": "bcdf5d7e-a444-4b5a-9658-b7ac34597c13",
   "metadata": {},
   "outputs": [],
   "source": [
    "import pandas as pd\n",
    "import numpy as np\n",
    "from neo4j import GraphDatabase"
   ]
  },
  {
   "cell_type": "code",
   "execution_count": 2,
   "id": "72ef39df-b681-4994-acca-d30f4fabda24",
   "metadata": {
    "scrolled": true
   },
   "outputs": [],
   "source": [
    "# Define paths to your CSV files\n",
    "path_madelon_33 = \"madelon_33/madelon_33.csv\"\n",
    "path_madelon_66 = \"madelon_66/madelon_66.csv\"\n",
    "path_madelon_full = \"madelon_full/madelon_full.csv\"\n",
    "\n",
    "# Read the CSV files into pandas DataFrames\n",
    "madelon_33 = pd.read_csv(path_madelon_33)\n",
    "madelon_66 = pd.read_csv(path_madelon_66)\n",
    "madelon_full = pd.read_csv(path_madelon_full)"
   ]
  },
  {
   "cell_type": "code",
   "execution_count": 3,
   "id": "ae281056-c07f-4e93-bd59-9eb87cc5bc17",
   "metadata": {},
   "outputs": [],
   "source": [
    "# \"First Create an empty database, within a project\"\n",
    "\n",
    "uri = \"bolt://localhost:7687\"\n",
    "username = \"neo4j\" # username for Neo4j, most probably is Neo4j, if you did not change while installing Neo4j Desktop\n",
    "password = \"eigen1234\" # Password for database.\n",
    "database_name = \"d3.madelon\"  # Database name\n",
    "\n",
    "driver = GraphDatabase.driver(uri, auth=(username, password))"
   ]
  },
  {
   "cell_type": "code",
   "execution_count": 4,
   "id": "e8c03ba6-f003-4561-adb2-7a8e8f083a2f",
   "metadata": {},
   "outputs": [
    {
     "name": "stdout",
     "output_type": "stream",
     "text": [
      "Connection to database successful\n"
     ]
    }
   ],
   "source": [
    "def check_connection(database=database_name):\n",
    "    try:\n",
    "        # Establish a session with the specified database\n",
    "        with driver.session() as session:\n",
    "            # Run a simple query to check the connection\n",
    "            result = session.run(\"RETURN 'Connection to database successful' AS message\")\n",
    "            for record in result:\n",
    "                print(record[\"message\"])\n",
    "    except Exception as e:\n",
    "        print(\"Error connecting to the database:\", e)\n",
    "\n",
    "# Call the check_connection function\n",
    "check_connection()"
   ]
  },
  {
   "cell_type": "code",
   "execution_count": 5,
   "id": "5ec927a5-b260-400e-ae1c-adddb43ecd12",
   "metadata": {},
   "outputs": [],
   "source": [
    "def create_nodes(data, driver, label):\n",
    "    try:\n",
    "        # Establish a session with the specified database\n",
    "        with driver.session() as session:\n",
    "            for _, row in data.iterrows():\n",
    "                # Rename column keys dynamically if the column name is numeric\n",
    "                properties = {\n",
    "                    (f\"feature_{key}\" if str(key).isdigit() else key): value\n",
    "                    for key, value in row.items()\n",
    "                }\n",
    "                \n",
    "                # Prepare the Cypher query with dynamic label and property keys\n",
    "                query = f\"CREATE (n:{label} {{\"\n",
    "                query += ', '.join([f\"{key}: ${key}\" for key in properties.keys()])\n",
    "                query += \"})\"\n",
    "                \n",
    "                # Run the query with the renamed properties\n",
    "                session.run(query, **properties)\n",
    "\n",
    "    except Exception as e:\n",
    "        print(\"Error during node creation:\", e)\n",
    "    finally:\n",
    "        # Close the driver\n",
    "        driver.close()\n"
   ]
  },
  {
   "cell_type": "code",
   "execution_count": 7,
   "id": "7b269d96-bf39-4f83-9ef9-0496c438334c",
   "metadata": {},
   "outputs": [
    {
     "name": "stderr",
     "output_type": "stream",
     "text": [
      "/var/folders/5m/3t1ykjr55_555tllby0d28j00000gn/T/ipykernel_91100/322868076.py:4: DeprecationWarning: Using a driver after it has been closed is deprecated. Future versions of the driver will raise an error.\n",
      "  with driver.session() as session:\n"
     ]
    }
   ],
   "source": [
    "# For subdataset_800\n",
    "create_nodes(madelon_33, driver, 'madelon_33')\n"
   ]
  },
  {
   "cell_type": "code",
   "execution_count": 8,
   "id": "bd8666d7-b993-495c-a39b-321a3ce2aa2a",
   "metadata": {},
   "outputs": [
    {
     "name": "stderr",
     "output_type": "stream",
     "text": [
      "/var/folders/5m/3t1ykjr55_555tllby0d28j00000gn/T/ipykernel_91100/322868076.py:4: DeprecationWarning: Using a driver after it has been closed is deprecated. Future versions of the driver will raise an error.\n",
      "  with driver.session() as session:\n"
     ]
    }
   ],
   "source": [
    "# For subdataset_1600\n",
    "create_nodes(madelon_66, driver, 'madelon_66')"
   ]
  },
  {
   "cell_type": "code",
   "execution_count": 6,
   "id": "f0e088e1-8f32-4525-8188-bf905f505a58",
   "metadata": {},
   "outputs": [],
   "source": [
    "# For the full dataset (2600 samples)\n",
    "create_nodes(madelon_full, driver, 'madelon_full')"
   ]
  },
  {
   "cell_type": "code",
   "execution_count": null,
   "id": "01d9ad7d-c589-4e00-a1b3-f3397d43a997",
   "metadata": {},
   "outputs": [],
   "source": []
  }
 ],
 "metadata": {
  "kernelspec": {
   "display_name": "Python 3 (ipykernel)",
   "language": "python",
   "name": "python3"
  },
  "language_info": {
   "codemirror_mode": {
    "name": "ipython",
    "version": 3
   },
   "file_extension": ".py",
   "mimetype": "text/x-python",
   "name": "python",
   "nbconvert_exporter": "python",
   "pygments_lexer": "ipython3",
   "version": "3.8.14"
  }
 },
 "nbformat": 4,
 "nbformat_minor": 5
}
