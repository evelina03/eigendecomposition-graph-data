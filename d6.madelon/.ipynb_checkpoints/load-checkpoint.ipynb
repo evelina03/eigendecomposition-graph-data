{
 "cells": [
  {
   "cell_type": "code",
   "execution_count": 1,
   "id": "bcdf5d7e-a444-4b5a-9658-b7ac34597c13",
   "metadata": {},
   "outputs": [],
   "source": [
    "import pandas as pd\n",
    "import numpy as np\n",
    "from neo4j import GraphDatabase"
   ]
  },
  {
   "cell_type": "code",
   "execution_count": 2,
   "id": "72ef39df-b681-4994-acca-d30f4fabda24",
   "metadata": {
    "scrolled": true
   },
   "outputs": [
    {
     "name": "stdout",
     "output_type": "stream",
     "text": [
      "        0    1    2    3    4    5    6    7    8    9  ...  491  492  493  \\\n",
      "0     485  477  537  479  452  471  491  476  475  473  ...  481  477  485   \n",
      "1     483  458  460  487  587  475  526  479  485  469  ...  478  487  338   \n",
      "2     487  542  499  468  448  471  442  478  480  477  ...  481  492  650   \n",
      "3     480  491  510  485  495  472  417  474  502  476  ...  480  474  572   \n",
      "4     484  502  528  489  466  481  402  478  487  468  ...  479  452  435   \n",
      "...   ...  ...  ...  ...  ...  ...  ...  ...  ...  ...  ...  ...  ...  ...   \n",
      "2595  493  458  503  478  517  479  472  478  444  477  ...  475  485  443   \n",
      "2596  481  484  481  490  449  481  467  478  469  483  ...  485  508  599   \n",
      "2597  485  485  530  480  444  487  462  475  509  494  ...  474  502  368   \n",
      "2598  477  469  528  485  483  469  482  477  494  476  ...  476  453  638   \n",
      "2599  482  453  515  481  500  493  503  477  501  475  ...  478  487  694   \n",
      "\n",
      "      494  495  496  497  498  499  target  \n",
      "0     511  485  481  479  475  496      -1  \n",
      "1     513  486  483  492  510  517      -1  \n",
      "2     506  501  480  489  499  498      -1  \n",
      "3     454  469  475  482  494  461       1  \n",
      "4     486  508  481  504  495  511       1  \n",
      "...   ...  ...  ...  ...  ...  ...     ...  \n",
      "2595  517  486  474  489  506  506       1  \n",
      "2596  498  527  481  490  455  451       1  \n",
      "2597  453  482  478  481  484  517       1  \n",
      "2598  471  538  470  490  613  492       1  \n",
      "2599  493  499  474  494  536  526      -1  \n",
      "\n",
      "[2600 rows x 501 columns]\n"
     ]
    }
   ],
   "source": [
    "# Reading back the saved file\n",
    "csv_file_path = \"data/madelon_full.csv\"\n",
    "data = pd.read_csv(csv_file_path)\n",
    "\n",
    "# Displaying the first few rows of the combined data\n",
    "print(data)"
   ]
  },
  {
   "cell_type": "code",
   "execution_count": 3,
   "id": "3ad0308b-a228-4d93-ac4e-0b836a4ba7c2",
   "metadata": {},
   "outputs": [
    {
     "name": "stdout",
     "output_type": "stream",
     "text": [
      "Subdataset 800 samples class distribution:\n",
      " target\n",
      "0    400\n",
      "1    400\n",
      "Name: count, dtype: int64\n",
      "Subdataset 1600 samples class distribution:\n",
      " target\n",
      "0    800\n",
      "1    800\n",
      "Name: count, dtype: int64\n",
      "Full dataset class distribution:\n",
      " target\n",
      "1    1310\n",
      "0    1290\n",
      "Name: count, dtype: int64\n"
     ]
    }
   ],
   "source": [
    "np.random.seed(42)\n",
    "data = pd.DataFrame(np.random.rand(2600, 20), columns=[f'feature_{i}' for i in range(20)])\n",
    "data['target'] = np.random.choice([0, 1], size=(2600,), p=[0.5, 0.5])  # Balanced classes\n",
    "\n",
    "# Separate the data by class\n",
    "class_0 = data[data['target'] == 0]\n",
    "class_1 = data[data['target'] == 1]\n",
    "\n",
    "# Create the subdataset with 800 samples (400 samples per class)\n",
    "subdataset_8000 = pd.concat([class_0.sample(400, random_state=42), \n",
    "                            class_1.sample(400, random_state=42)])\n",
    "\n",
    "# Create the subdataset with 1600 samples (800 samples per class)\n",
    "subdataset_14000 = pd.concat([class_0.sample(800, random_state=42), \n",
    "                             class_1.sample(800, random_state=42)])\n",
    "\n",
    "# The full dataset is the entire Madelon dataset (2600 samples)\n",
    "subdataset_full = data\n",
    "\n",
    "# Display the class distributions for each subdataset\n",
    "print(\"Subdataset 800 samples class distribution:\\n\", subdataset_800['target'].value_counts())\n",
    "print(\"Subdataset 1600 samples class distribution:\\n\", subdataset_1600['target'].value_counts())\n",
    "print(\"Full dataset class distribution:\\n\", subdataset_full['target'].value_counts())"
   ]
  },
  {
   "cell_type": "code",
   "execution_count": 4,
   "id": "ae281056-c07f-4e93-bd59-9eb87cc5bc17",
   "metadata": {},
   "outputs": [],
   "source": [
    "# \"First Create an empty database, within a project\"\n",
    "\n",
    "uri = \"bolt://localhost:7687\"\n",
    "username = \"neo4j\" # username for Neo4j, most probably is Neo4j, if you did not change while installing Neo4j Desktop\n",
    "password = \"eigen1234\" # Password for database.\n",
    "database_name = \"d3.madelon\"  # Database name\n",
    "\n",
    "driver = GraphDatabase.driver(uri, auth=(username, password))"
   ]
  },
  {
   "cell_type": "code",
   "execution_count": 5,
   "id": "e8c03ba6-f003-4561-adb2-7a8e8f083a2f",
   "metadata": {},
   "outputs": [
    {
     "name": "stdout",
     "output_type": "stream",
     "text": [
      "Connection to database successful\n"
     ]
    }
   ],
   "source": [
    "def check_connection():\n",
    "    try:\n",
    "        # Establish a session with the specified database\n",
    "        with driver.session(database=database_name) as session:\n",
    "            # Run a simple query to check the connection\n",
    "            result = session.run(\"RETURN 'Connection to database successful' AS message\")\n",
    "            for record in result:\n",
    "                print(record[\"message\"])\n",
    "    except Exception as e:\n",
    "        print(\"Error connecting to the database:\", e)\n",
    "\n",
    "# Call the check_connection function\n",
    "check_connection()"
   ]
  },
  {
   "cell_type": "code",
   "execution_count": 6,
   "id": "5ec927a5-b260-400e-ae1c-adddb43ecd12",
   "metadata": {},
   "outputs": [],
   "source": [
    "# Function to create nodes in the specified database with a dynamic label\n",
    "def create_nodes(data, driver, label):\n",
    "    try:\n",
    "        # Establish a session with the specified database\n",
    "        with driver.session(database=database_name) as session:\n",
    "            for _, row in data.iterrows():\n",
    "                # Create a dynamic dictionary for properties\n",
    "                properties = row.to_dict()\n",
    "                # Prepare the Cypher query with a dynamic label\n",
    "                query = f\"CREATE (n:{label} {{\"\n",
    "                query += ', '.join([f\"{key}: ${key}\" for key in properties.keys()])\n",
    "                query += \"})\"\n",
    "                \n",
    "                # Run the query with properties\n",
    "                session.run(query, **properties)\n",
    "\n",
    "    except Exception as e:\n",
    "        print(\"Error during node creation:\", e)\n",
    "    finally:\n",
    "        # Close the driver\n",
    "        driver.close()"
   ]
  },
  {
   "cell_type": "code",
   "execution_count": 7,
   "id": "7b269d96-bf39-4f83-9ef9-0496c438334c",
   "metadata": {},
   "outputs": [
    {
     "name": "stderr",
     "output_type": "stream",
     "text": [
      "/var/folders/5m/3t1ykjr55_555tllby0d28j00000gn/T/ipykernel_61636/2213674648.py:5: DeprecationWarning: Using a driver after it has been closed is deprecated. Future versions of the driver will raise an error.\n",
      "  with driver.session(database=database_name) as session:\n"
     ]
    }
   ],
   "source": [
    "# For subdataset_800\n",
    "create_nodes(subdataset_800, driver, 'Dataset3_800_madelon')\n",
    "\n",
    "# For subdataset_1600\n",
    "create_nodes(subdataset_1600, driver, 'Dataset3_1600_madelon')\n",
    "\n",
    "# For the full dataset (2600 samples)\n",
    "create_nodes(subdataset_full, driver, 'Dataset3_full_madelon')\n"
   ]
  }
 ],
 "metadata": {
  "kernelspec": {
   "display_name": "Python 3 (ipykernel)",
   "language": "python",
   "name": "python3"
  },
  "language_info": {
   "codemirror_mode": {
    "name": "ipython",
    "version": 3
   },
   "file_extension": ".py",
   "mimetype": "text/x-python",
   "name": "python",
   "nbconvert_exporter": "python",
   "pygments_lexer": "ipython3",
   "version": "3.12.3"
  }
 },
 "nbformat": 4,
 "nbformat_minor": 5
}
