{
 "cells": [
  {
   "cell_type": "code",
   "execution_count": 1,
   "id": "f86bf8f8-00be-4eab-aec7-9cd1f8b7d9da",
   "metadata": {},
   "outputs": [],
   "source": [
    "import sys\n",
    "import os\n",
    "import time\n",
    "import psutil\n",
    "import pandas as pd\n",
    "from neo4j import GraphDatabase"
   ]
  },
  {
   "cell_type": "code",
   "execution_count": 2,
   "id": "023b019d-b62b-4edd-a1d8-2b31869ae739",
   "metadata": {},
   "outputs": [],
   "source": [
    "# Database connection setup\n",
    "uri = \"bolt://localhost:7687\"\n",
    "user = \"neo4j\"\n",
    "password = \"eigen1234\"\n",
    "driver = GraphDatabase.driver(uri, auth=(user, password))"
   ]
  },
  {
   "cell_type": "code",
   "execution_count": 3,
   "id": "98845cb5-edd2-4f60-a058-c5681a1e28f9",
   "metadata": {},
   "outputs": [],
   "source": [
    "# Neo4j connection\n",
    "def create_session(uri, user, password):\n",
    "    driver = GraphDatabase.driver(uri, auth=(user, password))\n",
    "    return driver\n",
    "\n",
    "# Function to run a query and measure performance metrics\n",
    "def run_query(driver, query, parameters):\n",
    "    # Start time and resources\n",
    "    process = psutil.Process(os.getpid())\n",
    "    start_time = time.time()\n",
    "    start_cpu_times = process.cpu_times()\n",
    "    start_mem = process.memory_info().rss  # Resident Set Size\n",
    "\n",
    "    with driver.session() as session:\n",
    "        result = session.run(query, parameters)\n",
    "        record = result.single()\n",
    "        data = record.data() if record else None\n",
    "\n",
    "    # End time and resources\n",
    "    end_time = time.time()\n",
    "    end_cpu_times = process.cpu_times()\n",
    "    end_mem = process.memory_info().rss\n",
    "\n",
    "    # Calculations\n",
    "    duration = end_time - start_time\n",
    "    cpu_used = (end_cpu_times.user + end_cpu_times.system) - (start_cpu_times.user + start_cpu_times.system)\n",
    "    memory_used = (end_mem - start_mem) / (1024 ** 2)  # Convert to MB\n",
    "\n",
    "    return data, duration, memory_used, cpu_used"
   ]
  },
  {
   "cell_type": "code",
   "execution_count": 4,
   "id": "9d745d49-6842-4092-b98c-bfe209003309",
   "metadata": {},
   "outputs": [],
   "source": [
    "# Predefined experiments configurations with all combinations for each sub-dataset\n",
    "experiments = []\n",
    "\n",
    "# Define graph types and Laplacian methods\n",
    "laplacian_types = [\"sym\", \"rw\", \"ad\"]\n",
    "\n",
    "# Define number of eigenvectors and silhouette usage (common for all experiments)\n",
    "number_of_eigenvectors = 7\n",
    "\n",
    "for laplacian_type in laplacian_types:\n",
    "    experiments.append({\n",
    "        \"node_label\": \"cora\",\n",
    "        \"is_feature_based\": False,\n",
    "        \"laplacian_type\": laplacian_type,\n",
    "        \"number_of_eigenvectors\": number_of_eigenvectors,\n",
    "        \"use_kmean_for_silhouette\": True\n",
    "    })\n",
    "\n",
    "# Print or analyze the configurations to ensure correctness\n",
    "# for experiment in experiments:\n",
    "#     print(experiment)"
   ]
  },
  {
   "cell_type": "code",
   "execution_count": 5,
   "id": "84087cd7-5605-42ae-91e6-b30625a3e4f3",
   "metadata": {},
   "outputs": [],
   "source": [
    "# Main function to run experiments\n",
    "def run_experiments(driver):\n",
    "    results = []\n",
    "    total_experiments = len(experiments)\n",
    "    for idx, config in enumerate(experiments, 1):\n",
    "        query = \"\"\"\n",
    "        WITH simkit.spectralClustering({\n",
    "            node_label: $node_label,\n",
    "            is_feature_based: $is_feature_based,\n",
    "            distance_measure: \"euclidean\",\n",
    "            graph_type: \"full\",\n",
    "            parameter: \"3\",\n",
    "            remove_columns: \"index,target\",\n",
    "            laplacian_type: $laplacian_type,\n",
    "            number_of_eigenvectors: $number_of_eigenvectors,\n",
    "            number_of_iterations: \"100\",\n",
    "            distance_measure_kmean: \"euclidean\",\n",
    "            target_column: \"target\",\n",
    "            use_kmean_for_silhouette: $use_kmean_for_silhouette,\n",
    "            seed: 42\n",
    "        }) AS silhouette_score\n",
    "        WITH silhouette_score, simkit.adjustedRandIndex({\n",
    "            nodeSet: $node_label,\n",
    "            trueLabels: \"label\"\n",
    "        }) AS rand_index\n",
    "        RETURN silhouette_score, rand_index\n",
    "        \"\"\"\n",
    "        # Run the combined query and collect metrics\n",
    "        data, duration, memory_used, cpu_used = run_query(driver, query, config)\n",
    "        silhouette_score = data['silhouette_score'] if data else None\n",
    "        rand_index = data['rand_index'] if data else None\n",
    "\n",
    "        # Save results\n",
    "        results.append({\n",
    "            **config,\n",
    "            \"silhouette_score\": silhouette_score,\n",
    "            \"rand_index\": rand_index,\n",
    "            \"duration\": duration,\n",
    "            \"memory_used\": memory_used,\n",
    "            \"cpu_used\": cpu_used\n",
    "        })\n",
    "        # Print progress after each experiment\n",
    "        print(f\"Completed experiment {idx}/{total_experiments} with config: {config}\")\n",
    "\n",
    "    driver.close()\n",
    "    return results"
   ]
  },
  {
   "cell_type": "code",
   "execution_count": 6,
   "id": "a99eb9d4-938b-4e4b-b7c7-1dd07d18b113",
   "metadata": {},
   "outputs": [
    {
     "name": "stdout",
     "output_type": "stream",
     "text": [
      "Running experiments...\n",
      "Completed experiment 1/3 with config: {'node_label': 'Cora', 'is_feature_based': False, 'laplacian_type': 'sym', 'number_of_eigenvectors': 7, 'use_kmean_for_silhouette': True}\n",
      "Completed experiment 2/3 with config: {'node_label': 'Cora', 'is_feature_based': False, 'laplacian_type': 'rw', 'number_of_eigenvectors': 7, 'use_kmean_for_silhouette': True}\n",
      "Completed experiment 3/3 with config: {'node_label': 'Cora', 'is_feature_based': False, 'laplacian_type': 'ad', 'number_of_eigenvectors': 7, 'use_kmean_for_silhouette': True}\n",
      "Experiments completed and saved.\n"
     ]
    }
   ],
   "source": [
    "# # Example scheduling and execution\n",
    "# def job():\n",
    "#     print(\"Running experiments...\")\n",
    "#     result_data = run_experiments(driver)\n",
    "#     # Save to DataFrame and then to CSV\n",
    "#     df = pd.DataFrame(result_data)\n",
    "#     df.to_csv(\"iris_results.csv\", index=False)\n",
    "#     print(\"Experiments completed and saved.\")\n",
    "\n",
    "# schedule.every().day.at(\"01:00\").do(job)\n",
    "\n",
    "# # Loop to keep the scheduler running\n",
    "# while True:\n",
    "#     schedule.run_pending()\n",
    "#     time.sleep(60)  # wait one minute\n",
    "\n",
    "print(\"Running experiments...\")\n",
    "result_data = run_experiments(driver)\n",
    "# Save to DataFrame and then to CSV\n",
    "df = pd.DataFrame(result_data)\n",
    "df.to_csv(\"cora_results.csv\", index=False)\n",
    "print(\"Experiments completed and saved.\")"
   ]
  },
  {
   "cell_type": "code",
   "execution_count": 7,
   "id": "68e8d25a-ac59-45ed-9bb9-814d6cc97fc5",
   "metadata": {},
   "outputs": [
    {
     "data": {
      "text/plain": [
       "[{'node_label': 'Cora',\n",
       "  'is_feature_based': False,\n",
       "  'laplacian_type': 'sym',\n",
       "  'number_of_eigenvectors': 7,\n",
       "  'use_kmean_for_silhouette': True,\n",
       "  'silhouette_score': 0.910795689082788,\n",
       "  'rand_index': 0.001067132342707893,\n",
       "  'duration': 627.5930697917938,\n",
       "  'memory_used': -103.234375,\n",
       "  'cpu_used': 0.049573504000000046},\n",
       " {'node_label': 'Cora',\n",
       "  'is_feature_based': False,\n",
       "  'laplacian_type': 'rw',\n",
       "  'number_of_eigenvectors': 7,\n",
       "  'use_kmean_for_silhouette': True,\n",
       "  'silhouette_score': 1.0,\n",
       "  'rand_index': 0.0,\n",
       "  'duration': 820.7917428016663,\n",
       "  'memory_used': -3.328125,\n",
       "  'cpu_used': 0.05786316799999991},\n",
       " {'node_label': 'Cora',\n",
       "  'is_feature_based': False,\n",
       "  'laplacian_type': 'ad',\n",
       "  'number_of_eigenvectors': 7,\n",
       "  'use_kmean_for_silhouette': True,\n",
       "  'silhouette_score': 0.9577801727597572,\n",
       "  'rand_index': 0.002043128166220619,\n",
       "  'duration': 636.0940659046173,\n",
       "  'memory_used': -1.140625,\n",
       "  'cpu_used': 0.06031641600000004}]"
      ]
     },
     "execution_count": 7,
     "metadata": {},
     "output_type": "execute_result"
    }
   ],
   "source": [
    "result_data"
   ]
  },
  {
   "cell_type": "code",
   "execution_count": null,
   "id": "9ab1798f-fd86-4910-9242-ba3d24c66581",
   "metadata": {},
   "outputs": [],
   "source": []
  },
  {
   "cell_type": "code",
   "execution_count": null,
   "id": "3fe7f941-f30d-4161-bddf-80d757f3221b",
   "metadata": {},
   "outputs": [],
   "source": []
  }
 ],
 "metadata": {
  "kernelspec": {
   "display_name": "Python 3 (ipykernel)",
   "language": "python",
   "name": "python3"
  },
  "language_info": {
   "codemirror_mode": {
    "name": "ipython",
    "version": 3
   },
   "file_extension": ".py",
   "mimetype": "text/x-python",
   "name": "python",
   "nbconvert_exporter": "python",
   "pygments_lexer": "ipython3",
   "version": "3.8.14"
  }
 },
 "nbformat": 4,
 "nbformat_minor": 5
}
