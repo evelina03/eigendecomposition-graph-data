{
 "cells": [
  {
   "cell_type": "code",
   "execution_count": 1,
   "id": "a2e95fa0-1ca2-460e-ad7a-356e5ae3b738",
   "metadata": {},
   "outputs": [],
   "source": [
    "import pandas as pd\n",
    "import os\n",
    "from stellargraph import datasets\n",
    "from IPython.display import display, HTML\n",
    "from neo4j import GraphDatabase\n",
    "import torch\n",
    "\n",
    "import time\n",
    "import py2neo"
   ]
  },
  {
   "cell_type": "markdown",
   "id": "6dafd45b-b48d-4e20-9b71-fc8cf63412c9",
   "metadata": {},
   "source": [
    "functions"
   ]
  },
  {
   "cell_type": "code",
   "execution_count": null,
   "id": "abed0d33-267d-4260-9fb5-5328d4170a05",
   "metadata": {},
   "outputs": [],
   "source": [
    "# def empty_database(graph, dataset_label):\n",
    "#     # Delete nodes and relationships associated with the specified dataset label\n",
    "#     delete_query = f\"\"\"\n",
    "#     MATCH (n:{dataset_label}_Node)\n",
    "#     DETACH DELETE n\n",
    "#     \"\"\"\n",
    "#     tx = graph.auto()\n",
    "#     tx.evaluate(delete_query)\n",
    "    \n",
    "#     # Drop constraints associated with the specified dataset label\n",
    "#     constraints = graph.run(\"CALL db.constraints\").data()\n",
    "#     for constraint in constraints:\n",
    "#         # Check if the constraint description contains the dataset label\n",
    "#         if f\":{dataset_label}_Node\" in constraint['description']:\n",
    "#             graph.run(f\"DROP CONSTRAINT {constraint['name']}\")\n",
    "\n",
    "#     # Drop indexes associated with the specified dataset label\n",
    "#     indexes = graph.run(\"CALL db.indexes\").data()\n",
    "#     for index in indexes:\n",
    "#         # Check if the index description contains the dataset label\n",
    "#         if f\":{dataset_label}_Node\" in index['name']:\n",
    "#             graph.run(f\"DROP INDEX {index['name']}\")"
   ]
  },
  {
   "cell_type": "code",
   "execution_count": null,
   "id": "ddd96115-ed78-459a-8b4d-72b74d4d1f13",
   "metadata": {},
   "outputs": [],
   "source": [
    "# def load_nodes(graph, node_list, dataset_label):\n",
    "#     query = f\"\"\"\n",
    "#     UNWIND $node_list as node\n",
    "#     CREATE (n:{dataset_label}_Node {{\n",
    "#         subject: node.subject,\n",
    "#         features: node.features\n",
    "#     }})\n",
    "#     SET n.ID = toInteger(node.id)\n",
    "#     \"\"\"\n",
    "#     records = node_list.to_dict(\"records\")\n",
    "#     tx = graph.auto()\n",
    "#     tx.evaluate(query, parameters={\"node_list\": records})\n"
   ]
  },
  {
   "cell_type": "code",
   "execution_count": null,
   "id": "e9cf0df8-38d2-4e9b-a50d-cb09e0d4e352",
   "metadata": {},
   "outputs": [],
   "source": [
    "# def load_edges(graph, edge_list, dataset_label):\n",
    "#     query = f\"\"\"\n",
    "#     UNWIND $edge_list as edge\n",
    "#     MATCH (source:{dataset_label}_Node {{ID: toInteger(edge.source)}})\n",
    "#     MATCH (target:{dataset_label}_Node {{ID: toInteger(edge.target)}})\n",
    "#     MERGE (source)-[:{dataset_label}_CITES]->(target)\n",
    "#     \"\"\"\n",
    "#     records = edge_list.to_dict(\"records\")\n",
    "#     tx = graph.auto()\n",
    "#     tx.evaluate(query, parameters={\"edge_list\": records})\n"
   ]
  },
  {
   "cell_type": "code",
   "execution_count": null,
   "id": "d96f22bb-e984-4fa3-adb4-6d5c4f7bdaf9",
   "metadata": {},
   "outputs": [],
   "source": [
    "# def manage_constraints(graph, dataset_label, action=\"create\"):\n",
    "#     if action == \"create\":\n",
    "#         constraint_query = f\"CREATE CONSTRAINT ON (n:{dataset_label}_Node) ASSERT n.ID IS UNIQUE\"\n",
    "#     elif action == \"drop\":\n",
    "#         constraints = graph.run(\"CALL db.constraints\").data()\n",
    "#         for constraint in constraints:\n",
    "#             if dataset_label in constraint['description']:\n",
    "#                 graph.run(f\"DROP CONSTRAINT {constraint['description']}\")\n",
    "#     else:\n",
    "#         raise ValueError(\"Action must be either 'create' or 'drop'\")\n",
    "    \n",
    "#     tx = graph.auto()\n",
    "#     tx.evaluate(constraint_query)\n"
   ]
  },
  {
   "cell_type": "code",
   "execution_count": null,
   "id": "739efe92-cfe2-407c-843c-3a2591073b96",
   "metadata": {},
   "outputs": [],
   "source": [
    "default_host = os.environ.get(\"EIGEN_THESIS\")\n",
    "\n",
    "# Create the Neo4j Graph database object; the arguments can be edited to specify location and authentication\n",
    "graph = py2neo.Graph('neo4j://localhost:7687', user=\"neo4j\", password=\"eigen1234\")"
   ]
  },
  {
   "cell_type": "markdown",
   "id": "ac6e7e3d-6e44-4290-8539-652384374610",
   "metadata": {},
   "source": [
    "CITESEER"
   ]
  },
  {
   "cell_type": "code",
   "execution_count": 2,
   "id": "cef4b37e-3f96-4aa3-aebb-59eaed1bc8c3",
   "metadata": {},
   "outputs": [
    {
     "data": {
      "text/html": [
       "The Cora dataset consists of 2708 scientific publications classified into one of seven classes. The citation network consists of 5429 links. Each publication in the dataset is described by a 0/1-valued word vector indicating the absence/presence of the corresponding word from the dictionary. The dictionary consists of 1433 unique words."
      ],
      "text/plain": [
       "<IPython.core.display.HTML object>"
      ]
     },
     "metadata": {},
     "output_type": "display_data"
    }
   ],
   "source": [
    "# Load the CiteSeer dataset\n",
    "dataset_cora = datasets.Cora()\n",
    "graph, node_subjects = dataset_cora.load()\n",
    "display(HTML(dataset_cora.description))\n",
    "data = graph.to_adjacency_matrix(weighted=False)\n",
    "labels = node_subjects.values"
   ]
  },
  {
   "cell_type": "code",
   "execution_count": null,
   "id": "033cfe79-c424-4c72-817b-40a4c7e2c284",
   "metadata": {},
   "outputs": [],
   "source": [
    "# edge_list_citeseer = pd.read_csv(\n",
    "#     os.path.join(dataset_citeseer.data_directory, \"citeseer.cites\"),\n",
    "#     sep=\"\\t\",\n",
    "#     header=None,\n",
    "#     names=[\"target\", \"source\"],\n",
    "# )\n",
    "# edge_list_citeseer[\"label\"] = \"cites\"\n"
   ]
  },
  {
   "cell_type": "code",
   "execution_count": null,
   "id": "9d042e4f-0a3b-4a0d-8604-1fe1d9d45f0e",
   "metadata": {},
   "outputs": [],
   "source": [
    "# display(edge_list_citeseer)"
   ]
  },
  {
   "cell_type": "code",
   "execution_count": null,
   "id": "a555dd05-5a0a-4359-a4a2-4debc5169d12",
   "metadata": {},
   "outputs": [],
   "source": [
    "# feature_names_citeseer = [\"w_{}\".format(ii) for ii in range(3703)]\n",
    "# column_names_citeseer = feature_names_citeseer + [\"subject\"]\n",
    "# node_list_citeseer = pd.read_csv(\n",
    "#     os.path.join(dataset_citeseer.data_directory, \"citeseer.content\"),\n",
    "#     sep=\"\\t\",\n",
    "#     header=None,\n",
    "#     names=column_names_citeseer,\n",
    "#     low_memory=False,\n",
    "# )"
   ]
  },
  {
   "cell_type": "code",
   "execution_count": null,
   "id": "25d17504-2ab2-4c9c-bea2-85b1494890f3",
   "metadata": {
    "scrolled": true
   },
   "outputs": [],
   "source": [
    "# # gather all features into lists under 'features' column.\n",
    "# node_list_citeseer[\"features\"] = node_list_citeseer[feature_names_citeseer].values.tolist()\n",
    "\n",
    "# node_list_citeseer = node_list_citeseer.drop(columns=feature_names_citeseer)\n",
    "# node_list_citeseer[\"id\"] = node_list_citeseer.index\n",
    "# node_list_citeseer"
   ]
  },
  {
   "cell_type": "code",
   "execution_count": null,
   "id": "fe5b8166-2872-4db5-a9e7-f754151780e9",
   "metadata": {},
   "outputs": [],
   "source": [
    "# empty_database(graph,'citeseer')"
   ]
  },
  {
   "cell_type": "code",
   "execution_count": null,
   "id": "51827fae-79fb-4d5d-ad37-1ccfd4ed4204",
   "metadata": {},
   "outputs": [],
   "source": [
    "# load_nodes(graph,node_list_citeseer,'citeseer')"
   ]
  },
  {
   "cell_type": "code",
   "execution_count": null,
   "id": "780f59b3-90a2-4757-b168-03075e2ee16b",
   "metadata": {},
   "outputs": [],
   "source": [
    "# load_edges(graph,edge_list_citeseer,'citeseer')"
   ]
  },
  {
   "cell_type": "code",
   "execution_count": null,
   "id": "3b9528a6-5be2-4e29-b2c0-854e7dd71143",
   "metadata": {},
   "outputs": [],
   "source": [
    "# manage_constraints(graph,'citeseer')"
   ]
  }
 ],
 "metadata": {
  "kernelspec": {
   "display_name": "Python3.8.10",
   "language": "python",
   "name": "python3.8.10"
  },
  "language_info": {
   "codemirror_mode": {
    "name": "ipython",
    "version": 3
   },
   "file_extension": ".py",
   "mimetype": "text/x-python",
   "name": "python",
   "nbconvert_exporter": "python",
   "pygments_lexer": "ipython3",
   "version": "3.8.10"
  }
 },
 "nbformat": 4,
 "nbformat_minor": 5
}
