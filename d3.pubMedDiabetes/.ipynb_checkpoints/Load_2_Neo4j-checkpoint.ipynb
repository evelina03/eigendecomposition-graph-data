{
 "cells": [
  {
   "cell_type": "code",
   "execution_count": 5,
   "id": "3b7360b4-e576-4dd5-b01d-7ec2150330ee",
   "metadata": {},
   "outputs": [
    {
     "name": "stdout",
     "output_type": "stream",
     "text": [
      "Collecting py2neoNote: you may need to restart the kernel to use updated packages.\n",
      "\n",
      "  Downloading py2neo-2021.2.4-py2.py3-none-any.whl.metadata (9.9 kB)\n",
      "Requirement already satisfied: certifi in c:\\users\\eveli\\.pyenv\\pyenv-win\\versions\\3.8.10\\lib\\site-packages (from py2neo) (2024.8.30)\n",
      "Collecting interchange~=2021.0.4 (from py2neo)\n",
      "  Downloading interchange-2021.0.4-py2.py3-none-any.whl.metadata (1.9 kB)\n",
      "Collecting monotonic (from py2neo)\n",
      "  Downloading monotonic-1.6-py2.py3-none-any.whl.metadata (1.5 kB)\n",
      "Requirement already satisfied: packaging in c:\\users\\eveli\\.pyenv\\pyenv-win\\versions\\3.8.10\\lib\\site-packages (from py2neo) (24.1)\n",
      "Collecting pansi>=2020.7.3 (from py2neo)\n",
      "  Downloading pansi-2020.7.3-py2.py3-none-any.whl.metadata (6.0 kB)\n",
      "Requirement already satisfied: pygments>=2.0.0 in c:\\users\\eveli\\.pyenv\\pyenv-win\\versions\\3.8.10\\lib\\site-packages (from py2neo) (2.18.0)\n",
      "Requirement already satisfied: six>=1.15.0 in c:\\users\\eveli\\.pyenv\\pyenv-win\\versions\\3.8.10\\lib\\site-packages (from py2neo) (1.16.0)\n",
      "Requirement already satisfied: urllib3 in c:\\users\\eveli\\.pyenv\\pyenv-win\\versions\\3.8.10\\lib\\site-packages (from py2neo) (2.2.3)\n",
      "Requirement already satisfied: pytz in c:\\users\\eveli\\.pyenv\\pyenv-win\\versions\\3.8.10\\lib\\site-packages (from interchange~=2021.0.4->py2neo) (2024.2)\n",
      "Downloading py2neo-2021.2.4-py2.py3-none-any.whl (177 kB)\n",
      "   ---------------------------------------- 0.0/177.2 kB ? eta -:--:--\n",
      "   --------------------------- ------------ 122.9/177.2 kB 3.5 MB/s eta 0:00:01\n",
      "   ---------------------------------------- 177.2/177.2 kB 1.8 MB/s eta 0:00:00\n",
      "Downloading interchange-2021.0.4-py2.py3-none-any.whl (28 kB)\n",
      "Downloading pansi-2020.7.3-py2.py3-none-any.whl (10 kB)\n",
      "Downloading monotonic-1.6-py2.py3-none-any.whl (8.2 kB)\n",
      "Installing collected packages: monotonic, pansi, interchange, py2neo\n",
      "Successfully installed interchange-2021.0.4 monotonic-1.6 pansi-2020.7.3 py2neo-2021.2.4\n"
     ]
    },
    {
     "name": "stderr",
     "output_type": "stream",
     "text": [
      "\n",
      "[notice] A new release of pip is available: 23.3.1 -> 24.2\n",
      "[notice] To update, run: C:\\Users\\eveli\\.pyenv\\pyenv-win\\versions\\3.8.10\\python.exe -m pip install --upgrade pip\n"
     ]
    }
   ],
   "source": [
    "pip install py2neo"
   ]
  },
  {
   "cell_type": "code",
   "execution_count": 15,
   "id": "a2e95fa0-1ca2-460e-ad7a-356e5ae3b738",
   "metadata": {},
   "outputs": [],
   "source": [
    "import pandas as pd\n",
    "import numpy as np\n",
    "import os\n",
    "from stellargraph import datasets\n",
    "from IPython.display import display, HTML\n",
    "from neo4j import GraphDatabase\n",
    "import torch\n",
    "\n",
    "import time\n",
    "import py2neo"
   ]
  },
  {
   "cell_type": "markdown",
   "id": "6dafd45b-b48d-4e20-9b71-fc8cf63412c9",
   "metadata": {},
   "source": [
    "functions"
   ]
  },
  {
   "cell_type": "code",
   "execution_count": 16,
   "id": "abed0d33-267d-4260-9fb5-5328d4170a05",
   "metadata": {},
   "outputs": [],
   "source": [
    "# def empty_database(graph, dataset_label):\n",
    "#     # Delete nodes and relationships associated with the specified dataset label\n",
    "#     delete_query = f\"\"\"\n",
    "#     MATCH (n:{dataset_label}_Node)\n",
    "#     DETACH DELETE n\n",
    "#     \"\"\"\n",
    "#     tx = graph.auto()\n",
    "#     tx.evaluate(delete_query)\n",
    "    \n",
    "#     # Drop constraints associated with the specified dataset label\n",
    "#     constraints = graph.run(\"CALL db.constraints\").data()\n",
    "#     for constraint in constraints:\n",
    "#         # Check if the constraint description contains the dataset label\n",
    "#         if f\":{dataset_label}_Node\" in constraint['description']:\n",
    "#             graph.run(f\"DROP CONSTRAINT {constraint['name']}\")\n",
    "\n",
    "#     # Drop indexes associated with the specified dataset label\n",
    "#     indexes = graph.run(\"CALL db.indexes\").data()\n",
    "#     for index in indexes:\n",
    "#         # Check if the index description contains the dataset label\n",
    "#         if f\":{dataset_label}_Node\" in index['name']:\n",
    "#             graph.run(f\"DROP INDEX {index['name']}\")"
   ]
  },
  {
   "cell_type": "code",
   "execution_count": 17,
   "id": "ddd96115-ed78-459a-8b4d-72b74d4d1f13",
   "metadata": {},
   "outputs": [],
   "source": [
    "# def load_nodes(graph, node_list, dataset_label):\n",
    "#     query = f\"\"\"\n",
    "#     UNWIND $node_list as node\n",
    "#     CREATE (n:{dataset_label}_Node {{\n",
    "#         subject: node.subject,\n",
    "#         features: node.features\n",
    "#     }})\n",
    "#     SET n.ID = toInteger(node.id)\n",
    "#     \"\"\"\n",
    "#     records = node_list.to_dict(\"records\")\n",
    "#     tx = graph.auto()\n",
    "#     tx.evaluate(query, parameters={\"node_list\": records})\n"
   ]
  },
  {
   "cell_type": "code",
   "execution_count": 18,
   "id": "e9cf0df8-38d2-4e9b-a50d-cb09e0d4e352",
   "metadata": {},
   "outputs": [],
   "source": [
    "# def load_edges(graph, edge_list, dataset_label):\n",
    "#     query = f\"\"\"\n",
    "#     UNWIND $edge_list as edge\n",
    "#     MATCH (source:{dataset_label}_Node {{ID: toInteger(edge.source)}})\n",
    "#     MATCH (target:{dataset_label}_Node {{ID: toInteger(edge.target)}})\n",
    "#     MERGE (source)-[:{dataset_label}_CITES]->(target)\n",
    "#     \"\"\"\n",
    "#     records = edge_list.to_dict(\"records\")\n",
    "#     tx = graph.auto()\n",
    "#     tx.evaluate(query, parameters={\"edge_list\": records})\n"
   ]
  },
  {
   "cell_type": "code",
   "execution_count": 19,
   "id": "d96f22bb-e984-4fa3-adb4-6d5c4f7bdaf9",
   "metadata": {},
   "outputs": [],
   "source": [
    "# def manage_constraints(graph, dataset_label, action=\"create\"):\n",
    "#     if action == \"create\":\n",
    "#         constraint_query = f\"CREATE CONSTRAINT ON (n:{dataset_label}_Node) ASSERT n.ID IS UNIQUE\"\n",
    "#     elif action == \"drop\":\n",
    "#         constraints = graph.run(\"CALL db.constraints\").data()\n",
    "#         for constraint in constraints:\n",
    "#             if dataset_label in constraint['description']:\n",
    "#                 graph.run(f\"DROP CONSTRAINT {constraint['description']}\")\n",
    "#     else:\n",
    "#         raise ValueError(\"Action must be either 'create' or 'drop'\")\n",
    "    \n",
    "#     tx = graph.auto()\n",
    "#     tx.evaluate(constraint_query)\n"
   ]
  },
  {
   "cell_type": "code",
   "execution_count": 26,
   "id": "739efe92-cfe2-407c-843c-3a2591073b96",
   "metadata": {},
   "outputs": [],
   "source": [
    "default_host = os.environ.get(\"EIGEN_THESIS\")\n",
    "\n",
    "# Create the Neo4j Graph database object; the arguments can be edited to specify location and authentication\n",
    "driver = py2neo.Graph('neo4j://localhost:7687', user=\"neo4j\", password=\"eigen1234\")"
   ]
  },
  {
   "cell_type": "markdown",
   "id": "001e90b5-ffc6-46e9-8b4e-ff789fc3d3b4",
   "metadata": {},
   "source": [
    "PUBMED"
   ]
  },
  {
   "cell_type": "code",
   "execution_count": 21,
   "id": "25df0a42-bc2c-4931-8197-c531201723fa",
   "metadata": {},
   "outputs": [
    {
     "data": {
      "text/html": [
       "The PubMed Diabetes dataset consists of 19717 scientific publications from PubMed database pertaining to diabetes classified into one of three classes. The citation network consists of 44338 links. Each publication in the dataset is described by a TF/IDF weighted word vector from a dictionary which consists of 500 unique words."
      ],
      "text/plain": [
       "<IPython.core.display.HTML object>"
      ]
     },
     "metadata": {},
     "output_type": "display_data"
    }
   ],
   "source": [
    "# Load the CiteSeer dataset\n",
    "dataset_pubmed = datasets.PubMedDiabetes()\n",
    "graph, node_subjects = dataset_pubmed.load()\n",
    "display(HTML(dataset_pubmed.description))\n",
    "data = graph.to_adjacency_matrix(weighted=True)\n",
    "labels = node_subjects.values"
   ]
  },
  {
   "cell_type": "code",
   "execution_count": 22,
   "id": "232aa997-a64e-403a-bf68-f59801b524e2",
   "metadata": {},
   "outputs": [],
   "source": [
    "# Extract nodes and edges\n",
    "nodes = list(range(len(labels)))  # Assuming nodes are indexed by integers\n",
    "edges_with_values = []"
   ]
  },
  {
   "cell_type": "code",
   "execution_count": 23,
   "id": "0938f1a7-ab11-4570-ae80-9cfcd32d135f",
   "metadata": {},
   "outputs": [],
   "source": [
    "# Create edges with their corresponding values\n",
    "for source, target in np.array(np.nonzero(data)).T:\n",
    "    value = data[source, target]  # Get the value from the adjacency matrix\n",
    "    edges_with_values.append((source, target, value))"
   ]
  },
  {
   "cell_type": "code",
   "execution_count": 24,
   "id": "8e765920-d913-46e8-8366-cfb7085f389f",
   "metadata": {},
   "outputs": [],
   "source": [
    "# Function to create nodes\n",
    "def create_nodes(tx, labels):\n",
    "    for i, label in enumerate(labels):\n",
    "        tx.run(\"CREATE (:PubMed {id: $id, label: $label})\", id=i, label=label)\n",
    "\n",
    "# Function to create edges with values\n",
    "def create_edges(tx, edges_with_values):\n",
    "    for source, target, value in edges_with_values:\n",
    "        tx.run(\"\"\"\n",
    "            MATCH (a:PubMed {id: $source}), (b:PubMed {id: $target})\n",
    "            CREATE (a)-[:CITES_PubMed {value: $value}]->(b)\n",
    "        \"\"\", source=source, target=target, value=value)"
   ]
  },
  {
   "cell_type": "code",
   "execution_count": 27,
   "id": "7f7982a5-f43a-42b4-80f3-85c0df12b68e",
   "metadata": {},
   "outputs": [
    {
     "ename": "AttributeError",
     "evalue": "'Graph' object has no attribute 'session'",
     "output_type": "error",
     "traceback": [
      "\u001b[1;31m---------------------------------------------------------------------------\u001b[0m",
      "\u001b[1;31mAttributeError\u001b[0m                            Traceback (most recent call last)",
      "Cell \u001b[1;32mIn[27], line 1\u001b[0m\n\u001b[1;32m----> 1\u001b[0m \u001b[38;5;28;01mwith\u001b[39;00m \u001b[43mdriver\u001b[49m\u001b[38;5;241;43m.\u001b[39;49m\u001b[43msession\u001b[49m() \u001b[38;5;28;01mas\u001b[39;00m session:\n\u001b[0;32m      2\u001b[0m     session\u001b[38;5;241m.\u001b[39mwrite_transaction(create_nodes, labels)\n\u001b[0;32m      3\u001b[0m     session\u001b[38;5;241m.\u001b[39mwrite_transaction(create_edges, edges_with_values)\n",
      "\u001b[1;31mAttributeError\u001b[0m: 'Graph' object has no attribute 'session'"
     ]
    }
   ],
   "source": [
    "with driver.session() as session:\n",
    "    session.write_transaction(create_nodes, labels)\n",
    "    session.write_transaction(create_edges, edges_with_values)\n",
    "\n",
    "driver.close()"
   ]
  },
  {
   "cell_type": "code",
   "execution_count": null,
   "id": "10abe5a0-a44e-4dee-8053-3673b8c63254",
   "metadata": {},
   "outputs": [],
   "source": [
    "# edge_list_pubmed = pd.read_csv(\n",
    "#     os.path.join(dataset_pubmed.data_directory, \"Pubmed-Diabetes.DIRECTED.cites.tab\"),\n",
    "#     sep=\"\\t\",\n",
    "#     header=None,\n",
    "#     names=[\"id\", \"source\", \"pipe\", \"target\"],\n",
    "#     usecols=[\"source\", \"target\",\"id\"],\n",
    "# )\n",
    "# # Strip the \"paper:\" prefix from 'source' and 'target'\n",
    "# edge_list_pubmed['source'] = edge_list_pubmed['source'].str.lstrip(\"paper:\")\n",
    "# edge_list_pubmed['target'] = edge_list_pubmed['target'].str.lstrip(\"paper:\")\n",
    "\n",
    "# # Filter rows with non-integer values\n",
    "# edge_list_pubmed = edge_list_pubmed[edge_list_pubmed['source'].str.isdigit() & edge_list_pubmed['target'].str.isdigit()]\n",
    "\n",
    "# # Convert the filtered columns to integers\n",
    "# edge_list_pubmed['source'] = edge_list_pubmed['source'].astype(int)\n",
    "# edge_list_pubmed['target'] = edge_list_pubmed['target'].astype(int)\n",
    "\n",
    "# edge_list_pubmed[\"label\"] = \"cites\"\n"
   ]
  },
  {
   "cell_type": "code",
   "execution_count": null,
   "id": "11823e0a-3cbd-40da-89c1-095215b2203b",
   "metadata": {},
   "outputs": [],
   "source": [
    "# display(edge_list_pubmed.head(10))"
   ]
  },
  {
   "cell_type": "code",
   "execution_count": null,
   "id": "ebbc63e2-b46c-46bb-afc9-72123d01df14",
   "metadata": {},
   "outputs": [],
   "source": [
    "# feature_names_pubmed = [\"w_{}\".format(ii) for ii in range(500)]\n",
    "# column_names_pubmed = feature_names_pubmed + [\"subject\"]\n",
    "# node_list_pubmed = pd.read_csv(\n",
    "#     os.path.join(dataset_pubmed.data_directory, \"Pubmed-Diabetes.NODE.paper.tab\"),\n",
    "#     sep=\"\\t\",\n",
    "#     skiprows=2,\n",
    "#     header=None,\n",
    "#     names=column_names_pubmed,\n",
    "#     low_memory=False,\n",
    "# )"
   ]
  },
  {
   "cell_type": "code",
   "execution_count": null,
   "id": "b986540b-3d3c-414c-8221-59c323a7c3e9",
   "metadata": {},
   "outputs": [],
   "source": [
    "# # Load the dataset\n",
    "# dataset_pubmed = datasets.PubMedDiabetes()\n",
    "# dataset_pubmed, labels = dataset_pubmed.load()\n",
    "\n",
    "# # Convert node features to a DataFrame\n",
    "# node_list_pubmed = pd.DataFrame(dataset_pubmed.node_features(), index=dataset_pubmed.nodes())\n",
    "\n",
    "# # Combine all feature columns into a single list for each row\n",
    "# node_list_pubmed[\"features\"] = node_list_pubmed.apply(lambda row: row.tolist(), axis=1)\n",
    "\n",
    "# # Add labels as a separate column\n",
    "# node_list_pubmed[\"label\"] = labels.values\n",
    "\n",
    "# # Add the node IDs as a separate column\n",
    "# node_list_pubmed[\"id\"] = dataset_pubmed.nodes()\n",
    "\n",
    "# # Drop the individual feature columns to retain only 'features' and 'label'\n",
    "# node_list_pubmed = node_list_pubmed[[\"id\",\"features\", \"label\"]]\n",
    "\n",
    "# # Display the updated DataFrame\n",
    "# node_list_pubmed.head(10)\n"
   ]
  },
  {
   "cell_type": "code",
   "execution_count": null,
   "id": "260e9c86-fd23-4c0f-8f4c-0c6375d5624c",
   "metadata": {},
   "outputs": [],
   "source": [
    "# load_nodes(graph,node_list_pubmed,'pubmed')"
   ]
  },
  {
   "cell_type": "code",
   "execution_count": null,
   "id": "27610a1a-60d7-4ce5-8e10-de0142bc2b40",
   "metadata": {},
   "outputs": [],
   "source": [
    "# load_edges(graph,edge_list_pubmed,'pubmed')"
   ]
  }
 ],
 "metadata": {
  "kernelspec": {
   "display_name": "Python3.8.10",
   "language": "python",
   "name": "python3.8.10"
  },
  "language_info": {
   "codemirror_mode": {
    "name": "ipython",
    "version": 3
   },
   "file_extension": ".py",
   "mimetype": "text/x-python",
   "name": "python",
   "nbconvert_exporter": "python",
   "pygments_lexer": "ipython3",
   "version": "3.8.10"
  }
 },
 "nbformat": 4,
 "nbformat_minor": 5
}
