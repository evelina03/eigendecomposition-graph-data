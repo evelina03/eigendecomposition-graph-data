{
 "cells": [
  {
   "cell_type": "code",
   "execution_count": 1,
   "id": "a2e95fa0-1ca2-460e-ad7a-356e5ae3b738",
   "metadata": {},
   "outputs": [],
   "source": [
    "from neo4j import GraphDatabase\n",
    "import pandas as pd"
   ]
  },
  {
   "cell_type": "code",
   "execution_count": 2,
   "id": "cd63e32a-efae-480f-bc93-183167db994a",
   "metadata": {},
   "outputs": [],
   "source": [
    "# Define paths to your CSV files in respective folders\n",
    "path_pubmed_33_nodes = \"pubmed_33/nodes.csv\"\n",
    "path_pubmed_66_nodes = \"pubmed_66/nodes.csv\"\n",
    "path_pubmed_full_nodes = \"pubmed_full/nodes.csv\"\n",
    "\n",
    "path_pubmed_33_edges = \"pubmed_33/edges.csv\"\n",
    "path_pubmed_66_edges = \"pubmed_66/edges.csv\"\n",
    "path_pubmed_full_edges = \"pubmed_full/edges.csv\"\n",
    "\n",
    "# Read the CSV files into pandas DataFrames\n",
    "pubmed_33_nodes = pd.read_csv(path_pubmed_33_nodes)\n",
    "pubmed_66_nodes = pd.read_csv(path_pubmed_66_nodes)\n",
    "pubmed_full_nodes = pd.read_csv(path_pubmed_full_nodes)\n",
    "\n",
    "pubmed_33_edges = pd.read_csv(path_pubmed_33_edges)\n",
    "pubmed_66_edges = pd.read_csv(path_pubmed_66_edges)\n",
    "pubmed_full_edges = pd.read_csv(path_pubmed_full_edges)"
   ]
  },
  {
   "cell_type": "code",
   "execution_count": 3,
   "id": "19118877-d56c-459e-8a16-48d0d89e3e52",
   "metadata": {},
   "outputs": [],
   "source": [
    "# \"First Create an empty database, within a project\"\n",
    "\n",
    "uri = \"bolt://localhost:7687\"\n",
    "username = \"neo4j\" # username for Neo4j, most probably is Neo4j, if you did not change while installing Neo4j Desktop\n",
    "password = \"eigen1234\" # Password for database.\n",
    "database_name = \"d3.pubmed\"  # Database name\n",
    "\n",
    "driver = GraphDatabase.driver(uri, auth=(username, password))"
   ]
  },
  {
   "cell_type": "code",
   "execution_count": 4,
   "id": "8589d7bb-ed63-4618-a3d7-c19e3cbecb75",
   "metadata": {},
   "outputs": [
    {
     "name": "stdout",
     "output_type": "stream",
     "text": [
      "Connection to database successful\n"
     ]
    }
   ],
   "source": [
    "def check_connection():\n",
    "    try:\n",
    "        # Establish a session with the specified database\n",
    "        with driver.session(database=database_name) as session:\n",
    "            # Run a simple query to check the connection\n",
    "            result = session.run(\"RETURN 'Connection to database successful' AS message\")\n",
    "            for record in result:\n",
    "                print(record[\"message\"])\n",
    "    except Exception as e:\n",
    "        print(\"Error connecting to the database:\", e)\n",
    "\n",
    "# Call the check_connection function\n",
    "check_connection()"
   ]
  },
  {
   "cell_type": "code",
   "execution_count": 5,
   "id": "aeeeef22-db8d-40ec-b9c8-e433ce50db44",
   "metadata": {},
   "outputs": [],
   "source": [
    "# Function to create nodes in the specified database with a dynamic label\n",
    "def create_nodes(data, driver, label):\n",
    "    \"\"\"Create nodes in Neo4j from a CSV file.\"\"\"\n",
    "    try:\n",
    "        # Load the CSV data\n",
    "        node_data = pd.read_csv(data)\n",
    "        \n",
    "        with driver.session(database=database_name) as session:\n",
    "            for _, row in node_data.iterrows():\n",
    "                properties = row.to_dict()\n",
    "                properties['features'] = eval(properties['features'])  # Convert string back to list if saved as string\n",
    "                query = f\"CREATE (n:{label} {{id: $id, features: $features, label: $label}})\"\n",
    "                session.run(query, **properties)\n",
    "\n",
    "    except Exception as e:\n",
    "        print(\"Error during node creation:\", e)    \n",
    "    finally:\n",
    "        # Close the driver\n",
    "        driver.close()"
   ]
  },
  {
   "cell_type": "code",
   "execution_count": 6,
   "id": "6329729a-ca1a-4d17-bb57-165ff44e2165",
   "metadata": {},
   "outputs": [],
   "source": [
    "def create_edges(data, driver, node_label, edge_label):\n",
    "    \"\"\"Create undirected edges in Neo4j from a CSV file, ensuring only one edge is created between two nodes.\"\"\"\n",
    "    try:\n",
    "        # Load the edge list\n",
    "        edge_data = pd.read_csv(data)\n",
    "        \n",
    "        with driver.session(database=database_name) as session:\n",
    "            for _, row in edge_data.iterrows():\n",
    "                # Ensure the smaller id is always the 'source' and the larger id is the 'target'\n",
    "                source_id = min(row['source_id'], row['target_id'])\n",
    "                target_id = max(row['source_id'], row['target_id'])\n",
    "                \n",
    "                # Cypher query to create an undirected edge (just one edge, not two directions)\n",
    "                query = f\"\"\"\n",
    "                MATCH (source:{node_label} {{id: $source_id}})\n",
    "                MATCH (target:{node_label} {{id: $target_id}})\n",
    "                MERGE (source)-[:{edge_label} {{value: 1}}]->(target)\n",
    "                \"\"\"\n",
    "                \n",
    "                # Run the query with the sorted source and target ids\n",
    "                session.run(query, {\"source_id\": source_id, \"target_id\": target_id})\n",
    "\n",
    "    except Exception as e:\n",
    "        print(\"Error during edge creation:\", e)\n",
    "    finally:\n",
    "        # Close the driver\n",
    "        driver.close()"
   ]
  },
  {
   "cell_type": "code",
   "execution_count": 7,
   "id": "3c1f6baf-261c-4d52-b36a-039f48dbcb46",
   "metadata": {},
   "outputs": [],
   "source": [
    "create_nodes(path_pubmed_33_nodes,driver,\"pubmed_33\")\n",
    "create_edges(path_pubmed_33_edges,driver,\"pubmed_33\",\"cites_pubmed_33\")\n",
    "create_nodes(path_pubmed_66_nodes,driver,\"pubmed_66\")\n",
    "create_edges(path_pubmed_66_edges,driver,\"pubmed_66\",\"cites_pubmed_66\")\n",
    "create_nodes(path_pubmed_full_nodes,driver,\"pubmed_full\")\n",
    "create_edges(path_pubmed_full_edges,driver,\"pubmed_full\",\"cites_pubmed_full\")"
   ]
  },
  {
   "cell_type": "code",
   "execution_count": null,
   "id": "5433c7b7-3311-4d91-8d27-ae3bc05476c1",
   "metadata": {},
   "outputs": [],
   "source": []
  }
 ],
 "metadata": {
  "kernelspec": {
   "display_name": "Python 3 (ipykernel)",
   "language": "python",
   "name": "python3"
  },
  "language_info": {
   "codemirror_mode": {
    "name": "ipython",
    "version": 3
   },
   "file_extension": ".py",
   "mimetype": "text/x-python",
   "name": "python",
   "nbconvert_exporter": "python",
   "pygments_lexer": "ipython3",
   "version": "3.8.14"
  }
 },
 "nbformat": 4,
 "nbformat_minor": 5
}
