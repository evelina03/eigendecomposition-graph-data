{
 "cells": [
  {
   "cell_type": "code",
   "execution_count": 1,
   "id": "f86bf8f8-00be-4eab-aec7-9cd1f8b7d9da",
   "metadata": {},
   "outputs": [],
   "source": [
    "import sys\n",
    "import os\n",
    "import time\n",
    "import psutil\n",
    "import pandas as pd\n",
    "from neo4j import GraphDatabase"
   ]
  },
  {
   "cell_type": "code",
   "execution_count": 2,
   "id": "023b019d-b62b-4edd-a1d8-2b31869ae739",
   "metadata": {},
   "outputs": [],
   "source": [
    "# \"First Create an empty database, within a project\"\n",
    "\n",
    "uri = \"bolt://localhost:7687\"\n",
    "username = \"neo4j\" # username for Neo4j, most probably is Neo4j, if you did not change while installing Neo4j Desktop\n",
    "password = \"eigen1234\" # Password for database.\n",
    "database_name = \"d3.pubmed\"  # Database name\n",
    "\n",
    "driver = GraphDatabase.driver(uri, auth=(username, password))"
   ]
  },
  {
   "cell_type": "code",
   "execution_count": null,
   "id": "f197744c-884d-46a5-a127-f743328b9530",
   "metadata": {},
   "outputs": [],
   "source": [
    "def check_connection():\n",
    "    try:\n",
    "        # Establish a session with the specified database\n",
    "        with driver.session(database=database_name) as session:\n",
    "            # Run a simple query to check the connection\n",
    "            result = session.run(\"RETURN 'Connection to database successful' AS message\")\n",
    "            for record in result:\n",
    "                print(record[\"message\"])\n",
    "    except Exception as e:\n",
    "        print(\"Error connecting to the database:\", e)\n",
    "\n",
    "# Call the check_connection function\n",
    "check_connection()"
   ]
  },
  {
   "cell_type": "code",
   "execution_count": 3,
   "id": "98845cb5-edd2-4f60-a058-c5681a1e28f9",
   "metadata": {},
   "outputs": [
    {
     "name": "stdout",
     "output_type": "stream",
     "text": [
      "Connection to database successful\n"
     ]
    }
   ],
   "source": [
    "# # Neo4j connection\n",
    "# # Neo4j connection\n",
    "# def create_session(uri, user, password):\n",
    "#     \"\"\"\n",
    "#     Establish a connection to the Neo4j database.\n",
    "#     \"\"\"\n",
    "#     driver = GraphDatabase.driver(uri, auth=(user, password))\n",
    "#     return driver\n",
    "\n",
    "\n",
    "# def check_connection():\n",
    "#     try:\n",
    "#         # Establish a session with the specified database\n",
    "#         with driver.session(database=database_name) as session:\n",
    "#             # Run a simple query to check the connection\n",
    "#             result = session.run(\"RETURN 'Connection to database successful' AS message\")\n",
    "#             for record in result:\n",
    "#                 print(record[\"message\"])\n",
    "#     except Exception as e:\n",
    "#         print(\"Error connecting to the database:\", e)\n",
    "\n",
    "# # Call the check_connection function\n",
    "# check_connection()\n",
    "\n",
    "# Function to run a query and measure performance metrics\n",
    "def run_query(driver, query, parameters):\n",
    "    # Start time and resources\n",
    "    process = psutil.Process(os.getpid())\n",
    "    start_time = time.time()\n",
    "    start_cpu_times = process.cpu_times()\n",
    "    start_mem = process.memory_info().rss  # Resident Set Size\n",
    "\n",
    "    with driver.session(database=database_name) as session:\n",
    "        result = session.run(query, parameters)\n",
    "        record = result.single()\n",
    "        data = record.data() if record else None\n",
    "\n",
    "    # End time and resources\n",
    "    end_time = time.time()\n",
    "    end_cpu_times = process.cpu_times()\n",
    "    end_mem = process.memory_info().rss\n",
    "\n",
    "    # Calculations\n",
    "    duration = end_time - start_time\n",
    "    cpu_used = (end_cpu_times.user + end_cpu_times.system) - (start_cpu_times.user + start_cpu_times.system)\n",
    "    memory_used = (end_mem - start_mem) / (1024 ** 2)  # Convert to MB\n",
    "\n",
    "    return data, duration, memory_used, cpu_used"
   ]
  },
  {
   "cell_type": "code",
   "execution_count": 4,
   "id": "9d745d49-6842-4092-b98c-bfe209003309",
   "metadata": {},
   "outputs": [],
   "source": [
    "# Predefined experiments configurations with all combinations for each sub-dataset\n",
    "experiments = []\n",
    "\n",
    "# Define graph types and Laplacian methods\n",
    "laplacian_types = [\"sym\", \"rw\", \"ad\"]\n",
    "\n",
    "# Define number of eigenvectors and silhouette usage (common for all experiments)\n",
    "number_of_eigenvectors = 3\n",
    "\n",
    "# Define all node labels corresponding to the datasets\n",
    "node_labels = [\"pubmed_33\", \"pubmed_66\", \"pubmed_full\"]\n",
    "\n",
    "# Create experiments for each node label and Laplacian type\n",
    "for node_label in node_labels:\n",
    "    for laplacian_type in laplacian_types:\n",
    "        experiments.append({\n",
    "            \"node_label\": node_label,\n",
    "            \"is_feature_based\": False,\n",
    "            \"laplacian_type\": laplacian_type,\n",
    "            \"number_of_eigenvectors\": number_of_eigenvectors,\n",
    "            \"use_kmean_for_silhouette\": True\n",
    "        })\n",
    "\n",
    "# Print or analyze the configurations to ensure correctness\n",
    "# for experiment in experiments:\n",
    "#     print(experiment)"
   ]
  },
  {
   "cell_type": "code",
   "execution_count": 5,
   "id": "84087cd7-5605-42ae-91e6-b30625a3e4f3",
   "metadata": {},
   "outputs": [],
   "source": [
    "# Main function to run experiments\n",
    "def run_experiments(driver):\n",
    "    results = []\n",
    "    total_experiments = len(experiments)\n",
    "    for idx, config in enumerate(experiments, 1):\n",
    "        query = \"\"\"\n",
    "        WITH simkit.spectralClustering({\n",
    "            node_label: $node_label,\n",
    "            is_feature_based: $is_feature_based,\n",
    "            distance_measure: \"euclidean\",\n",
    "            graph_type: \"full\",\n",
    "            parameter: \"3\",\n",
    "            remove_columns: \"index,target\",\n",
    "            laplacian_type: $laplacian_type,\n",
    "            number_of_eigenvectors: $number_of_eigenvectors,\n",
    "            number_of_iterations: \"100\",\n",
    "            distance_measure_kmean: \"euclidean\",\n",
    "            target_column: \"target\",\n",
    "            use_kmean_for_silhouette: $use_kmean_for_silhouette,\n",
    "            seed: 42\n",
    "        }) AS silhouette_score\n",
    "        WITH silhouette_score, simkit.adjustedRandIndex({\n",
    "            nodeSet: $node_label,\n",
    "            trueLabels: \"label\"\n",
    "        }) AS rand_index\n",
    "        RETURN silhouette_score, rand_index\n",
    "        \"\"\"\n",
    "        # Run the combined query and collect metrics\n",
    "        data, duration, memory_used, cpu_used = run_query(driver, query, config)\n",
    "        silhouette_score = data['silhouette_score'] if data else None\n",
    "        rand_index = data['rand_index'] if data else None\n",
    "\n",
    "        # Save results\n",
    "        results.append({\n",
    "            **config,\n",
    "            \"silhouette_score\": silhouette_score,\n",
    "            \"rand_index\": rand_index,\n",
    "            \"duration\": duration,\n",
    "            \"memory_used\": memory_used,\n",
    "            \"cpu_used\": cpu_used\n",
    "        })\n",
    "        # Print progress after each experiment\n",
    "        print(f\"Completed experiment {idx}/{total_experiments} with config: {config}\")\n",
    "\n",
    "    driver.close()\n",
    "    return results"
   ]
  },
  {
   "cell_type": "code",
   "execution_count": 6,
   "id": "a99eb9d4-938b-4e4b-b7c7-1dd07d18b113",
   "metadata": {},
   "outputs": [
    {
     "name": "stdout",
     "output_type": "stream",
     "text": [
      "Running experiments...\n"
     ]
    },
    {
     "ename": "ClientError",
     "evalue": "{code: Neo.ClientError.Procedure.ProcedureCallFailed} {message: Failed to invoke function `simkit.spectralClustering`: Caused by: java.lang.Exception: No nodes found with the label: Pubmed_full}",
     "output_type": "error",
     "traceback": [
      "\u001b[0;31m---------------------------------------------------------------------------\u001b[0m",
      "\u001b[0;31mClientError\u001b[0m                               Traceback (most recent call last)",
      "Cell \u001b[0;32mIn[6], line 18\u001b[0m\n\u001b[1;32m      1\u001b[0m \u001b[38;5;66;03m# # Example scheduling and execution\u001b[39;00m\n\u001b[1;32m      2\u001b[0m \u001b[38;5;66;03m# def job():\u001b[39;00m\n\u001b[1;32m      3\u001b[0m \u001b[38;5;66;03m#     print(\"Running experiments...\")\u001b[39;00m\n\u001b[0;32m   (...)\u001b[0m\n\u001b[1;32m     14\u001b[0m \u001b[38;5;66;03m#     schedule.run_pending()\u001b[39;00m\n\u001b[1;32m     15\u001b[0m \u001b[38;5;66;03m#     time.sleep(60)  # wait one minute\u001b[39;00m\n\u001b[1;32m     17\u001b[0m \u001b[38;5;28mprint\u001b[39m(\u001b[38;5;124m\"\u001b[39m\u001b[38;5;124mRunning experiments...\u001b[39m\u001b[38;5;124m\"\u001b[39m)\n\u001b[0;32m---> 18\u001b[0m result_data \u001b[38;5;241m=\u001b[39m \u001b[43mrun_experiments\u001b[49m\u001b[43m(\u001b[49m\u001b[43mdriver\u001b[49m\u001b[43m)\u001b[49m\n\u001b[1;32m     19\u001b[0m \u001b[38;5;66;03m# Save to DataFrame and then to CSV\u001b[39;00m\n\u001b[1;32m     20\u001b[0m df \u001b[38;5;241m=\u001b[39m pd\u001b[38;5;241m.\u001b[39mDataFrame(result_data)\n",
      "Cell \u001b[0;32mIn[5], line 29\u001b[0m, in \u001b[0;36mrun_experiments\u001b[0;34m(driver)\u001b[0m\n\u001b[1;32m      6\u001b[0m query \u001b[38;5;241m=\u001b[39m \u001b[38;5;124m\"\"\"\u001b[39m\n\u001b[1;32m      7\u001b[0m \u001b[38;5;124mWITH simkit.spectralClustering(\u001b[39m\u001b[38;5;124m{\u001b[39m\n\u001b[1;32m      8\u001b[0m \u001b[38;5;124m    node_label: $node_label,\u001b[39m\n\u001b[0;32m   (...)\u001b[0m\n\u001b[1;32m     26\u001b[0m \u001b[38;5;124mRETURN silhouette_score, rand_index\u001b[39m\n\u001b[1;32m     27\u001b[0m \u001b[38;5;124m\u001b[39m\u001b[38;5;124m\"\"\"\u001b[39m\n\u001b[1;32m     28\u001b[0m \u001b[38;5;66;03m# Run the combined query and collect metrics\u001b[39;00m\n\u001b[0;32m---> 29\u001b[0m data, duration, memory_used, cpu_used \u001b[38;5;241m=\u001b[39m \u001b[43mrun_query\u001b[49m\u001b[43m(\u001b[49m\u001b[43mdriver\u001b[49m\u001b[43m,\u001b[49m\u001b[43m \u001b[49m\u001b[43mquery\u001b[49m\u001b[43m,\u001b[49m\u001b[43m \u001b[49m\u001b[43mconfig\u001b[49m\u001b[43m)\u001b[49m\n\u001b[1;32m     30\u001b[0m silhouette_score \u001b[38;5;241m=\u001b[39m data[\u001b[38;5;124m'\u001b[39m\u001b[38;5;124msilhouette_score\u001b[39m\u001b[38;5;124m'\u001b[39m] \u001b[38;5;28;01mif\u001b[39;00m data \u001b[38;5;28;01melse\u001b[39;00m \u001b[38;5;28;01mNone\u001b[39;00m\n\u001b[1;32m     31\u001b[0m rand_index \u001b[38;5;241m=\u001b[39m data[\u001b[38;5;124m'\u001b[39m\u001b[38;5;124mrand_index\u001b[39m\u001b[38;5;124m'\u001b[39m] \u001b[38;5;28;01mif\u001b[39;00m data \u001b[38;5;28;01melse\u001b[39;00m \u001b[38;5;28;01mNone\u001b[39;00m\n",
      "Cell \u001b[0;32mIn[3], line 35\u001b[0m, in \u001b[0;36mrun_query\u001b[0;34m(driver, query, parameters)\u001b[0m\n\u001b[1;32m     33\u001b[0m \u001b[38;5;28;01mwith\u001b[39;00m driver\u001b[38;5;241m.\u001b[39msession(database\u001b[38;5;241m=\u001b[39mdatabase_name) \u001b[38;5;28;01mas\u001b[39;00m session:\n\u001b[1;32m     34\u001b[0m     result \u001b[38;5;241m=\u001b[39m session\u001b[38;5;241m.\u001b[39mrun(query, parameters)\n\u001b[0;32m---> 35\u001b[0m     record \u001b[38;5;241m=\u001b[39m \u001b[43mresult\u001b[49m\u001b[38;5;241;43m.\u001b[39;49m\u001b[43msingle\u001b[49m\u001b[43m(\u001b[49m\u001b[43m)\u001b[49m\n\u001b[1;32m     36\u001b[0m     data \u001b[38;5;241m=\u001b[39m record\u001b[38;5;241m.\u001b[39mdata() \u001b[38;5;28;01mif\u001b[39;00m record \u001b[38;5;28;01melse\u001b[39;00m \u001b[38;5;28;01mNone\u001b[39;00m\n\u001b[1;32m     38\u001b[0m \u001b[38;5;66;03m# End time and resources\u001b[39;00m\n",
      "File \u001b[0;32m~/.pyenv/versions/3.8.14/lib/python3.8/site-packages/neo4j/_sync/work/result.py:589\u001b[0m, in \u001b[0;36mResult.single\u001b[0;34m(self, strict)\u001b[0m\n\u001b[1;32m    553\u001b[0m \u001b[38;5;129m@NonConcurrentMethodChecker\u001b[39m\u001b[38;5;241m.\u001b[39mnon_concurrent_method\n\u001b[1;32m    554\u001b[0m \u001b[38;5;28;01mdef\u001b[39;00m \u001b[38;5;21msingle\u001b[39m(\u001b[38;5;28mself\u001b[39m, strict: \u001b[38;5;28mbool\u001b[39m \u001b[38;5;241m=\u001b[39m \u001b[38;5;28;01mFalse\u001b[39;00m) \u001b[38;5;241m-\u001b[39m\u001b[38;5;241m>\u001b[39m t\u001b[38;5;241m.\u001b[39mOptional[Record]:\n\u001b[1;32m    555\u001b[0m \u001b[38;5;250m    \u001b[39m\u001b[38;5;124;03m\"\"\"Obtain the next and only remaining record or None.\u001b[39;00m\n\u001b[1;32m    556\u001b[0m \n\u001b[1;32m    557\u001b[0m \u001b[38;5;124;03m    Calling this method always exhausts the result.\u001b[39;00m\n\u001b[0;32m   (...)\u001b[0m\n\u001b[1;32m    587\u001b[0m \u001b[38;5;124;03m        * Can raise :exc:`.ResultConsumedError`.\u001b[39;00m\n\u001b[1;32m    588\u001b[0m \u001b[38;5;124;03m    \"\"\"\u001b[39;00m\n\u001b[0;32m--> 589\u001b[0m     \u001b[38;5;28;43mself\u001b[39;49m\u001b[38;5;241;43m.\u001b[39;49m\u001b[43m_buffer\u001b[49m\u001b[43m(\u001b[49m\u001b[38;5;241;43m2\u001b[39;49m\u001b[43m)\u001b[49m\n\u001b[1;32m    590\u001b[0m     buffer \u001b[38;5;241m=\u001b[39m \u001b[38;5;28mself\u001b[39m\u001b[38;5;241m.\u001b[39m_record_buffer\n\u001b[1;32m    591\u001b[0m     \u001b[38;5;28mself\u001b[39m\u001b[38;5;241m.\u001b[39m_record_buffer \u001b[38;5;241m=\u001b[39m deque()\n",
      "File \u001b[0;32m~/.pyenv/versions/3.8.14/lib/python3.8/site-packages/neo4j/_sync/work/result.py:426\u001b[0m, in \u001b[0;36mResult._buffer\u001b[0;34m(self, n)\u001b[0m\n\u001b[1;32m    424\u001b[0m     \u001b[38;5;28;01mreturn\u001b[39;00m\n\u001b[1;32m    425\u001b[0m record_buffer \u001b[38;5;241m=\u001b[39m deque()\n\u001b[0;32m--> 426\u001b[0m \u001b[38;5;28;01mfor\u001b[39;00m record \u001b[38;5;129;01min\u001b[39;00m \u001b[38;5;28mself\u001b[39m:\n\u001b[1;32m    427\u001b[0m     record_buffer\u001b[38;5;241m.\u001b[39mappend(record)\n\u001b[1;32m    428\u001b[0m     \u001b[38;5;28;01mif\u001b[39;00m n \u001b[38;5;129;01mis\u001b[39;00m \u001b[38;5;129;01mnot\u001b[39;00m \u001b[38;5;28;01mNone\u001b[39;00m \u001b[38;5;129;01mand\u001b[39;00m \u001b[38;5;28mlen\u001b[39m(record_buffer) \u001b[38;5;241m>\u001b[39m\u001b[38;5;241m=\u001b[39m n:\n",
      "File \u001b[0;32m~/.pyenv/versions/3.8.14/lib/python3.8/site-packages/neo4j/_sync/work/result.py:378\u001b[0m, in \u001b[0;36mResult.__iter__\u001b[0;34m(self)\u001b[0m\n\u001b[1;32m    376\u001b[0m     \u001b[38;5;28;01myield\u001b[39;00m \u001b[38;5;28mself\u001b[39m\u001b[38;5;241m.\u001b[39m_record_buffer\u001b[38;5;241m.\u001b[39mpopleft()\n\u001b[1;32m    377\u001b[0m \u001b[38;5;28;01melif\u001b[39;00m \u001b[38;5;28mself\u001b[39m\u001b[38;5;241m.\u001b[39m_streaming:\n\u001b[0;32m--> 378\u001b[0m     \u001b[38;5;28;43mself\u001b[39;49m\u001b[38;5;241;43m.\u001b[39;49m\u001b[43m_connection\u001b[49m\u001b[38;5;241;43m.\u001b[39;49m\u001b[43mfetch_message\u001b[49m\u001b[43m(\u001b[49m\u001b[43m)\u001b[49m\n\u001b[1;32m    379\u001b[0m \u001b[38;5;28;01melif\u001b[39;00m \u001b[38;5;28mself\u001b[39m\u001b[38;5;241m.\u001b[39m_discarding:\n\u001b[1;32m    380\u001b[0m     \u001b[38;5;28mself\u001b[39m\u001b[38;5;241m.\u001b[39m_discard()\n",
      "File \u001b[0;32m~/.pyenv/versions/3.8.14/lib/python3.8/site-packages/neo4j/_sync/io/_common.py:178\u001b[0m, in \u001b[0;36mConnectionErrorHandler.__getattr__.<locals>.outer.<locals>.inner\u001b[0;34m(*args, **kwargs)\u001b[0m\n\u001b[1;32m    176\u001b[0m \u001b[38;5;28;01mdef\u001b[39;00m \u001b[38;5;21minner\u001b[39m(\u001b[38;5;241m*\u001b[39margs, \u001b[38;5;241m*\u001b[39m\u001b[38;5;241m*\u001b[39mkwargs):\n\u001b[1;32m    177\u001b[0m     \u001b[38;5;28;01mtry\u001b[39;00m:\n\u001b[0;32m--> 178\u001b[0m         \u001b[43mfunc\u001b[49m\u001b[43m(\u001b[49m\u001b[38;5;241;43m*\u001b[39;49m\u001b[43margs\u001b[49m\u001b[43m,\u001b[49m\u001b[43m \u001b[49m\u001b[38;5;241;43m*\u001b[39;49m\u001b[38;5;241;43m*\u001b[39;49m\u001b[43mkwargs\u001b[49m\u001b[43m)\u001b[49m\n\u001b[1;32m    179\u001b[0m     \u001b[38;5;28;01mexcept\u001b[39;00m (Neo4jError, ServiceUnavailable, SessionExpired) \u001b[38;5;28;01mas\u001b[39;00m exc:\n\u001b[1;32m    180\u001b[0m         \u001b[38;5;28;01massert\u001b[39;00m \u001b[38;5;129;01mnot\u001b[39;00m asyncio\u001b[38;5;241m.\u001b[39miscoroutinefunction(\u001b[38;5;28mself\u001b[39m\u001b[38;5;241m.\u001b[39m__on_error)\n",
      "File \u001b[0;32m~/.pyenv/versions/3.8.14/lib/python3.8/site-packages/neo4j/_sync/io/_bolt.py:860\u001b[0m, in \u001b[0;36mBolt.fetch_message\u001b[0;34m(self)\u001b[0m\n\u001b[1;32m    856\u001b[0m \u001b[38;5;66;03m# Receive exactly one message\u001b[39;00m\n\u001b[1;32m    857\u001b[0m tag, fields \u001b[38;5;241m=\u001b[39m \u001b[38;5;28mself\u001b[39m\u001b[38;5;241m.\u001b[39minbox\u001b[38;5;241m.\u001b[39mpop(\n\u001b[1;32m    858\u001b[0m     hydration_hooks\u001b[38;5;241m=\u001b[39m\u001b[38;5;28mself\u001b[39m\u001b[38;5;241m.\u001b[39mresponses[\u001b[38;5;241m0\u001b[39m]\u001b[38;5;241m.\u001b[39mhydration_hooks\n\u001b[1;32m    859\u001b[0m )\n\u001b[0;32m--> 860\u001b[0m res \u001b[38;5;241m=\u001b[39m \u001b[38;5;28;43mself\u001b[39;49m\u001b[38;5;241;43m.\u001b[39;49m\u001b[43m_process_message\u001b[49m\u001b[43m(\u001b[49m\u001b[43mtag\u001b[49m\u001b[43m,\u001b[49m\u001b[43m \u001b[49m\u001b[43mfields\u001b[49m\u001b[43m)\u001b[49m\n\u001b[1;32m    861\u001b[0m \u001b[38;5;28mself\u001b[39m\u001b[38;5;241m.\u001b[39midle_since \u001b[38;5;241m=\u001b[39m monotonic()\n\u001b[1;32m    862\u001b[0m \u001b[38;5;28;01mreturn\u001b[39;00m res\n",
      "File \u001b[0;32m~/.pyenv/versions/3.8.14/lib/python3.8/site-packages/neo4j/_sync/io/_bolt4.py:368\u001b[0m, in \u001b[0;36mBolt4x0._process_message\u001b[0;34m(self, tag, fields)\u001b[0m\n\u001b[1;32m    366\u001b[0m \u001b[38;5;28mself\u001b[39m\u001b[38;5;241m.\u001b[39m_server_state_manager\u001b[38;5;241m.\u001b[39mstate \u001b[38;5;241m=\u001b[39m BoltStates\u001b[38;5;241m.\u001b[39mFAILED\n\u001b[1;32m    367\u001b[0m \u001b[38;5;28;01mtry\u001b[39;00m:\n\u001b[0;32m--> 368\u001b[0m     \u001b[43mresponse\u001b[49m\u001b[38;5;241;43m.\u001b[39;49m\u001b[43mon_failure\u001b[49m\u001b[43m(\u001b[49m\u001b[43msummary_metadata\u001b[49m\u001b[43m \u001b[49m\u001b[38;5;129;43;01mor\u001b[39;49;00m\u001b[43m \u001b[49m\u001b[43m{\u001b[49m\u001b[43m}\u001b[49m\u001b[43m)\u001b[49m\n\u001b[1;32m    369\u001b[0m \u001b[38;5;28;01mexcept\u001b[39;00m (ServiceUnavailable, DatabaseUnavailable):\n\u001b[1;32m    370\u001b[0m     \u001b[38;5;28;01mif\u001b[39;00m \u001b[38;5;28mself\u001b[39m\u001b[38;5;241m.\u001b[39mpool:\n",
      "File \u001b[0;32m~/.pyenv/versions/3.8.14/lib/python3.8/site-packages/neo4j/_sync/io/_common.py:245\u001b[0m, in \u001b[0;36mResponse.on_failure\u001b[0;34m(self, metadata)\u001b[0m\n\u001b[1;32m    243\u001b[0m handler \u001b[38;5;241m=\u001b[39m \u001b[38;5;28mself\u001b[39m\u001b[38;5;241m.\u001b[39mhandlers\u001b[38;5;241m.\u001b[39mget(\u001b[38;5;124m\"\u001b[39m\u001b[38;5;124mon_summary\u001b[39m\u001b[38;5;124m\"\u001b[39m)\n\u001b[1;32m    244\u001b[0m Util\u001b[38;5;241m.\u001b[39mcallback(handler)\n\u001b[0;32m--> 245\u001b[0m \u001b[38;5;28;01mraise\u001b[39;00m Neo4jError\u001b[38;5;241m.\u001b[39mhydrate(\u001b[38;5;241m*\u001b[39m\u001b[38;5;241m*\u001b[39mmetadata)\n",
      "\u001b[0;31mClientError\u001b[0m: {code: Neo.ClientError.Procedure.ProcedureCallFailed} {message: Failed to invoke function `simkit.spectralClustering`: Caused by: java.lang.Exception: No nodes found with the label: Pubmed_full}"
     ]
    }
   ],
   "source": [
    "# # Example scheduling and execution\n",
    "# def job():\n",
    "#     print(\"Running experiments...\")\n",
    "#     result_data = run_experiments(driver)\n",
    "#     # Save to DataFrame and then to CSV\n",
    "#     df = pd.DataFrame(result_data)\n",
    "#     df.to_csv(\"iris_results.csv\", index=False)\n",
    "#     print(\"Experiments completed and saved.\")\n",
    "\n",
    "# schedule.every().day.at(\"01:00\").do(job)\n",
    "\n",
    "# # Loop to keep the scheduler running\n",
    "# while True:\n",
    "#     schedule.run_pending()\n",
    "#     time.sleep(60)  # wait one minute\n",
    "\n",
    "print(\"Running experiments...\")\n",
    "result_data = run_experiments(driver)\n",
    "# Save to DataFrame and then to CSV\n",
    "df = pd.DataFrame(result_data)\n",
    "df.to_csv(\"pubmed_results.csv\", index=False)\n",
    "print(\"Experiments completed and saved.\")"
   ]
  },
  {
   "cell_type": "code",
   "execution_count": null,
   "id": "68e8d25a-ac59-45ed-9bb9-814d6cc97fc5",
   "metadata": {},
   "outputs": [],
   "source": [
    "result_data"
   ]
  },
  {
   "cell_type": "code",
   "execution_count": null,
   "id": "9ab1798f-fd86-4910-9242-ba3d24c66581",
   "metadata": {},
   "outputs": [],
   "source": []
  },
  {
   "cell_type": "code",
   "execution_count": null,
   "id": "3fe7f941-f30d-4161-bddf-80d757f3221b",
   "metadata": {},
   "outputs": [],
   "source": []
  }
 ],
 "metadata": {
  "kernelspec": {
   "display_name": "Python 3 (ipykernel)",
   "language": "python",
   "name": "python3"
  },
  "language_info": {
   "codemirror_mode": {
    "name": "ipython",
    "version": 3
   },
   "file_extension": ".py",
   "mimetype": "text/x-python",
   "name": "python",
   "nbconvert_exporter": "python",
   "pygments_lexer": "ipython3",
   "version": "3.8.14"
  }
 },
 "nbformat": 4,
 "nbformat_minor": 5
}
