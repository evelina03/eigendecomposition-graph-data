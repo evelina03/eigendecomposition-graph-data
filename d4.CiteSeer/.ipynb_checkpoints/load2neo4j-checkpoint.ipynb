{
 "cells": [
  {
   "cell_type": "code",
   "execution_count": 1,
   "id": "a2e95fa0-1ca2-460e-ad7a-356e5ae3b738",
   "metadata": {},
   "outputs": [],
   "source": [
    "from neo4j import GraphDatabase\n",
    "import pandas as pd"
   ]
  },
  {
   "cell_type": "code",
   "execution_count": 2,
   "id": "abed0d33-267d-4260-9fb5-5328d4170a05",
   "metadata": {},
   "outputs": [],
   "source": [
    "# \"First Create an empty database, within a project\"\n",
    "\n",
    "uri = \"bolt://localhost:7687\"\n",
    "username = \"neo4j\" # username for Neo4j, most probably is Neo4j, if you did not change while installing Neo4j Desktop\n",
    "password = \"eigen1234\" # Password for database.\n",
    "database_name = \"d4.citeseer\"  # Database name\n",
    "\n",
    "driver = GraphDatabase.driver(uri, auth=(username, password))"
   ]
  },
  {
   "cell_type": "code",
   "execution_count": 3,
   "id": "cf3a6cde-7a53-41e7-a7c5-d97b95c12ac9",
   "metadata": {},
   "outputs": [],
   "source": [
    "# Define paths to your CSV files in respective folders\n",
    "path_citeseer_nodes = \"nodes.csv\"\n",
    "path_citeseer_edges = \"edges.csv\"\n",
    "\n",
    "# Read the CSV files into pandas DataFrames\n",
    "citeseer_full_nodes = pd.read_csv(path_citeseer_nodes)\n",
    "citeseer_full_edges = pd.read_csv(path_citeseer_edges)"
   ]
  },
  {
   "cell_type": "code",
   "execution_count": 4,
   "id": "ddd96115-ed78-459a-8b4d-72b74d4d1f13",
   "metadata": {},
   "outputs": [
    {
     "name": "stdout",
     "output_type": "stream",
     "text": [
      "Connection to database successful\n"
     ]
    }
   ],
   "source": [
    "def check_connection():\n",
    "    try:\n",
    "        # Establish a session with the specified database\n",
    "        with driver.session() as session:\n",
    "            # Run a simple query to check the connection\n",
    "            result = session.run(\"RETURN 'Connection to database successful' AS message\")\n",
    "            for record in result:\n",
    "                print(record[\"message\"])\n",
    "    except Exception as e:\n",
    "        print(\"Error connecting to the database:\", e)\n",
    "\n",
    "# Call the check_connection function\n",
    "check_connection()"
   ]
  },
  {
   "cell_type": "code",
   "execution_count": 5,
   "id": "e9cf0df8-38d2-4e9b-a50d-cb09e0d4e352",
   "metadata": {},
   "outputs": [],
   "source": [
    "# Function to create nodes in the specified database with a dynamic label\n",
    "def create_nodes(data, driver, label):\n",
    "    \"\"\"Create nodes in Neo4j from a CSV file.\"\"\"\n",
    "    try:\n",
    "        # Load the CSV data\n",
    "        node_data = pd.read_csv(data)\n",
    "        \n",
    "        with driver.session() as session:\n",
    "            for _, row in node_data.iterrows():\n",
    "                properties = row.to_dict()\n",
    "                properties['features'] = eval(properties['features'])  # Convert string back to list if saved as string\n",
    "                query = f\"CREATE (n:{label} {{id: $id, features: $features, label: $label}})\"\n",
    "                session.run(query, **properties)\n",
    "\n",
    "    except Exception as e:\n",
    "        print(\"Error during node creation:\", e)\n",
    "    finally:\n",
    "        driver.close()"
   ]
  },
  {
   "cell_type": "code",
   "execution_count": 6,
   "id": "d96f22bb-e984-4fa3-adb4-6d5c4f7bdaf9",
   "metadata": {},
   "outputs": [],
   "source": [
    "create_nodes(\"nodes.csv\",driver,\"citeseer\")"
   ]
  },
  {
   "cell_type": "code",
   "execution_count": 7,
   "id": "739efe92-cfe2-407c-843c-3a2591073b96",
   "metadata": {},
   "outputs": [],
   "source": [
    "def create_edges(data, driver, label):\n",
    "    \"\"\"Create undirected edges in Neo4j from a CSV file, ensuring only one edge is created between two nodes.\"\"\"\n",
    "    try:\n",
    "        # Load the edge list\n",
    "        edge_data = pd.read_csv(data)\n",
    "        \n",
    "        with driver.session() as session:\n",
    "            for _, row in edge_data.iterrows():\n",
    "                # Ensure the smaller id is always the 'source' and the larger id is the 'target'\n",
    "                source_id = min(row['source_id'], row['target_id'])\n",
    "                target_id = max(row['source_id'], row['target_id'])\n",
    "                \n",
    "                # Cypher query to create an undirected edge (just one edge, not two directions)\n",
    "                query = f\"\"\"\n",
    "                MATCH (source:{label} {{id: $source_id}})\n",
    "                MATCH (target:{label} {{id: $target_id}})\n",
    "                MERGE (source)-[:CITES_citeseer {{value: 1}}]->(target)\n",
    "                \"\"\"\n",
    "                \n",
    "                # Run the query with the sorted source and target ids\n",
    "                session.run(query, {\"source_id\": source_id, \"target_id\": target_id})\n",
    "\n",
    "    except Exception as e:\n",
    "        print(\"Error during edge creation:\", e)\n",
    "    finally:\n",
    "        driver.close()\n"
   ]
  },
  {
   "cell_type": "code",
   "execution_count": 8,
   "id": "ead44384-27fc-4588-98b7-b741574df934",
   "metadata": {},
   "outputs": [
    {
     "name": "stderr",
     "output_type": "stream",
     "text": [
      "/var/folders/5m/3t1ykjr55_555tllby0d28j00000gn/T/ipykernel_70519/414855245.py:7: DeprecationWarning: Using a driver after it has been closed is deprecated. Future versions of the driver will raise an error.\n",
      "  with driver.session() as session:\n"
     ]
    }
   ],
   "source": [
    "create_edges(\"edges.csv\",driver,\"citeseer\")"
   ]
  },
  {
   "cell_type": "code",
   "execution_count": null,
   "id": "0402b449-48e3-46dc-a0f7-1d6940716af9",
   "metadata": {},
   "outputs": [],
   "source": []
  }
 ],
 "metadata": {
  "kernelspec": {
   "display_name": "Python 3 (ipykernel)",
   "language": "python",
   "name": "python3"
  },
  "language_info": {
   "codemirror_mode": {
    "name": "ipython",
    "version": 3
   },
   "file_extension": ".py",
   "mimetype": "text/x-python",
   "name": "python",
   "nbconvert_exporter": "python",
   "pygments_lexer": "ipython3",
   "version": "3.8.14"
  }
 },
 "nbformat": 4,
 "nbformat_minor": 5
}
