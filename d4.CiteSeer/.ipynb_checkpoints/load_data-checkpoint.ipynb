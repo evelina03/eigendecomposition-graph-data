{
 "cells": [
  {
   "cell_type": "code",
   "execution_count": 1,
   "id": "c8dca38c-219d-473e-960e-367dcfea040d",
   "metadata": {},
   "outputs": [],
   "source": [
    "import os\n",
    "import numpy as np\n",
    "import pandas as pd\n",
    "import networkx as nx\n",
    "from stellargraph import StellarGraph\n",
    "from stellargraph.datasets import Cora, CiteSeer, PubMedDiabetes\n",
    "from sklearn.preprocessing import LabelEncoder\n",
    "\n",
    "import scipy.sparse as sp\n",
    "import matplotlib.pyplot as plt\n",
    "from IPython.display import display, HTML"
   ]
  },
  {
   "cell_type": "code",
   "execution_count": 2,
   "id": "4ccb2326-ba0a-4b3f-be0e-5c3119f81704",
   "metadata": {},
   "outputs": [],
   "source": [
    "class CitationNetworkVisualizer:\n",
    "    def __init__(self, dataset_name):\n",
    "        self.dataset_name = dataset_name\n",
    "        self.graph = None\n",
    "        self.node_subjects = None\n",
    "        self.node_features = None\n",
    "\n",
    "    def load_data(self):\n",
    "        \"\"\"Load the specified citation dataset and prepare data for spectral clustering.\"\"\"\n",
    "        if self.dataset_name == 'cora':\n",
    "            dataset = Cora()\n",
    "        elif self.dataset_name == 'citeseer':\n",
    "            dataset = CiteSeer()\n",
    "        elif self.dataset_name == 'pubmed':\n",
    "            dataset = PubMedDiabetes()\n",
    "        else:\n",
    "            raise ValueError(\"Unsupported dataset name. Choose 'cora', 'citeseer', or 'pubmed'.\")\n",
    "        \n",
    "        display(HTML(dataset.description))\n",
    "        self.graph, self.node_subjects = dataset.load()\n",
    "\n",
    "        # Convert the graph to a dense PyTorch tensor\n",
    "        adjacency_matrix = self.graph.to_adjacency_matrix(weighted=False)\n",
    "        # Prepare labels\n",
    "        labels = self.node_subjects.values\n",
    "\n",
    "        feature_matrix = self.graph.node_features()\n",
    "\n",
    "        return feature_matrix, adjacency_matrix, labels\n",
    "\n",
    "    def visualize(self):\n",
    "        \"\"\"Visualize the citation dataset network.\"\"\"\n",
    "        # Convert to NetworkX graph for visualization\n",
    "        G_nx = self.graph.to_networkx()\n",
    "\n",
    "        # Create a network layout\n",
    "        pos = nx.spring_layout(G_nx)\n",
    "\n",
    "        # Create a color map based on the labels\n",
    "        unique_labels = np.unique(self.node_subjects)\n",
    "        color_map = {label: i for i, label in enumerate(unique_labels)}\n",
    "        colors = [color_map[label] for label in self.node_subjects]\n",
    "\n",
    "        # Draw nodes and edges\n",
    "        plt.figure(figsize=(12, 12))\n",
    "        nx.draw_networkx_nodes(G_nx, pos, node_size=50, node_color=colors, cmap=plt.get_cmap('Set1'), alpha=0.6)\n",
    "        nx.draw_networkx_edges(G_nx, pos, alpha=0.3)\n",
    "        \n",
    "        # Create a legend\n",
    "        handles = [plt.Line2D([0], [0], marker='o', color='w', label=label, \n",
    "                               markerfacecolor=plt.get_cmap('Set1')(color_map[label]), markersize=10) \n",
    "                   for label in unique_labels]\n",
    "        plt.legend(handles=handles, title=\"Classes\")\n",
    "        \n",
    "        plt.title(f\"{self.dataset_name.capitalize()} Dataset Citation Network\")\n",
    "        plt.axis('off')\n",
    "        plt.show()"
   ]
  },
  {
   "cell_type": "code",
   "execution_count": 3,
   "id": "1a132482-4925-400d-88bd-89dc9243ffd4",
   "metadata": {},
   "outputs": [
    {
     "data": {
      "text/html": [
       "The CiteSeer dataset consists of 3312 scientific publications classified into one of six classes. The citation network consists of 4732 links, although 17 of these have a source or target publication that isn't in the dataset and only 4715 are included in the graph. Each publication in the dataset is described by a 0/1-valued word vector indicating the absence/presence of the corresponding word from the dictionary. The dictionary consists of 3703 unique words."
      ],
      "text/plain": [
       "<IPython.core.display.HTML object>"
      ]
     },
     "metadata": {},
     "output_type": "display_data"
    }
   ],
   "source": [
    "# Load PubMedDiabetes dataset\n",
    "dataset_name = 'citeseer'\n",
    "citation_visualizer = CitationNetworkVisualizer(dataset_name)\n",
    "feature_matrix, data, labels = citation_visualizer.load_data()\n",
    "le = LabelEncoder()\n",
    "encoded_labels = le.fit_transform(labels)\n",
    "unique_labels = set(encoded_labels)"
   ]
  },
  {
   "cell_type": "code",
   "execution_count": 4,
   "id": "3bbfd208-6894-44b1-9376-549d0f21a23b",
   "metadata": {},
   "outputs": [],
   "source": [
    "# citation_visualizer.visualize()"
   ]
  },
  {
   "cell_type": "code",
   "execution_count": 5,
   "id": "a94d3891-0291-4d19-99f4-5cfa7648c849",
   "metadata": {},
   "outputs": [
    {
     "data": {
      "text/plain": [
       "{0, 1, 2, 3, 4, 5}"
      ]
     },
     "execution_count": 5,
     "metadata": {},
     "output_type": "execute_result"
    }
   ],
   "source": [
    "unique_labels"
   ]
  },
  {
   "cell_type": "code",
   "execution_count": 6,
   "id": "b252020c-5582-424e-8e24-4911f2cadcd7",
   "metadata": {},
   "outputs": [],
   "source": [
    "def preprocess_data(adjacency_matrix, labels, feature_matrix):\n",
    "    # Ensure adjacency matrix is sparse\n",
    "    adjacency_matrix = sp.csr_matrix(adjacency_matrix)\n",
    "    \n",
    "    # Remove diagonal elements (self-loops)\n",
    "    adjacency_matrix.setdiag(0)\n",
    "    adjacency_matrix.eliminate_zeros()  # Remove explicit zeros\n",
    "    \n",
    "    # Calculate degree matrix (as a vector)\n",
    "    degree_vector = np.array(adjacency_matrix.sum(axis=1)).flatten()\n",
    "    \n",
    "    # Identify isolated nodes (degree == 0)\n",
    "    isolated_nodes = np.where(degree_vector == 0)[0]\n",
    "    non_isolated_mask = np.isin(np.arange(adjacency_matrix.shape[0]), isolated_nodes, invert=True)\n",
    "\n",
    "    # Filter adjacency matrix and labels for non-isolated nodes\n",
    "    adjacency_matrix_non_isolated = adjacency_matrix[non_isolated_mask][:, non_isolated_mask]\n",
    "    labels_non_isolated = labels[non_isolated_mask]\n",
    "    feature_matrix_non_isolated = feature_matrix[non_isolated_mask, :]\n",
    "\n",
    "    # Encode labels\n",
    "    label_encoder = LabelEncoder()\n",
    "    encoded_labels_non_isolated = label_encoder.fit_transform(labels_non_isolated)\n",
    "\n",
    "    return adjacency_matrix_non_isolated, encoded_labels_non_isolated, feature_matrix_non_isolated"
   ]
  },
  {
   "cell_type": "code",
   "execution_count": 7,
   "id": "07d67624-f867-4584-b86a-d529e0f936fa",
   "metadata": {},
   "outputs": [],
   "source": [
    "def save_to_csv(adjacency_matrix, labels, feature_matrix, nodes_file=\"nodes.csv\", edges_file=\"edges.csv\"):\n",
    "    \"\"\"Save the node and edge data into separate CSV files.\"\"\"\n",
    "    \n",
    "    # Save node information (ID, features, labels) to CSV\n",
    "    node_data = pd.DataFrame({\n",
    "        'id': np.arange(feature_matrix.shape[0]),\n",
    "        'features': [list(f) for f in feature_matrix],  # convert features to list\n",
    "        'label': labels\n",
    "    })\n",
    "    node_data.to_csv(nodes_file, index=False)\n",
    "\n",
    "    # Save adjacency matrix (edge list) to CSz\n",
    "    edges = np.argwhere(adjacency_matrix > 0)  # get index of non-zero entries (edges)\n",
    "    edge_list = pd.DataFrame(edges, columns=['source_id', 'target_id'])\n",
    "    edge_list.to_csv(edges_file, index=False)\n",
    "\n",
    "    print(f\"Nodes saved to {nodes_file} and edges saved to {edges_file}.\")"
   ]
  },
  {
   "cell_type": "code",
   "execution_count": 8,
   "id": "ce5c33f8-4b64-40f2-9789-91c4164d47aa",
   "metadata": {},
   "outputs": [
    {
     "name": "stderr",
     "output_type": "stream",
     "text": [
      "/Users/evi/.pyenv/versions/3.8.14/lib/python3.8/site-packages/scipy/sparse/_index.py:146: SparseEfficiencyWarning: Changing the sparsity structure of a csr_matrix is expensive. lil_matrix is more efficient.\n",
      "  self._set_arrayXarray(i, j, x)\n"
     ]
    },
    {
     "name": "stdout",
     "output_type": "stream",
     "text": [
      "Nodes saved to nodes.csv and edges saved to edges.csv.\n"
     ]
    }
   ],
   "source": [
    "adjacency_matrix_non_isolated, labels_non_isolated, feature_matrix_non_isolated = preprocess_data(data, labels, feature_matrix)\n",
    "\n",
    "save_to_csv(adjacency_matrix_non_isolated, labels_non_isolated, feature_matrix_non_isolated)"
   ]
  }
 ],
 "metadata": {
  "kernelspec": {
   "display_name": "Python3.8.14",
   "language": "python",
   "name": "python3.8.14"
  },
  "language_info": {
   "codemirror_mode": {
    "name": "ipython",
    "version": 3
   },
   "file_extension": ".py",
   "mimetype": "text/x-python",
   "name": "python",
   "nbconvert_exporter": "python",
   "pygments_lexer": "ipython3",
   "version": "3.8.14"
  }
 },
 "nbformat": 4,
 "nbformat_minor": 5
}
