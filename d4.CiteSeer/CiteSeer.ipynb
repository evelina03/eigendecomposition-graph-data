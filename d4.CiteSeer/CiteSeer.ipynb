{
 "cells": [
  {
   "cell_type": "code",
   "execution_count": 1,
   "id": "c8dca38c-219d-473e-960e-367dcfea040d",
   "metadata": {},
   "outputs": [],
   "source": [
    "import os\n",
    "import numpy as np\n",
    "import pandas as pd\n",
    "import networkx as nx\n",
    "import matplotlib.pyplot as plt\n",
    "import torch\n",
    "from torch_geometric.utils import to_dense_adj\n",
    "from scipy import linalg\n",
    "import sys\n",
    "\n",
    "from stellargraph import datasets\n",
    "from stellargraph import StellarGraph\n",
    "from IPython.display import display, HTML\n",
    "\n",
    "from sklearn.cluster import KMeans\n",
    "from sklearn.metrics import silhouette_score\n",
    "from sklearn.metrics import adjusted_rand_score\n",
    "from sklearn.cluster import SpectralClustering"
   ]
  },
  {
   "cell_type": "code",
   "execution_count": null,
   "id": "b252020c-5582-424e-8e24-4911f2cadcd7",
   "metadata": {},
   "outputs": [],
   "source": [
    "# Flatten the 2D array into 1D and create a set to get distinct values \n",
    "distinct_values = set(value for row in adjacency_matrix for value in row) \n",
    "# Count the number of distinct values \n",
    "distinct_count = len(distinct_values)"
   ]
  },
  {
   "cell_type": "code",
   "execution_count": null,
   "id": "533e76c6-1bbc-4ceb-b120-5ba7c35053d1",
   "metadata": {},
   "outputs": [],
   "source": [
    "adjacency_matrix = adjacency_matrix.numpy()"
   ]
  },
  {
   "cell_type": "code",
   "execution_count": null,
   "id": "a5ac2a8a-5065-445a-9cdb-220c4b056a9f",
   "metadata": {},
   "outputs": [],
   "source": [
    "type(adjacency_matrix)"
   ]
  },
  {
   "cell_type": "code",
   "execution_count": null,
   "id": "19ec48d1-6847-471b-a313-70997dd51042",
   "metadata": {},
   "outputs": [],
   "source": [
    "# Count rows where all elements are 0 \n",
    "empty_rows = np.all(adjacency_matrix == 0, axis=1) \n",
    "# Sum of empty rows \n",
    "num_empty_rows = np.sum(empty_rows) \n",
    "print(\"Number of completely empty rows:\", num_empty_rows)"
   ]
  },
  {
   "cell_type": "code",
   "execution_count": null,
   "id": "82404953-47e4-434f-acd1-d9b404a46e08",
   "metadata": {
    "scrolled": true
   },
   "outputs": [],
   "source": [
    "# Flatten the 2D array into 1D \n",
    "flattened_array = adjacency_matrix.flatten() \n",
    "# Convert to set to get distinct values \n",
    "distinct_values = set(flattened_array) \n",
    "# Count the number of distinct values \n",
    "distinct_count = len(distinct_values) \n",
    "print(\"Distinct values:\", distinct_values) \n",
    "print(\"Number of distinct values:\", distinct_count)"
   ]
  },
  {
   "cell_type": "code",
   "execution_count": null,
   "id": "e19e2b51-fd2f-4771-9e6d-d2cf3d023201",
   "metadata": {},
   "outputs": [],
   "source": [
    "np.set_printoptions(threshold=sys.maxsize)"
   ]
  },
  {
   "cell_type": "code",
   "execution_count": 12,
   "id": "21f5a50f-8482-42d2-9e45-e65731bc1db4",
   "metadata": {},
   "outputs": [],
   "source": [
    "def spectral_clustering_on_graph(torch_data, labels, laplacian, number_of_clusters):\n",
    "\n",
    "    # adjacency_matrix = to_dense_adj(torch_data.edge_index).squeeze()\n",
    "    # # Convert the PyTorch tensor to a NumPy array\n",
    "    # adjacency_matrix = adjacency_matrix.numpy()\n",
    "    # adj_matrix_citeseer_dense = torch_data.todense()\n",
    "    # adjacency_matrix = torch_data.numpy()\n",
    "\n",
    "    adjacency_matrix = np.array(torch_data.todense()).squeeze()\n",
    "\n",
    "    np.fill_diagonal(adjacency_matrix, 0)\n",
    "\n",
    "    dimension = len(adjacency_matrix)\n",
    "\n",
    "    # Calculate degree matrix\n",
    "    degree_matrix = np.sum(adjacency_matrix, axis=0) * np.eye(dimension)\n",
    "\n",
    "    isolated_nodes = np.where(np.diag(degree_matrix) == 0)[0]\n",
    "    if len(isolated_nodes) > 0:\n",
    "        adjacency_matrix = np.delete(adjacency_matrix, isolated_nodes, axis=0)\n",
    "        adjacency_matrix = np.delete(adjacency_matrix, isolated_nodes, axis=1)\n",
    "        labels = np.delete(labels, isolated_nodes)\n",
    "        \n",
    "    dimension = len(adjacency_matrix)\n",
    "\n",
    "    # Calculate degree matrix\n",
    "    degree_matrix = np.sum(adjacency_matrix, axis=0) * np.eye(dimension)\n",
    "    \n",
    "\n",
    "    if laplacian == \"sym\":\n",
    "\n",
    "        # Normalized Symmetric laplacian matrix\n",
    "        d_half = linalg.fractional_matrix_power(degree_matrix, -0.5)\n",
    "        laplacian_matrix_normalized = np.matmul(np.matmul(d_half, adjacency_matrix), d_half)\n",
    "\n",
    "    if laplacian == \"rw\":\n",
    "\n",
    "        # Normalized Random Walk laplacian matrix\n",
    "        d_inverse = linalg.fractional_matrix_power(degree_matrix, -1)\n",
    "        laplacian_matrix_normalized = np.matmul(d_inverse, adjacency_matrix)\n",
    "\n",
    "    if laplacian == \"ad\":\n",
    "\n",
    "        # Adaptive laplacian matrix\n",
    "        degree_vector = np.diag(degree_matrix)  \n",
    "        D_local = np.zeros_like(degree_vector)  \n",
    "        \n",
    "        for i in range(len(degree_vector)):\n",
    "            neighbors = np.where(adjacency_matrix[i] > 0)[0]\n",
    "            if len(neighbors) > 0:\n",
    "                D_local[i] = np.sum(degree_vector[neighbors]) / degree_vector[i]\n",
    "            else:\n",
    "                D_local[i] = 0\n",
    "        \n",
    "        D_local_matrix = np.diag(D_local)\n",
    "        D_local_inv = np.linalg.inv(D_local_matrix)\n",
    "        laplacian_matrix_normalized = np.matmul(np.matmul(D_local_inv, adjacency_matrix), D_local_inv)\n",
    "\n",
    "\n",
    "    # Calculating eigenvalues and eigenvectors\n",
    "    e, v = np.linalg.eigh(laplacian_matrix_normalized)\n",
    "\n",
    "    # index_largest_gap = np.argmax(np.diff(e))\n",
    "    # nb_clusters = index_largest_gap + 2\n",
    "\n",
    "    if number_of_clusters == 0:\n",
    "        eigengaps = np.diff(e)\n",
    "        index_largest_gap = np.argmax(eigengaps)\n",
    "        number_of_clusters = index_largest_gap + 1 #fix\n",
    "\n",
    "    # Eigen features for k\n",
    "    k = number_of_clusters\n",
    "    X = v[:, -1*k:]\n",
    "\n",
    "    # Kmeans\n",
    "    clustering = KMeans(n_clusters = number_of_clusters)\n",
    "    clustering.fit(X)\n",
    "    c_labels = clustering.fit_predict(X)\n",
    "\n",
    "    # Create a copy of the data object by initializing a new Data instance\n",
    "    # final_data = Data(\n",
    "    #     edge_index=torch_data.edge_index,  # edge indices\n",
    "    # )\n",
    "\n",
    "    # final_df = torch_data.copy()\n",
    "    # final_df['c_labels'] = c_labels\n",
    "    # final_df['labels'] = labels\n",
    "    \n",
    "    cluster_labels = clustering.labels_\n",
    "    \n",
    "    return silhouette_score(adjacency_matrix, cluster_labels,metric=\"precomputed\"), adjusted_rand_score(labels, cluster_labels),number_of_clusters"
   ]
  },
  {
   "cell_type": "code",
   "execution_count": 13,
   "id": "d6f12ef1-1e2d-4f78-82fb-8653a11a23f6",
   "metadata": {},
   "outputs": [],
   "source": [
    "# Load the CiteSeer dataset\n",
    "dataset_citeseer = datasets.CiteSeer()\n",
    "graph, node_subjects = dataset_citeseer.load()\n",
    "data = graph.to_adjacency_matrix(weighted=False)\n",
    "labels = node_subjects.values\n",
    "\n",
    "# check how data looks like"
   ]
  },
  {
   "cell_type": "code",
   "execution_count": 14,
   "id": "0bb8abf5-d5b3-4920-abd3-fa15008c98c0",
   "metadata": {},
   "outputs": [
    {
     "data": {
      "text/plain": [
       "{'AI', 'Agents', 'DB', 'HCI', 'IR', 'ML'}"
      ]
     },
     "execution_count": 14,
     "metadata": {},
     "output_type": "execute_result"
    }
   ],
   "source": [
    "set(labels)"
   ]
  },
  {
   "cell_type": "code",
   "execution_count": 15,
   "id": "854779bc-2be0-4cfa-9c61-ef7c2ae44fb0",
   "metadata": {},
   "outputs": [
    {
     "name": "stderr",
     "output_type": "stream",
     "text": [
      "C:\\Users\\eveli\\.pyenv\\pyenv-win\\versions\\3.8.10\\lib\\site-packages\\sklearn\\cluster\\_kmeans.py:1416: FutureWarning: The default value of `n_init` will change from 10 to 'auto' in 1.4. Set the value of `n_init` explicitly to suppress the warning\n",
      "  super()._check_params_vs_input(X, default_n_init=10)\n",
      "C:\\Users\\eveli\\.pyenv\\pyenv-win\\versions\\3.8.10\\lib\\site-packages\\sklearn\\cluster\\_kmeans.py:1416: FutureWarning: The default value of `n_init` will change from 10 to 'auto' in 1.4. Set the value of `n_init` explicitly to suppress the warning\n",
      "  super()._check_params_vs_input(X, default_n_init=10)\n",
      "C:\\Users\\eveli\\.pyenv\\pyenv-win\\versions\\3.8.10\\lib\\site-packages\\sklearn\\cluster\\_kmeans.py:1416: FutureWarning: The default value of `n_init` will change from 10 to 'auto' in 1.4. Set the value of `n_init` explicitly to suppress the warning\n",
      "  super()._check_params_vs_input(X, default_n_init=10)\n",
      "C:\\Users\\eveli\\.pyenv\\pyenv-win\\versions\\3.8.10\\lib\\site-packages\\sklearn\\cluster\\_kmeans.py:1416: FutureWarning: The default value of `n_init` will change from 10 to 'auto' in 1.4. Set the value of `n_init` explicitly to suppress the warning\n",
      "  super()._check_params_vs_input(X, default_n_init=10)\n",
      "C:\\Users\\eveli\\.pyenv\\pyenv-win\\versions\\3.8.10\\lib\\site-packages\\sklearn\\cluster\\_kmeans.py:1416: FutureWarning: The default value of `n_init` will change from 10 to 'auto' in 1.4. Set the value of `n_init` explicitly to suppress the warning\n",
      "  super()._check_params_vs_input(X, default_n_init=10)\n",
      "C:\\Users\\eveli\\.pyenv\\pyenv-win\\versions\\3.8.10\\lib\\site-packages\\sklearn\\cluster\\_kmeans.py:1416: FutureWarning: The default value of `n_init` will change from 10 to 'auto' in 1.4. Set the value of `n_init` explicitly to suppress the warning\n",
      "  super()._check_params_vs_input(X, default_n_init=10)\n"
     ]
    }
   ],
   "source": [
    "laplacian_methods = [\"sym\", \"rw\",\"ad\"]\n",
    "\n",
    "silhouette_scores = []\n",
    "adjusted_rand_scores = []\n",
    "clusters = []\n",
    "laplacian = []\n",
    "\n",
    "\n",
    "for laplace in laplacian_methods:\n",
    "\n",
    "    laplacian.append(laplace)\n",
    "\n",
    "    si, ar, cl = spectral_clustering_on_graph(data, labels, laplace, 0)\n",
    "\n",
    "    silhouette_scores.append(si)\n",
    "    adjusted_rand_scores.append(ar)\n",
    "    clusters.append(cl)"
   ]
  },
  {
   "cell_type": "code",
   "execution_count": 16,
   "id": "6c6320e6-9836-4b91-9e46-a95409c1f6c0",
   "metadata": {},
   "outputs": [
    {
     "data": {
      "text/html": [
       "<div>\n",
       "<style scoped>\n",
       "    .dataframe tbody tr th:only-of-type {\n",
       "        vertical-align: middle;\n",
       "    }\n",
       "\n",
       "    .dataframe tbody tr th {\n",
       "        vertical-align: top;\n",
       "    }\n",
       "\n",
       "    .dataframe thead th {\n",
       "        text-align: right;\n",
       "    }\n",
       "</style>\n",
       "<table border=\"1\" class=\"dataframe\">\n",
       "  <thead>\n",
       "    <tr style=\"text-align: right;\">\n",
       "      <th></th>\n",
       "      <th>laplacian</th>\n",
       "      <th>silhouette</th>\n",
       "      <th>adjusted_rand</th>\n",
       "      <th>clusters</th>\n",
       "    </tr>\n",
       "  </thead>\n",
       "  <tbody>\n",
       "    <tr>\n",
       "      <th>0</th>\n",
       "      <td>sym</td>\n",
       "      <td>-1.000000</td>\n",
       "      <td>0.019389</td>\n",
       "      <td>351</td>\n",
       "    </tr>\n",
       "    <tr>\n",
       "      <th>1</th>\n",
       "      <td>rw</td>\n",
       "      <td>-0.001225</td>\n",
       "      <td>0.000004</td>\n",
       "      <td>3261</td>\n",
       "    </tr>\n",
       "    <tr>\n",
       "      <th>2</th>\n",
       "      <td>ad</td>\n",
       "      <td>-0.004902</td>\n",
       "      <td>0.000014</td>\n",
       "      <td>3256</td>\n",
       "    </tr>\n",
       "  </tbody>\n",
       "</table>\n",
       "</div>"
      ],
      "text/plain": [
       "  laplacian  silhouette  adjusted_rand  clusters\n",
       "0       sym   -1.000000       0.019389       351\n",
       "1        rw   -0.001225       0.000004      3261\n",
       "2        ad   -0.004902       0.000014      3256"
      ]
     },
     "execution_count": 16,
     "metadata": {},
     "output_type": "execute_result"
    }
   ],
   "source": [
    "experiment_cora = pd.DataFrame(list(zip(laplacian,silhouette_scores,adjusted_rand_scores,clusters)), \n",
    "             columns= [\"laplacian\", \"silhouette\", \"adjusted_rand\",\"clusters\"])\n",
    "\n",
    "experiment_cora"
   ]
  },
  {
   "cell_type": "code",
   "execution_count": 6,
   "id": "d527970e-82dc-4d2e-b12a-875c4d48138d",
   "metadata": {},
   "outputs": [
    {
     "data": {
      "text/html": [
       "<div>\n",
       "<style scoped>\n",
       "    .dataframe tbody tr th:only-of-type {\n",
       "        vertical-align: middle;\n",
       "    }\n",
       "\n",
       "    .dataframe tbody tr th {\n",
       "        vertical-align: top;\n",
       "    }\n",
       "\n",
       "    .dataframe thead th {\n",
       "        text-align: right;\n",
       "    }\n",
       "</style>\n",
       "<table border=\"1\" class=\"dataframe\">\n",
       "  <thead>\n",
       "    <tr style=\"text-align: right;\">\n",
       "      <th></th>\n",
       "      <th>laplacian</th>\n",
       "      <th>silhouette</th>\n",
       "      <th>adjusted_rand</th>\n",
       "      <th>clusters</th>\n",
       "    </tr>\n",
       "  </thead>\n",
       "  <tbody>\n",
       "    <tr>\n",
       "      <th>0</th>\n",
       "      <td>sym</td>\n",
       "      <td>-0.998775</td>\n",
       "      <td>0.021017</td>\n",
       "      <td>351</td>\n",
       "    </tr>\n",
       "    <tr>\n",
       "      <th>1</th>\n",
       "      <td>rw</td>\n",
       "      <td>-0.001225</td>\n",
       "      <td>0.000004</td>\n",
       "      <td>3261</td>\n",
       "    </tr>\n",
       "    <tr>\n",
       "      <th>2</th>\n",
       "      <td>ad</td>\n",
       "      <td>-0.004902</td>\n",
       "      <td>0.000014</td>\n",
       "      <td>3256</td>\n",
       "    </tr>\n",
       "  </tbody>\n",
       "</table>\n",
       "</div>"
      ],
      "text/plain": [
       "  laplacian  silhouette  adjusted_rand  clusters\n",
       "0       sym   -0.998775       0.021017       351\n",
       "1        rw   -0.001225       0.000004      3261\n",
       "2        ad   -0.004902       0.000014      3256"
      ]
     },
     "execution_count": 6,
     "metadata": {},
     "output_type": "execute_result"
    }
   ],
   "source": [
    "experiment_cora = pd.DataFrame(list(zip(laplacian,silhouette_scores,adjusted_rand_scores,clusters)), \n",
    "             columns= [\"laplacian\", \"silhouette\", \"adjusted_rand\",\"clusters\"])\n",
    "\n",
    "experiment_cora"
   ]
  },
  {
   "cell_type": "code",
   "execution_count": 7,
   "id": "118a2960-589d-4e5e-a920-24d872a94e70",
   "metadata": {
    "scrolled": true
   },
   "outputs": [
    {
     "data": {
      "image/png": "[encoded data removed]",
      "text/plain": [
       "<Figure size 800x400 with 2 Axes>"
      ]
     },
     "metadata": {},
     "output_type": "display_data"
    }
   ],
   "source": [
    "# Create a figure and axis\n",
    "fig, ax = plt.subplots(figsize=(8, 4))\n",
    "\n",
    "# Plot time on the first y-axis\n",
    "ax.plot(experiment_cora['laplacian'], experiment_cora['silhouette'], marker='o', color='b', label='Time (seconds)')\n",
    "\n",
    "# Create a second y-axis\n",
    "ax2 = ax.twinx()\n",
    "\n",
    "# Plot memory on the second y-axis\n",
    "ax2.plot(experiment_cora['laplacian'], experiment_cora['adjusted_rand'], marker='x', color='r', label='Memory (KB)')\n",
    "\n",
    "# Set labels and legends\n",
    "ax.set_xlabel('laplacian')\n",
    "ax.set_ylabel('silhouette', color='b')\n",
    "ax2.set_ylabel('adjusted_rand', color='r')\n",
    "\n",
    "ax.set_ylim(-1.1, 1)\n",
    "ax2.set_ylim(-1.1, 1)  # Adjust the multiplier as needed\n",
    "\n",
    "\n",
    "# Add legends\n",
    "# ax.legend(loc='upper left')\n",
    "# ax2.legend(loc='upper right')\n",
    "\n",
    "# Show the plot\n",
    "plt.title('experiment_citeseer')\n",
    "plt.show()"
   ]
  },
  {
   "cell_type": "code",
   "execution_count": null,
   "id": "53e5a2af-3ad2-40c7-bb97-cb77d025f2a5",
   "metadata": {},
   "outputs": [],
   "source": [
    "# run spectral on sklearn"
   ]
  }
 ],
 "metadata": {
  "kernelspec": {
   "display_name": "Python3.8.10",
   "language": "python",
   "name": "python3.8.10"
  },
  "language_info": {
   "codemirror_mode": {
    "name": "ipython",
    "version": 3
   },
   "file_extension": ".py",
   "mimetype": "text/x-python",
   "name": "python",
   "nbconvert_exporter": "python",
   "pygments_lexer": "ipython3",
   "version": "3.8.10"
  }
 },
 "nbformat": 4,
 "nbformat_minor": 5
}
